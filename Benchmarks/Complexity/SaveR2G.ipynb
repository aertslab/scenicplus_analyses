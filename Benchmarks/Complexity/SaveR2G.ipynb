{
 "cells": [
  {
   "cell_type": "code",
   "execution_count": 2,
   "id": "a98463a1-d222-40af-b47b-7ee18a376f69",
   "metadata": {},
   "outputs": [],
   "source": [
    "path='/staging/leuven/stg_00002/lcb/cbravo/Multiomics_pipeline/analysis/DPCL/speed_benchmark/low_simulation/'\n",
    "folder='DPCL_cisTopicObject_3K_fragments_80_cells/'\n",
    "import pickle\n",
    "infile = open(path+folder+'scenicplus/scplus_obj.pkl', 'rb')\n",
    "scplus_obj = pickle.load(infile)\n",
    "infile.close()\n",
    "select = list(set(scplus_obj.uns['eRegulon_metadata']['Region']))\n",
    "scplus_obj.uns['region_to_gene'][scplus_obj.uns['region_to_gene']['region'].isin(select)].to_csv(path+folder+'scenicplus/region_to_gene_in_eGRN.tsv', sep='\\t')"
   ]
  },
  {
   "cell_type": "code",
   "execution_count": 3,
   "id": "bff22a51-0bbe-4c45-bd18-449ea47a2fc3",
   "metadata": {},
   "outputs": [],
   "source": [
    "path='/staging/leuven/stg_00002/lcb/cbravo/Multiomics_pipeline/analysis/DPCL/speed_benchmark/low_simulation/'\n",
    "folder='DPCL_cisTopicObject_3K_fragments_1K_cells/'\n",
    "import pickle\n",
    "infile = open(path+folder+'scenicplus/scplus_obj.pkl', 'rb')\n",
    "scplus_obj = pickle.load(infile)\n",
    "infile.close()\n",
    "select = list(set(scplus_obj.uns['eRegulon_metadata']['Region']))\n",
    "scplus_obj.uns['region_to_gene'][scplus_obj.uns['region_to_gene']['region'].isin(select)].to_csv(path+folder+'scenicplus/region_to_gene_in_eGRN.tsv', sep='\\t')"
   ]
  },
  {
   "cell_type": "code",
   "execution_count": 4,
   "id": "86877d6b-f0e5-4db4-8189-50edb6a4c920",
   "metadata": {},
   "outputs": [],
   "source": [
    "path='/staging/leuven/stg_00002/lcb/cbravo/Multiomics_pipeline/analysis/DPCL/speed_benchmark/low_simulation/'\n",
    "folder='DPCL_cisTopicObject_3K_fragments_10K_cells/'\n",
    "import pickle\n",
    "infile = open(path+folder+'scenicplus/scplus_obj.pkl', 'rb')\n",
    "scplus_obj = pickle.load(infile)\n",
    "infile.close()\n",
    "select = list(set(scplus_obj.uns['eRegulon_metadata']['Region']))\n",
    "scplus_obj.uns['region_to_gene'][scplus_obj.uns['region_to_gene']['region'].isin(select)].to_csv(path+folder+'scenicplus/region_to_gene_in_eGRN.tsv', sep='\\t')"
   ]
  },
  {
   "cell_type": "code",
   "execution_count": 5,
   "id": "704e4431-8fc6-49f5-b462-9652c1fde3ba",
   "metadata": {},
   "outputs": [],
   "source": [
    "path='/staging/leuven/stg_00002/lcb/cbravo/Multiomics_pipeline/analysis/DPCL/speed_benchmark/low_simulation/'\n",
    "folder='DPCL_cisTopicObject_3K_fragments_25K_cells/'\n",
    "import pickle\n",
    "infile = open(path+folder+'scenicplus/scplus_obj.pkl', 'rb')\n",
    "scplus_obj = pickle.load(infile)\n",
    "infile.close()\n",
    "select = list(set(scplus_obj.uns['eRegulon_metadata']['Region']))\n",
    "scplus_obj.uns['region_to_gene'][scplus_obj.uns['region_to_gene']['region'].isin(select)].to_csv(path+folder+'scenicplus/region_to_gene_in_eGRN.tsv', sep='\\t')"
   ]
  },
  {
   "cell_type": "code",
   "execution_count": 6,
   "id": "c307f6ab-daf0-463c-854b-be29695ab20c",
   "metadata": {},
   "outputs": [],
   "source": [
    "path='/staging/leuven/stg_00002/lcb/cbravo/Multiomics_pipeline/analysis/DPCL/speed_benchmark/medium_simulation/'\n",
    "folder='DPCL_cisTopicObject_10K_fragments_80_cells/'\n",
    "import pickle\n",
    "infile = open(path+folder+'scenicplus/scplus_obj.pkl', 'rb')\n",
    "scplus_obj = pickle.load(infile)\n",
    "infile.close()\n",
    "select = list(set(scplus_obj.uns['eRegulon_metadata']['Region']))\n",
    "scplus_obj.uns['region_to_gene'][scplus_obj.uns['region_to_gene']['region'].isin(select)].to_csv(path+folder+'scenicplus/region_to_gene_in_eGRN.tsv', sep='\\t')"
   ]
  },
  {
   "cell_type": "code",
   "execution_count": 7,
   "id": "87d1bb32-4fd7-4077-80b4-7ad008aafef6",
   "metadata": {},
   "outputs": [],
   "source": [
    "path='/staging/leuven/stg_00002/lcb/cbravo/Multiomics_pipeline/analysis/DPCL/speed_benchmark/medium_simulation/'\n",
    "folder='DPCL_cisTopicObject_10K_fragments_1K_cells/'\n",
    "import pickle\n",
    "infile = open(path+folder+'scenicplus/scplus_obj.pkl', 'rb')\n",
    "scplus_obj = pickle.load(infile)\n",
    "infile.close()\n",
    "select = list(set(scplus_obj.uns['eRegulon_metadata']['Region']))\n",
    "scplus_obj.uns['region_to_gene'][scplus_obj.uns['region_to_gene']['region'].isin(select)].to_csv(path+folder+'scenicplus/region_to_gene_in_eGRN.tsv', sep='\\t')"
   ]
  },
  {
   "cell_type": "code",
   "execution_count": 8,
   "id": "21df687f-4050-4534-8b1e-99eb915948f1",
   "metadata": {},
   "outputs": [],
   "source": [
    "path='/staging/leuven/stg_00002/lcb/cbravo/Multiomics_pipeline/analysis/DPCL/speed_benchmark/medium_simulation/'\n",
    "folder='DPCL_cisTopicObject_10K_fragments_10K_cells/'\n",
    "import pickle\n",
    "infile = open(path+folder+'scenicplus/scplus_obj.pkl', 'rb')\n",
    "scplus_obj = pickle.load(infile)\n",
    "infile.close()\n",
    "select = list(set(scplus_obj.uns['eRegulon_metadata']['Region']))\n",
    "scplus_obj.uns['region_to_gene'][scplus_obj.uns['region_to_gene']['region'].isin(select)].to_csv(path+folder+'scenicplus/region_to_gene_in_eGRN.tsv', sep='\\t')"
   ]
  },
  {
   "cell_type": "code",
   "execution_count": 9,
   "id": "b6980ef7-dd67-44c4-a8a9-cf7a079b764a",
   "metadata": {},
   "outputs": [],
   "source": [
    "path='/staging/leuven/stg_00002/lcb/cbravo/Multiomics_pipeline/analysis/DPCL/speed_benchmark/medium_simulation/'\n",
    "folder='DPCL_cisTopicObject_10K_fragments_25K_cells/'\n",
    "import pickle\n",
    "infile = open(path+folder+'scenicplus/scplus_obj.pkl', 'rb')\n",
    "scplus_obj = pickle.load(infile)\n",
    "infile.close()\n",
    "select = list(set(scplus_obj.uns['eRegulon_metadata']['Region']))\n",
    "scplus_obj.uns['region_to_gene'][scplus_obj.uns['region_to_gene']['region'].isin(select)].to_csv(path+folder+'scenicplus/region_to_gene_in_eGRN.tsv', sep='\\t')"
   ]
  },
  {
   "cell_type": "code",
   "execution_count": 10,
   "id": "e60d43da-75cd-4061-b24f-54d75330cd34",
   "metadata": {},
   "outputs": [],
   "source": [
    "path='/staging/leuven/stg_00002/lcb/cbravo/Multiomics_pipeline/analysis/DPCL/speed_benchmark/high_simulation/'\n",
    "folder='DPCL_cisTopicObject_20K_fragments_80_cells/'\n",
    "import pickle\n",
    "infile = open(path+folder+'scenicplus/scplus_obj.pkl', 'rb')\n",
    "scplus_obj = pickle.load(infile)\n",
    "infile.close()\n",
    "select = list(set(scplus_obj.uns['eRegulon_metadata']['Region']))\n",
    "scplus_obj.uns['region_to_gene'][scplus_obj.uns['region_to_gene']['region'].isin(select)].to_csv(path+folder+'scenicplus/region_to_gene_in_eGRN.tsv', sep='\\t')"
   ]
  },
  {
   "cell_type": "code",
   "execution_count": 11,
   "id": "297695e1-5730-4c71-8085-63a2d5c94e20",
   "metadata": {},
   "outputs": [],
   "source": [
    "path='/staging/leuven/stg_00002/lcb/cbravo/Multiomics_pipeline/analysis/DPCL/speed_benchmark/high_simulation/'\n",
    "folder='DPCL_cisTopicObject_20K_fragments_1K_cells/'\n",
    "import pickle\n",
    "infile = open(path+folder+'scenicplus/scplus_obj.pkl', 'rb')\n",
    "scplus_obj = pickle.load(infile)\n",
    "infile.close()\n",
    "select = list(set(scplus_obj.uns['eRegulon_metadata']['Region']))\n",
    "scplus_obj.uns['region_to_gene'][scplus_obj.uns['region_to_gene']['region'].isin(select)].to_csv(path+folder+'scenicplus/region_to_gene_in_eGRN.tsv', sep='\\t')"
   ]
  },
  {
   "cell_type": "code",
   "execution_count": 12,
   "id": "5b9ffcfb-8d39-4e94-8aef-b6d39450943f",
   "metadata": {},
   "outputs": [],
   "source": [
    "path='/staging/leuven/stg_00002/lcb/cbravo/Multiomics_pipeline/analysis/DPCL/speed_benchmark/high_simulation/'\n",
    "folder='DPCL_cisTopicObject_20K_fragments_10K_cells/'\n",
    "import pickle\n",
    "infile = open(path+folder+'scenicplus/scplus_obj.pkl', 'rb')\n",
    "scplus_obj = pickle.load(infile)\n",
    "infile.close()\n",
    "select = list(set(scplus_obj.uns['eRegulon_metadata']['Region']))\n",
    "scplus_obj.uns['region_to_gene'][scplus_obj.uns['region_to_gene']['region'].isin(select)].to_csv(path+folder+'scenicplus/region_to_gene_in_eGRN.tsv', sep='\\t')"
   ]
  },
  {
   "cell_type": "code",
   "execution_count": 13,
   "id": "aa0b6bcb-86f2-48ec-909c-d08cc885b7e4",
   "metadata": {},
   "outputs": [],
   "source": [
    "path='/staging/leuven/stg_00002/lcb/cbravo/Multiomics_pipeline/analysis/DPCL/speed_benchmark/high_simulation/'\n",
    "folder='DPCL_cisTopicObject_20K_fragments_25K_cells/'\n",
    "import pickle\n",
    "infile = open(path+folder+'scenicplus/scplus_obj.pkl', 'rb')\n",
    "scplus_obj = pickle.load(infile)\n",
    "infile.close()\n",
    "select = list(set(scplus_obj.uns['eRegulon_metadata']['Region']))\n",
    "scplus_obj.uns['region_to_gene'][scplus_obj.uns['region_to_gene']['region'].isin(select)].to_csv(path+folder+'scenicplus/region_to_gene_in_eGRN.tsv', sep='\\t')"
   ]
  },
  {
   "cell_type": "code",
   "execution_count": null,
   "id": "01e41407-3617-4316-951d-b42a7735d6e6",
   "metadata": {},
   "outputs": [],
   "source": []
  }
 ],
 "metadata": {
  "kernelspec": {
   "display_name": "DEV IMAGE - SCENIC+ latest (use at own risk)",
   "language": "python",
   "name": "pyscenic_plus_dev"
  },
  "language_info": {
   "codemirror_mode": {
    "name": "ipython",
    "version": 3
   },
   "file_extension": ".py",
   "mimetype": "text/x-python",
   "name": "python",
   "nbconvert_exporter": "python",
   "pygments_lexer": "ipython3",
   "version": "3.8.15"
  }
 },
 "nbformat": 4,
 "nbformat_minor": 5
}
