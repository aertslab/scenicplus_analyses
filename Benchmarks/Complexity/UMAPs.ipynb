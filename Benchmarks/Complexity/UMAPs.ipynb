{
 "cells": [
  {
   "cell_type": "code",
   "execution_count": 1,
   "id": "6110a6bb-564e-424d-b4ba-8bea78a39e3d",
   "metadata": {},
   "outputs": [],
   "source": [
    "import pickle\n",
    "infile = open('/staging/leuven/stg_00002/lcb/cbravo/Multiomics_pipeline/analysis/DPCL/scenicplus_track_motif/scplus_obj.pkl', 'rb')\n",
    "scplus_obj = pickle.load(infile)\n",
    "infile.close()\n",
    "\n",
    "import pickle\n",
    "infile = open('/staging/leuven/stg_00002/lcb/cbravo/Multiomics_pipeline/analysis/DPCL/scenicplus_V2_grnboost/region_ranking.pkl', 'rb')\n",
    "region_ranking = pickle.load(infile)\n",
    "infile.close()\n",
    "\n",
    "import pickle\n",
    "infile = open('/staging/leuven/stg_00002/lcb/cbravo/Multiomics_pipeline/analysis/DPCL/scenicplus_V2_grnboost/gene_ranking.pkl', 'rb')\n",
    "gene_ranking = pickle.load(infile)\n",
    "infile.close()"
   ]
  },
  {
   "cell_type": "code",
   "execution_count": null,
   "id": "b76485b3-fb16-4e60-983a-0c4e61bd0bd2",
   "metadata": {},
   "outputs": [],
   "source": []
  }
 ],
 "metadata": {
  "kernelspec": {
   "display_name": "DEV IMAGE - SCENIC+ latest (use at own risk)",
   "language": "python",
   "name": "pyscenic_plus_dev"
  },
  "language_info": {
   "codemirror_mode": {
    "name": "ipython",
    "version": 3
   },
   "file_extension": ".py",
   "mimetype": "text/x-python",
   "name": "python",
   "nbconvert_exporter": "python",
   "pygments_lexer": "ipython3",
   "version": "3.8.15"
  }
 },
 "nbformat": 4,
 "nbformat_minor": 5
}
