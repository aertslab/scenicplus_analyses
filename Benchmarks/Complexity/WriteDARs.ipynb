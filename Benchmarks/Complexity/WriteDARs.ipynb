{
 "cells": [
  {
   "cell_type": "code",
   "execution_count": 17,
   "id": "39570757-0621-404f-84da-479c14dbaa81",
   "metadata": {},
   "outputs": [],
   "source": [
    "path='/staging/leuven/stg_00002/lcb/cbravo/Multiomics_pipeline/analysis/DPCL/speed_benchmark/low_simulation/'\n",
    "folder='DPCL_cisTopicObject_3K_fragments_80_cells/'\n",
    "import pickle\n",
    "infile = open(path+folder+'DARs.pkl', 'rb')\n",
    "DARs = pickle.load(infile)\n",
    "infile.close()\n",
    "import pandas as pd\n",
    "pd.DataFrame([DARs[x].shape[0] for x in DARs.keys()], index=[x for x in DARs.keys()], columns=['nrRegions']).to_csv(path+folder+'DARs.tsv', sep='\\t')\n",
    "import pickle\n",
    "infile = open(path+folder+'binarized_topic_region.pkl', 'rb')\n",
    "topics = pickle.load(infile)\n",
    "infile.close()\n",
    "import pandas as pd\n",
    "pd.DataFrame([topics[x].shape[0] for x in topics.keys()], index=[x for x in topics.keys()], columns=['nrRegions']).to_csv(path+folder+'topics.tsv', sep='\\t')"
   ]
  },
  {
   "cell_type": "code",
   "execution_count": 18,
   "id": "046d5942-1dda-47ec-bc2e-b4fbf8031013",
   "metadata": {},
   "outputs": [],
   "source": [
    "path='/staging/leuven/stg_00002/lcb/cbravo/Multiomics_pipeline/analysis/DPCL/speed_benchmark/low_simulation/'\n",
    "folder='DPCL_cisTopicObject_3K_fragments_1K_cells/'\n",
    "import pickle\n",
    "infile = open(path+folder+'DARs.pkl', 'rb')\n",
    "DARs = pickle.load(infile)\n",
    "infile.close()\n",
    "import pandas as pd\n",
    "pd.DataFrame([DARs[x].shape[0] for x in DARs.keys()], index=[x for x in DARs.keys()], columns=['nrRegions']).to_csv(path+folder+'DARs.tsv', sep='\\t')\n",
    "import pickle\n",
    "infile = open(path+folder+'binarized_topic_region.pkl', 'rb')\n",
    "topics = pickle.load(infile)\n",
    "infile.close()\n",
    "import pandas as pd\n",
    "pd.DataFrame([topics[x].shape[0] for x in topics.keys()], index=[x for x in topics.keys()], columns=['nrRegions']).to_csv(path+folder+'topics.tsv', sep='\\t')"
   ]
  },
  {
   "cell_type": "code",
   "execution_count": 19,
   "id": "5c6f9083-50ef-4c41-82e2-568e2f9992bd",
   "metadata": {},
   "outputs": [],
   "source": [
    "path='/staging/leuven/stg_00002/lcb/cbravo/Multiomics_pipeline/analysis/DPCL/speed_benchmark/low_simulation/'\n",
    "folder='DPCL_cisTopicObject_3K_fragments_10K_cells/'\n",
    "import pickle\n",
    "infile = open(path+folder+'DARs.pkl', 'rb')\n",
    "DARs = pickle.load(infile)\n",
    "infile.close()\n",
    "import pandas as pd\n",
    "pd.DataFrame([DARs[x].shape[0] for x in DARs.keys()], index=[x for x in DARs.keys()], columns=['nrRegions']).to_csv(path+folder+'DARs.tsv', sep='\\t')\n",
    "import pickle\n",
    "infile = open(path+folder+'binarized_topic_region.pkl', 'rb')\n",
    "topics = pickle.load(infile)\n",
    "infile.close()\n",
    "import pandas as pd\n",
    "pd.DataFrame([topics[x].shape[0] for x in topics.keys()], index=[x for x in topics.keys()], columns=['nrRegions']).to_csv(path+folder+'topics.tsv', sep='\\t')"
   ]
  },
  {
   "cell_type": "code",
   "execution_count": 20,
   "id": "002dc507-34c2-42ba-a06a-64df0c65d562",
   "metadata": {},
   "outputs": [],
   "source": [
    "path='/staging/leuven/stg_00002/lcb/cbravo/Multiomics_pipeline/analysis/DPCL/speed_benchmark/low_simulation/'\n",
    "folder='DPCL_cisTopicObject_3K_fragments_25K_cells/'\n",
    "import pickle\n",
    "infile = open(path+folder+'DARs.pkl', 'rb')\n",
    "DARs = pickle.load(infile)\n",
    "infile.close()\n",
    "import pandas as pd\n",
    "pd.DataFrame([DARs[x].shape[0] for x in DARs.keys()], index=[x for x in DARs.keys()], columns=['nrRegions']).to_csv(path+folder+'DARs.tsv', sep='\\t')\n",
    "import pickle\n",
    "infile = open(path+folder+'binarized_topic_region.pkl', 'rb')\n",
    "topics = pickle.load(infile)\n",
    "infile.close()\n",
    "import pandas as pd\n",
    "pd.DataFrame([topics[x].shape[0] for x in topics.keys()], index=[x for x in topics.keys()], columns=['nrRegions']).to_csv(path+folder+'topics.tsv', sep='\\t')"
   ]
  },
  {
   "cell_type": "code",
   "execution_count": 21,
   "id": "9bb6bd56-26e9-4a89-a670-2fe557930d28",
   "metadata": {},
   "outputs": [],
   "source": [
    "path='/staging/leuven/stg_00002/lcb/cbravo/Multiomics_pipeline/analysis/DPCL/speed_benchmark/medium_simulation/'\n",
    "folder='DPCL_cisTopicObject_10K_fragments_80_cells/'\n",
    "import pickle\n",
    "infile = open(path+folder+'DARs.pkl', 'rb')\n",
    "DARs = pickle.load(infile)\n",
    "infile.close()\n",
    "import pandas as pd\n",
    "pd.DataFrame([DARs[x].shape[0] for x in DARs.keys()], index=[x for x in DARs.keys()], columns=['nrRegions']).to_csv(path+folder+'DARs.tsv', sep='\\t')\n",
    "import pickle\n",
    "infile = open(path+folder+'binarized_topic_region.pkl', 'rb')\n",
    "topics = pickle.load(infile)\n",
    "infile.close()\n",
    "import pandas as pd\n",
    "pd.DataFrame([topics[x].shape[0] for x in topics.keys()], index=[x for x in topics.keys()], columns=['nrRegions']).to_csv(path+folder+'topics.tsv', sep='\\t')"
   ]
  },
  {
   "cell_type": "code",
   "execution_count": 22,
   "id": "97b7fa15-bed2-4a51-81a7-ec5f121d5ab2",
   "metadata": {},
   "outputs": [],
   "source": [
    "path='/staging/leuven/stg_00002/lcb/cbravo/Multiomics_pipeline/analysis/DPCL/speed_benchmark/medium_simulation/'\n",
    "folder='DPCL_cisTopicObject_10K_fragments_1K_cells/'\n",
    "import pickle\n",
    "infile = open(path+folder+'DARs.pkl', 'rb')\n",
    "DARs = pickle.load(infile)\n",
    "infile.close()\n",
    "import pandas as pd\n",
    "pd.DataFrame([DARs[x].shape[0] for x in DARs.keys()], index=[x for x in DARs.keys()], columns=['nrRegions']).to_csv(path+folder+'DARs.tsv', sep='\\t')\n",
    "import pickle\n",
    "infile = open(path+folder+'binarized_topic_region.pkl', 'rb')\n",
    "topics = pickle.load(infile)\n",
    "infile.close()\n",
    "import pandas as pd\n",
    "pd.DataFrame([topics[x].shape[0] for x in topics.keys()], index=[x for x in topics.keys()], columns=['nrRegions']).to_csv(path+folder+'topics.tsv', sep='\\t')"
   ]
  },
  {
   "cell_type": "code",
   "execution_count": 23,
   "id": "65185daa-0c43-4c6b-841c-01b2398ca5cf",
   "metadata": {},
   "outputs": [],
   "source": [
    "path='/staging/leuven/stg_00002/lcb/cbravo/Multiomics_pipeline/analysis/DPCL/speed_benchmark/medium_simulation/'\n",
    "folder='DPCL_cisTopicObject_10K_fragments_10K_cells/'\n",
    "import pickle\n",
    "infile = open(path+folder+'DARs.pkl', 'rb')\n",
    "DARs = pickle.load(infile)\n",
    "infile.close()\n",
    "import pandas as pd\n",
    "pd.DataFrame([DARs[x].shape[0] for x in DARs.keys()], index=[x for x in DARs.keys()], columns=['nrRegions']).to_csv(path+folder+'DARs.tsv', sep='\\t')\n",
    "import pickle\n",
    "infile = open(path+folder+'binarized_topic_region.pkl', 'rb')\n",
    "topics = pickle.load(infile)\n",
    "infile.close()\n",
    "import pandas as pd\n",
    "pd.DataFrame([topics[x].shape[0] for x in topics.keys()], index=[x for x in topics.keys()], columns=['nrRegions']).to_csv(path+folder+'topics.tsv', sep='\\t')"
   ]
  },
  {
   "cell_type": "code",
   "execution_count": 25,
   "id": "98e25e78-7f5a-4789-be50-a16f8b094d7b",
   "metadata": {},
   "outputs": [],
   "source": [
    "path='/staging/leuven/stg_00002/lcb/cbravo/Multiomics_pipeline/analysis/DPCL/speed_benchmark/medium_simulation/'\n",
    "folder='DPCL_cisTopicObject_10K_fragments_25K_cells/'\n",
    "import pickle\n",
    "infile = open(path+folder+'DARs.pkl', 'rb')\n",
    "DARs = pickle.load(infile)\n",
    "infile.close()\n",
    "import pandas as pd\n",
    "pd.DataFrame([DARs[x].shape[0] for x in DARs.keys()], index=[x for x in DARs.keys()], columns=['nrRegions']).to_csv(path+folder+'DARs.tsv', sep='\\t')\n",
    "import pickle\n",
    "infile = open(path+folder+'binarized_topic_region.pkl', 'rb')\n",
    "topics = pickle.load(infile)\n",
    "infile.close()\n",
    "import pandas as pd\n",
    "pd.DataFrame([topics[x].shape[0] for x in topics.keys()], index=[x for x in topics.keys()], columns=['nrRegions']).to_csv(path+folder+'topics.tsv', sep='\\t')"
   ]
  },
  {
   "cell_type": "code",
   "execution_count": 27,
   "id": "45da1757-eaff-4299-8415-2bdddd01bebc",
   "metadata": {},
   "outputs": [],
   "source": [
    "path='/staging/leuven/stg_00002/lcb/cbravo/Multiomics_pipeline/analysis/DPCL/speed_benchmark/high_simulation/'\n",
    "folder='DPCL_cisTopicObject_20K_fragments_80_cells/'\n",
    "import pickle\n",
    "infile = open(path+folder+'DARs.pkl', 'rb')\n",
    "DARs = pickle.load(infile)\n",
    "infile.close()\n",
    "import pandas as pd\n",
    "pd.DataFrame([DARs[x].shape[0] for x in DARs.keys()], index=[x for x in DARs.keys()], columns=['nrRegions']).to_csv(path+folder+'DARs.tsv', sep='\\t')\n",
    "import pickle\n",
    "infile = open(path+folder+'binarized_topic_region.pkl', 'rb')\n",
    "topics = pickle.load(infile)\n",
    "infile.close()\n",
    "import pandas as pd\n",
    "pd.DataFrame([topics[x].shape[0] for x in topics.keys()], index=[x for x in topics.keys()], columns=['nrRegions']).to_csv(path+folder+'topics.tsv', sep='\\t')"
   ]
  },
  {
   "cell_type": "code",
   "execution_count": 28,
   "id": "11878502-fd9f-442f-a20e-972b003ebf0e",
   "metadata": {},
   "outputs": [],
   "source": [
    "path='/staging/leuven/stg_00002/lcb/cbravo/Multiomics_pipeline/analysis/DPCL/speed_benchmark/high_simulation/'\n",
    "folder='DPCL_cisTopicObject_20K_fragments_1K_cells/'\n",
    "import pickle\n",
    "infile = open(path+folder+'DARs.pkl', 'rb')\n",
    "DARs = pickle.load(infile)\n",
    "infile.close()\n",
    "import pandas as pd\n",
    "pd.DataFrame([DARs[x].shape[0] for x in DARs.keys()], index=[x for x in DARs.keys()], columns=['nrRegions']).to_csv(path+folder+'DARs.tsv', sep='\\t')\n",
    "import pickle\n",
    "infile = open(path+folder+'binarized_topic_region.pkl', 'rb')\n",
    "topics = pickle.load(infile)\n",
    "infile.close()\n",
    "import pandas as pd\n",
    "pd.DataFrame([topics[x].shape[0] for x in topics.keys()], index=[x for x in topics.keys()], columns=['nrRegions']).to_csv(path+folder+'topics.tsv', sep='\\t')"
   ]
  },
  {
   "cell_type": "code",
   "execution_count": 29,
   "id": "e294031e-f592-4389-8c43-2d37bc0b5cde",
   "metadata": {},
   "outputs": [],
   "source": [
    "path='/staging/leuven/stg_00002/lcb/cbravo/Multiomics_pipeline/analysis/DPCL/speed_benchmark/high_simulation/'\n",
    "folder='DPCL_cisTopicObject_20K_fragments_10K_cells/'\n",
    "import pickle\n",
    "infile = open(path+folder+'DARs.pkl', 'rb')\n",
    "DARs = pickle.load(infile)\n",
    "infile.close()\n",
    "import pandas as pd\n",
    "pd.DataFrame([DARs[x].shape[0] for x in DARs.keys()], index=[x for x in DARs.keys()], columns=['nrRegions']).to_csv(path+folder+'DARs.tsv', sep='\\t')\n",
    "import pickle\n",
    "infile = open(path+folder+'binarized_topic_region.pkl', 'rb')\n",
    "topics = pickle.load(infile)\n",
    "infile.close()\n",
    "import pandas as pd\n",
    "pd.DataFrame([topics[x].shape[0] for x in topics.keys()], index=[x for x in topics.keys()], columns=['nrRegions']).to_csv(path+folder+'topics.tsv', sep='\\t')"
   ]
  },
  {
   "cell_type": "code",
   "execution_count": 31,
   "id": "697c9359-dfd9-4a9f-97ed-408dc28237e5",
   "metadata": {},
   "outputs": [],
   "source": [
    "path='/staging/leuven/stg_00002/lcb/cbravo/Multiomics_pipeline/analysis/DPCL/speed_benchmark/high_simulation/'\n",
    "folder='DPCL_cisTopicObject_20K_fragments_25K_cells/'\n",
    "import pickle\n",
    "infile = open(path+folder+'DARs.pkl', 'rb')\n",
    "DARs = pickle.load(infile)\n",
    "infile.close()\n",
    "import pandas as pd\n",
    "pd.DataFrame([DARs[x].shape[0] for x in DARs.keys()], index=[x for x in DARs.keys()], columns=['nrRegions']).to_csv(path+folder+'DARs.tsv', sep='\\t')\n",
    "import pickle\n",
    "infile = open(path+folder+'binarized_topic_region.pkl', 'rb')\n",
    "topics = pickle.load(infile)\n",
    "infile.close()\n",
    "import pandas as pd\n",
    "pd.DataFrame([topics[x].shape[0] for x in topics.keys()], index=[x for x in topics.keys()], columns=['nrRegions']).to_csv(path+folder+'topics.tsv', sep='\\t')"
   ]
  },
  {
   "cell_type": "code",
   "execution_count": null,
   "id": "551ab008-3f4c-4900-a66d-ce8de922a086",
   "metadata": {},
   "outputs": [],
   "source": []
  }
 ],
 "metadata": {
  "kernelspec": {
   "display_name": "DEV IMAGE - SCENIC+ latest (use at own risk)",
   "language": "python",
   "name": "pyscenic_plus_dev"
  },
  "language_info": {
   "codemirror_mode": {
    "name": "ipython",
    "version": 3
   },
   "file_extension": ".py",
   "mimetype": "text/x-python",
   "name": "python",
   "nbconvert_exporter": "python",
   "pygments_lexer": "ipython3",
   "version": "3.8.15"
  }
 },
 "nbformat": 4,
 "nbformat_minor": 5
}
