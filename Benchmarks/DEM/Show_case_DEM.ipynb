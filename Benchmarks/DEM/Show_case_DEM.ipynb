{
 "cells": [
  {
   "cell_type": "code",
   "execution_count": 1,
   "id": "f9964d47-24ec-4cc0-b981-3e7ad9395303",
   "metadata": {},
   "outputs": [],
   "source": [
    "import pyranges as pr\n",
    "import os\n",
    "region_sets = {}\n",
    "region_sets['Sox9_astrocytes']=pr.read_bed('/staging/leuven/stg_00002/lcb/cbravo/Multiomics_pipeline/analysis/10x_multiome_mouse_cortex/TEW_cortex/scenicplus_v10_v2/grnboost_autoreg/Sox9_+_+_hg38.bed')\n",
    "region_sets['Sox10_oligo']=pr.read_bed('/staging/leuven/stg_00002/lcb/cbravo/Multiomics_pipeline/analysis/10x_multiome_mouse_cortex/TEW_cortex/scenicplus_v10_v2/grnboost_autoreg/Sox10_+_+_hg38.bed')\n",
    "region_sets['Sox10_mel']=pr.read_bed('/staging/leuven/stg_00002/lcb/sdewin/PhD/papers/SCENICPLUS_BravoDeWinter_etal_2022/revisions_nat_meth/data/SOX10_+_3192r_eRegulon_MM_lines.bed')"
   ]
  },
  {
   "cell_type": "code",
   "execution_count": 5,
   "id": "e9e535f1-703a-47b8-9c20-73a806901223",
   "metadata": {},
   "outputs": [
    {
     "name": "stdout",
     "output_type": "stream",
     "text": [
      "2022-12-05 18:51:02,140 cisTarget    INFO     Reading cisTarget database\n",
      "2022-12-05 18:52:45,229 cisTarget    INFO     Running cisTarget for Sox9_astrocytes which has 183 regions\n",
      "2022-12-05 18:53:11,941 cisTarget    INFO     Annotating motifs for Sox9_astrocytes\n",
      "2022-12-05 18:53:14,319 cisTarget    INFO     Getting cistromes for Sox9_astrocytes\n",
      "2022-12-05 18:53:14,633 cisTarget    INFO     Running cisTarget for Sox10_oligo which has 763 regions\n",
      "2022-12-05 18:53:35,486 cisTarget    INFO     Annotating motifs for Sox10_oligo\n",
      "2022-12-05 18:53:37,830 cisTarget    INFO     Getting cistromes for Sox10_oligo\n",
      "2022-12-05 18:53:38,065 cisTarget    INFO     Running cisTarget for Sox10_mel which has 3288 regions\n",
      "2022-12-05 18:53:59,736 cisTarget    INFO     Annotating motifs for Sox10_mel\n",
      "2022-12-05 18:54:02,304 cisTarget    INFO     Getting cistromes for Sox10_mel\n",
      "2022-12-05 18:54:02,425 cisTarget    INFO     Done!\n"
     ]
    }
   ],
   "source": [
    "# cisTarget - All\n",
    "# Load cistarget functions\n",
    "from pycistarget.motif_enrichment_cistarget import *\n",
    "# Preload db, you can also just provide the path to the db. Preloading the database is useful if you want to test different parameters.\n",
    "db = '/staging/leuven/stg_00002/lcb/icistarget/data/make_rankings/v10_clust/CTX_hg38/cluster_SCREEN.regions_vs_motifs.rankings.v2.feather'                       \n",
    "ctx_db = cisTargetDatabase(db, region_sets)   \n",
    "# Run (r06i00n12)\n",
    "cistarget_dict = run_cistarget(ctx_db = ctx_db,\n",
    "                               region_sets = region_sets,\n",
    "                               specie = 'homo_sapiens',\n",
    "                               auc_threshold = 0.005,\n",
    "                               nes_threshold = 3.0,\n",
    "                               rank_threshold = 0.05,\n",
    "                               annotation = ['Direct_annot', 'Orthology_annot'],\n",
    "                               path_to_motif_annotations = '/staging/leuven/stg_00002/lcb/cbravo/cluster_motif_collection_V10_no_desso_no_factorbook/snapshots/motifs-v10nr_clust-nr.hgnc-m0.00001-o0.0.tbl',\n",
    "                               n_cpu = 1,\n",
    "                               _temp_dir='/scratch/leuven/313/vsc31305/ray_spill',\n",
    "                               annotation_version = 'v10nr_clust')\n",
    "# Save pkl\n",
    "import pickle\n",
    "with open('/staging/leuven/stg_00002/lcb/cbravo/Multiomics_pipeline/analysis/DEM_showcase/cisTarget_dict.pkl', 'wb') as f:\n",
    "  pickle.dump(cistarget_dict, f)\n",
    "# Save html\n",
    "for x in cistarget_dict.keys():\n",
    "    out_file = '/staging/leuven/stg_00002/lcb/cbravo/Multiomics_pipeline/analysis/DEM_showcase/'+ str(x) + '.html'\n",
    "    cistarget_dict[str(x)].motif_enrichment.to_html(open(out_file, 'w'), escape=False, col_space=80)"
   ]
  },
  {
   "cell_type": "code",
   "execution_count": 2,
   "id": "908a4cc5-b148-4cd7-8a63-b0b945d95a26",
   "metadata": {},
   "outputs": [
    {
     "name": "stdout",
     "output_type": "stream",
     "text": [
      "2022-12-05 19:03:02,931 DEM          INFO     Reading DEM database\n",
      "2022-12-05 19:03:37,895 DEM          INFO     Creating contrast groups\n",
      "2022-12-05 19:03:38,888 DEM          INFO     Computing DEM for Sox9_astrocytes\n",
      "2022-12-05 19:03:44,451 DEM          INFO     Computing DEM for Sox10_oligo\n",
      "2022-12-05 19:03:49,052 DEM          INFO     Computing DEM for Sox10_mel\n",
      "2022-12-05 19:03:56,151 DEM          INFO     Forming cistromes\n",
      "2022-12-05 19:03:56,163 DEM          INFO     Done!\n"
     ]
    },
    {
     "ename": "NameError",
     "evalue": "name 'cistarget_dict' is not defined",
     "output_type": "error",
     "traceback": [
      "\u001b[0;31m---------------------------------------------------------------------------\u001b[0m",
      "\u001b[0;31mNameError\u001b[0m                                 Traceback (most recent call last)",
      "Cell \u001b[0;32mIn [2], line 22\u001b[0m\n\u001b[1;32m     20\u001b[0m   pickle\u001b[38;5;241m.\u001b[39mdump(DEM_dict, f)\n\u001b[1;32m     21\u001b[0m \u001b[38;5;66;03m# Save html\u001b[39;00m\n\u001b[0;32m---> 22\u001b[0m \u001b[38;5;28;01mfor\u001b[39;00m x \u001b[38;5;129;01min\u001b[39;00m \u001b[43mcistarget_dict\u001b[49m\u001b[38;5;241m.\u001b[39mkeys():\n\u001b[1;32m     23\u001b[0m     out_file \u001b[38;5;241m=\u001b[39m \u001b[38;5;124m'\u001b[39m\u001b[38;5;124m/staging/leuven/stg_00002/lcb/cbravo/Multiomics_pipeline/analysis/DEM_showcase/\u001b[39m\u001b[38;5;124m'\u001b[39m\u001b[38;5;241m+\u001b[39m \u001b[38;5;28mstr\u001b[39m(x) \u001b[38;5;241m+\u001b[39m \u001b[38;5;124m'\u001b[39m\u001b[38;5;124m_DEM.html\u001b[39m\u001b[38;5;124m'\u001b[39m\n\u001b[1;32m     24\u001b[0m     DEM_dict\u001b[38;5;241m.\u001b[39mmotif_enrichment[\u001b[38;5;28mstr\u001b[39m(x)]\u001b[38;5;241m.\u001b[39mto_html(\u001b[38;5;28mopen\u001b[39m(out_file, \u001b[38;5;124m'\u001b[39m\u001b[38;5;124mw\u001b[39m\u001b[38;5;124m'\u001b[39m), escape\u001b[38;5;241m=\u001b[39m\u001b[38;5;28;01mFalse\u001b[39;00m, col_space\u001b[38;5;241m=\u001b[39m\u001b[38;5;241m80\u001b[39m)\n",
      "\u001b[0;31mNameError\u001b[0m: name 'cistarget_dict' is not defined"
     ]
    }
   ],
   "source": [
    "# cisTarget - All\n",
    "# Load cistarget functions\n",
    "from pycistarget.motif_enrichment_dem import *\n",
    "# Preload db, you can also just provide the path to the db. Preloading the database is useful if you want to test different parameters.\n",
    "db = '/staging/leuven/stg_00002/lcb/icistarget/data/make_rankings/v10_clust/CTX_hg38/cluster_SCREEN.regions_vs_motifs.scores.v2.feather'                       \n",
    "dem_db = DEMDatabase(db, region_sets)   \n",
    "# Run (r06i00n12)\n",
    "DEM_dict = DEM(dem_db = dem_db,\n",
    "                               region_sets = region_sets,\n",
    "                               specie = 'homo_sapiens',\n",
    "                               motif_annotation = ['Direct_annot', 'Orthology_annot'],\n",
    "                               path_to_motif_annotations = '/staging/leuven/stg_00002/lcb/cbravo/cluster_motif_collection_V10_no_desso_no_factorbook/snapshots/motifs-v10nr_clust-nr.hgnc-m0.00001-o0.0.tbl',\n",
    "                               n_cpu = 1,\n",
    "                               tmp_dir='/scratch/leuven/313/vsc31305/ray_spill',\n",
    "                               _temp_dir='/scratch/leuven/313/vsc31305/ray_spill',\n",
    "                               annotation_version = 'v10nr_clust')\n",
    "# Save pkl\n",
    "import pickle\n",
    "with open('/staging/leuven/stg_00002/lcb/cbravo/Multiomics_pipeline/analysis/DEM_showcase/DEM_dict.pkl', 'wb') as f:\n",
    "  pickle.dump(DEM_dict, f)\n",
    "# Save html\n",
    "for x in DEM_dict.keys():\n",
    "    out_file = '/staging/leuven/stg_00002/lcb/cbravo/Multiomics_pipeline/analysis/DEM_showcase/'+ str(x) + '_DEM.html'\n",
    "    DEM_dict.motif_enrichment[str(x)].to_html(open(out_file, 'w'), escape=False, col_space=80)"
   ]
  },
  {
   "cell_type": "code",
   "execution_count": 4,
   "id": "f977b3e9-94f4-4b2f-89c7-21b29f79357f",
   "metadata": {},
   "outputs": [],
   "source": [
    "# Save html\n",
    "for x in DEM_dict.motif_enrichment.keys():\n",
    "    out_file = '/staging/leuven/stg_00002/lcb/cbravo/Multiomics_pipeline/analysis/DEM_showcase/'+ str(x) + '_DEM.html'\n",
    "    DEM_dict.motif_enrichment[str(x)].to_html(open(out_file, 'w'), escape=False, col_space=80)"
   ]
  },
  {
   "cell_type": "markdown",
   "id": "b45a1305-243a-469d-9227-8a46dcae9021",
   "metadata": {},
   "source": [
    "## Using DARs instead"
   ]
  },
  {
   "cell_type": "code",
   "execution_count": 5,
   "id": "35737556-e280-4d4c-93ce-30048f904977",
   "metadata": {},
   "outputs": [],
   "source": [
    "import pickle\n",
    "infile = open('/staging/leuven/stg_00002/lcb/nhecker/cross_species/snare_seq/human/pycistarget_v10_2022_04_27/menr.pkl', 'rb')\n",
    "menr = pickle.load(infile)\n",
    "infile.close()"
   ]
  },
  {
   "cell_type": "code",
   "execution_count": 15,
   "id": "8d34834b-56e4-4990-84b7-ceaa156459a9",
   "metadata": {},
   "outputs": [
    {
     "name": "stderr",
     "output_type": "stream",
     "text": [
      "/opt/venv/lib/python3.8/site-packages/pyranges/out.py:37: FutureWarning: Passing a set as an indexer is deprecated and will raise in a future version. Use a list instead.\n",
      "  return pd.concat([outdf, df.get(noncanonical)], axis=1)\n",
      "/opt/venv/lib/python3.8/site-packages/pyranges/out.py:37: FutureWarning: Passing a set as an indexer is deprecated and will raise in a future version. Use a list instead.\n",
      "  return pd.concat([outdf, df.get(noncanonical)], axis=1)\n",
      "/opt/venv/lib/python3.8/site-packages/pyranges/out.py:37: FutureWarning: Passing a set as an indexer is deprecated and will raise in a future version. Use a list instead.\n",
      "  return pd.concat([outdf, df.get(noncanonical)], axis=1)\n",
      "/opt/venv/lib/python3.8/site-packages/pyranges/out.py:37: FutureWarning: Passing a set as an indexer is deprecated and will raise in a future version. Use a list instead.\n",
      "  return pd.concat([outdf, df.get(noncanonical)], axis=1)\n",
      "/opt/venv/lib/python3.8/site-packages/pyranges/out.py:37: FutureWarning: Passing a set as an indexer is deprecated and will raise in a future version. Use a list instead.\n",
      "  return pd.concat([outdf, df.get(noncanonical)], axis=1)\n",
      "/opt/venv/lib/python3.8/site-packages/pyranges/out.py:37: FutureWarning: Passing a set as an indexer is deprecated and will raise in a future version. Use a list instead.\n",
      "  return pd.concat([outdf, df.get(noncanonical)], axis=1)\n",
      "/opt/venv/lib/python3.8/site-packages/pyranges/out.py:37: FutureWarning: Passing a set as an indexer is deprecated and will raise in a future version. Use a list instead.\n",
      "  return pd.concat([outdf, df.get(noncanonical)], axis=1)\n",
      "/opt/venv/lib/python3.8/site-packages/pyranges/out.py:37: FutureWarning: Passing a set as an indexer is deprecated and will raise in a future version. Use a list instead.\n",
      "  return pd.concat([outdf, df.get(noncanonical)], axis=1)\n",
      "/opt/venv/lib/python3.8/site-packages/pyranges/out.py:37: FutureWarning: Passing a set as an indexer is deprecated and will raise in a future version. Use a list instead.\n",
      "  return pd.concat([outdf, df.get(noncanonical)], axis=1)\n",
      "/opt/venv/lib/python3.8/site-packages/pyranges/out.py:37: FutureWarning: Passing a set as an indexer is deprecated and will raise in a future version. Use a list instead.\n",
      "  return pd.concat([outdf, df.get(noncanonical)], axis=1)\n",
      "/opt/venv/lib/python3.8/site-packages/pyranges/out.py:37: FutureWarning: Passing a set as an indexer is deprecated and will raise in a future version. Use a list instead.\n",
      "  return pd.concat([outdf, df.get(noncanonical)], axis=1)\n",
      "/opt/venv/lib/python3.8/site-packages/pyranges/out.py:37: FutureWarning: Passing a set as an indexer is deprecated and will raise in a future version. Use a list instead.\n",
      "  return pd.concat([outdf, df.get(noncanonical)], axis=1)\n",
      "/opt/venv/lib/python3.8/site-packages/pyranges/out.py:37: FutureWarning: Passing a set as an indexer is deprecated and will raise in a future version. Use a list instead.\n",
      "  return pd.concat([outdf, df.get(noncanonical)], axis=1)\n",
      "/opt/venv/lib/python3.8/site-packages/pyranges/out.py:37: FutureWarning: Passing a set as an indexer is deprecated and will raise in a future version. Use a list instead.\n",
      "  return pd.concat([outdf, df.get(noncanonical)], axis=1)\n",
      "/opt/venv/lib/python3.8/site-packages/pyranges/out.py:37: FutureWarning: Passing a set as an indexer is deprecated and will raise in a future version. Use a list instead.\n",
      "  return pd.concat([outdf, df.get(noncanonical)], axis=1)\n",
      "/opt/venv/lib/python3.8/site-packages/pyranges/out.py:37: FutureWarning: Passing a set as an indexer is deprecated and will raise in a future version. Use a list instead.\n",
      "  return pd.concat([outdf, df.get(noncanonical)], axis=1)\n",
      "/opt/venv/lib/python3.8/site-packages/pyranges/out.py:37: FutureWarning: Passing a set as an indexer is deprecated and will raise in a future version. Use a list instead.\n",
      "  return pd.concat([outdf, df.get(noncanonical)], axis=1)\n",
      "/opt/venv/lib/python3.8/site-packages/pyranges/out.py:37: FutureWarning: Passing a set as an indexer is deprecated and will raise in a future version. Use a list instead.\n",
      "  return pd.concat([outdf, df.get(noncanonical)], axis=1)\n",
      "/opt/venv/lib/python3.8/site-packages/pyranges/out.py:37: FutureWarning: Passing a set as an indexer is deprecated and will raise in a future version. Use a list instead.\n",
      "  return pd.concat([outdf, df.get(noncanonical)], axis=1)\n",
      "/opt/venv/lib/python3.8/site-packages/pyranges/out.py:37: FutureWarning: Passing a set as an indexer is deprecated and will raise in a future version. Use a list instead.\n",
      "  return pd.concat([outdf, df.get(noncanonical)], axis=1)\n",
      "/opt/venv/lib/python3.8/site-packages/pyranges/out.py:37: FutureWarning: Passing a set as an indexer is deprecated and will raise in a future version. Use a list instead.\n",
      "  return pd.concat([outdf, df.get(noncanonical)], axis=1)\n",
      "/opt/venv/lib/python3.8/site-packages/pyranges/out.py:37: FutureWarning: Passing a set as an indexer is deprecated and will raise in a future version. Use a list instead.\n",
      "  return pd.concat([outdf, df.get(noncanonical)], axis=1)\n",
      "/opt/venv/lib/python3.8/site-packages/pyranges/out.py:37: FutureWarning: Passing a set as an indexer is deprecated and will raise in a future version. Use a list instead.\n",
      "  return pd.concat([outdf, df.get(noncanonical)], axis=1)\n"
     ]
    }
   ],
   "source": [
    "from pycistarget.utils import *\n",
    "import pyranges as pr\n",
    "pr.PyRanges(region_names_to_coordinates(menr['CTX_DARs_All']['AST'].cistromes['Region_set']['SOX9_(2457r)'])).to_bed('/staging/leuven/stg_00002/lcb/cbravo/Multiomics_pipeline/analysis/DEM_showcase/SOX9_AST.bed')"
   ]
  },
  {
   "cell_type": "code",
   "execution_count": 19,
   "id": "23320cd0-3d69-4bdf-b162-24e9054b181a",
   "metadata": {},
   "outputs": [
    {
     "name": "stderr",
     "output_type": "stream",
     "text": [
      "/opt/venv/lib/python3.8/site-packages/pyranges/out.py:37: FutureWarning: Passing a set as an indexer is deprecated and will raise in a future version. Use a list instead.\n",
      "  return pd.concat([outdf, df.get(noncanonical)], axis=1)\n",
      "/opt/venv/lib/python3.8/site-packages/pyranges/out.py:37: FutureWarning: Passing a set as an indexer is deprecated and will raise in a future version. Use a list instead.\n",
      "  return pd.concat([outdf, df.get(noncanonical)], axis=1)\n",
      "/opt/venv/lib/python3.8/site-packages/pyranges/out.py:37: FutureWarning: Passing a set as an indexer is deprecated and will raise in a future version. Use a list instead.\n",
      "  return pd.concat([outdf, df.get(noncanonical)], axis=1)\n",
      "/opt/venv/lib/python3.8/site-packages/pyranges/out.py:37: FutureWarning: Passing a set as an indexer is deprecated and will raise in a future version. Use a list instead.\n",
      "  return pd.concat([outdf, df.get(noncanonical)], axis=1)\n",
      "/opt/venv/lib/python3.8/site-packages/pyranges/out.py:37: FutureWarning: Passing a set as an indexer is deprecated and will raise in a future version. Use a list instead.\n",
      "  return pd.concat([outdf, df.get(noncanonical)], axis=1)\n",
      "/opt/venv/lib/python3.8/site-packages/pyranges/out.py:37: FutureWarning: Passing a set as an indexer is deprecated and will raise in a future version. Use a list instead.\n",
      "  return pd.concat([outdf, df.get(noncanonical)], axis=1)\n",
      "/opt/venv/lib/python3.8/site-packages/pyranges/out.py:37: FutureWarning: Passing a set as an indexer is deprecated and will raise in a future version. Use a list instead.\n",
      "  return pd.concat([outdf, df.get(noncanonical)], axis=1)\n",
      "/opt/venv/lib/python3.8/site-packages/pyranges/out.py:37: FutureWarning: Passing a set as an indexer is deprecated and will raise in a future version. Use a list instead.\n",
      "  return pd.concat([outdf, df.get(noncanonical)], axis=1)\n",
      "/opt/venv/lib/python3.8/site-packages/pyranges/out.py:37: FutureWarning: Passing a set as an indexer is deprecated and will raise in a future version. Use a list instead.\n",
      "  return pd.concat([outdf, df.get(noncanonical)], axis=1)\n",
      "/opt/venv/lib/python3.8/site-packages/pyranges/out.py:37: FutureWarning: Passing a set as an indexer is deprecated and will raise in a future version. Use a list instead.\n",
      "  return pd.concat([outdf, df.get(noncanonical)], axis=1)\n",
      "/opt/venv/lib/python3.8/site-packages/pyranges/out.py:37: FutureWarning: Passing a set as an indexer is deprecated and will raise in a future version. Use a list instead.\n",
      "  return pd.concat([outdf, df.get(noncanonical)], axis=1)\n",
      "/opt/venv/lib/python3.8/site-packages/pyranges/out.py:37: FutureWarning: Passing a set as an indexer is deprecated and will raise in a future version. Use a list instead.\n",
      "  return pd.concat([outdf, df.get(noncanonical)], axis=1)\n",
      "/opt/venv/lib/python3.8/site-packages/pyranges/out.py:37: FutureWarning: Passing a set as an indexer is deprecated and will raise in a future version. Use a list instead.\n",
      "  return pd.concat([outdf, df.get(noncanonical)], axis=1)\n",
      "/opt/venv/lib/python3.8/site-packages/pyranges/out.py:37: FutureWarning: Passing a set as an indexer is deprecated and will raise in a future version. Use a list instead.\n",
      "  return pd.concat([outdf, df.get(noncanonical)], axis=1)\n",
      "/opt/venv/lib/python3.8/site-packages/pyranges/out.py:37: FutureWarning: Passing a set as an indexer is deprecated and will raise in a future version. Use a list instead.\n",
      "  return pd.concat([outdf, df.get(noncanonical)], axis=1)\n",
      "/opt/venv/lib/python3.8/site-packages/pyranges/out.py:37: FutureWarning: Passing a set as an indexer is deprecated and will raise in a future version. Use a list instead.\n",
      "  return pd.concat([outdf, df.get(noncanonical)], axis=1)\n",
      "/opt/venv/lib/python3.8/site-packages/pyranges/out.py:37: FutureWarning: Passing a set as an indexer is deprecated and will raise in a future version. Use a list instead.\n",
      "  return pd.concat([outdf, df.get(noncanonical)], axis=1)\n",
      "/opt/venv/lib/python3.8/site-packages/pyranges/out.py:37: FutureWarning: Passing a set as an indexer is deprecated and will raise in a future version. Use a list instead.\n",
      "  return pd.concat([outdf, df.get(noncanonical)], axis=1)\n",
      "/opt/venv/lib/python3.8/site-packages/pyranges/out.py:37: FutureWarning: Passing a set as an indexer is deprecated and will raise in a future version. Use a list instead.\n",
      "  return pd.concat([outdf, df.get(noncanonical)], axis=1)\n",
      "/opt/venv/lib/python3.8/site-packages/pyranges/out.py:37: FutureWarning: Passing a set as an indexer is deprecated and will raise in a future version. Use a list instead.\n",
      "  return pd.concat([outdf, df.get(noncanonical)], axis=1)\n",
      "/opt/venv/lib/python3.8/site-packages/pyranges/out.py:37: FutureWarning: Passing a set as an indexer is deprecated and will raise in a future version. Use a list instead.\n",
      "  return pd.concat([outdf, df.get(noncanonical)], axis=1)\n",
      "/opt/venv/lib/python3.8/site-packages/pyranges/out.py:37: FutureWarning: Passing a set as an indexer is deprecated and will raise in a future version. Use a list instead.\n",
      "  return pd.concat([outdf, df.get(noncanonical)], axis=1)\n",
      "/opt/venv/lib/python3.8/site-packages/pyranges/out.py:37: FutureWarning: Passing a set as an indexer is deprecated and will raise in a future version. Use a list instead.\n",
      "  return pd.concat([outdf, df.get(noncanonical)], axis=1)\n",
      "/opt/venv/lib/python3.8/site-packages/pyranges/out.py:37: FutureWarning: Passing a set as an indexer is deprecated and will raise in a future version. Use a list instead.\n",
      "  return pd.concat([outdf, df.get(noncanonical)], axis=1)\n",
      "/opt/venv/lib/python3.8/site-packages/pyranges/out.py:37: FutureWarning: Passing a set as an indexer is deprecated and will raise in a future version. Use a list instead.\n",
      "  return pd.concat([outdf, df.get(noncanonical)], axis=1)\n"
     ]
    }
   ],
   "source": [
    "from pycistarget.utils import *\n",
    "import pyranges as pr\n",
    "pr.PyRanges(region_names_to_coordinates(menr['CTX_DARs_All']['OL'].cistromes['Region_set']['SOX10_(7674r)'])).to_bed('/staging/leuven/stg_00002/lcb/cbravo/Multiomics_pipeline/analysis/DEM_showcase/SOX10_OL.bed')"
   ]
  },
  {
   "cell_type": "code",
   "execution_count": 20,
   "id": "d6e7304c-e3dd-4d33-ac2f-677cccbec0b7",
   "metadata": {},
   "outputs": [],
   "source": [
    "import pickle\n",
    "infile = open('/staging/leuven/stg_00002/lcb/sdewin/PhD/Multiomics_pipeline/analysis/melanoma_mixed_lines/hg38/scATAC/outs/pycistarget/ctx_DARs_state.pkl', 'rb')\n",
    "menr = pickle.load(infile)\n",
    "infile.close()"
   ]
  },
  {
   "cell_type": "code",
   "execution_count": 26,
   "id": "286fb887-914d-497d-81ad-dc3b4dd6dfd3",
   "metadata": {},
   "outputs": [
    {
     "name": "stderr",
     "output_type": "stream",
     "text": [
      "/opt/venv/lib/python3.8/site-packages/pyranges/out.py:37: FutureWarning: Passing a set as an indexer is deprecated and will raise in a future version. Use a list instead.\n",
      "  return pd.concat([outdf, df.get(noncanonical)], axis=1)\n",
      "/opt/venv/lib/python3.8/site-packages/pyranges/out.py:37: FutureWarning: Passing a set as an indexer is deprecated and will raise in a future version. Use a list instead.\n",
      "  return pd.concat([outdf, df.get(noncanonical)], axis=1)\n",
      "/opt/venv/lib/python3.8/site-packages/pyranges/out.py:37: FutureWarning: Passing a set as an indexer is deprecated and will raise in a future version. Use a list instead.\n",
      "  return pd.concat([outdf, df.get(noncanonical)], axis=1)\n",
      "/opt/venv/lib/python3.8/site-packages/pyranges/out.py:37: FutureWarning: Passing a set as an indexer is deprecated and will raise in a future version. Use a list instead.\n",
      "  return pd.concat([outdf, df.get(noncanonical)], axis=1)\n",
      "/opt/venv/lib/python3.8/site-packages/pyranges/out.py:37: FutureWarning: Passing a set as an indexer is deprecated and will raise in a future version. Use a list instead.\n",
      "  return pd.concat([outdf, df.get(noncanonical)], axis=1)\n",
      "/opt/venv/lib/python3.8/site-packages/pyranges/out.py:37: FutureWarning: Passing a set as an indexer is deprecated and will raise in a future version. Use a list instead.\n",
      "  return pd.concat([outdf, df.get(noncanonical)], axis=1)\n",
      "/opt/venv/lib/python3.8/site-packages/pyranges/out.py:37: FutureWarning: Passing a set as an indexer is deprecated and will raise in a future version. Use a list instead.\n",
      "  return pd.concat([outdf, df.get(noncanonical)], axis=1)\n",
      "/opt/venv/lib/python3.8/site-packages/pyranges/out.py:37: FutureWarning: Passing a set as an indexer is deprecated and will raise in a future version. Use a list instead.\n",
      "  return pd.concat([outdf, df.get(noncanonical)], axis=1)\n",
      "/opt/venv/lib/python3.8/site-packages/pyranges/out.py:37: FutureWarning: Passing a set as an indexer is deprecated and will raise in a future version. Use a list instead.\n",
      "  return pd.concat([outdf, df.get(noncanonical)], axis=1)\n",
      "/opt/venv/lib/python3.8/site-packages/pyranges/out.py:37: FutureWarning: Passing a set as an indexer is deprecated and will raise in a future version. Use a list instead.\n",
      "  return pd.concat([outdf, df.get(noncanonical)], axis=1)\n",
      "/opt/venv/lib/python3.8/site-packages/pyranges/out.py:37: FutureWarning: Passing a set as an indexer is deprecated and will raise in a future version. Use a list instead.\n",
      "  return pd.concat([outdf, df.get(noncanonical)], axis=1)\n",
      "/opt/venv/lib/python3.8/site-packages/pyranges/out.py:37: FutureWarning: Passing a set as an indexer is deprecated and will raise in a future version. Use a list instead.\n",
      "  return pd.concat([outdf, df.get(noncanonical)], axis=1)\n",
      "/opt/venv/lib/python3.8/site-packages/pyranges/out.py:37: FutureWarning: Passing a set as an indexer is deprecated and will raise in a future version. Use a list instead.\n",
      "  return pd.concat([outdf, df.get(noncanonical)], axis=1)\n",
      "/opt/venv/lib/python3.8/site-packages/pyranges/out.py:37: FutureWarning: Passing a set as an indexer is deprecated and will raise in a future version. Use a list instead.\n",
      "  return pd.concat([outdf, df.get(noncanonical)], axis=1)\n",
      "/opt/venv/lib/python3.8/site-packages/pyranges/out.py:37: FutureWarning: Passing a set as an indexer is deprecated and will raise in a future version. Use a list instead.\n",
      "  return pd.concat([outdf, df.get(noncanonical)], axis=1)\n",
      "/opt/venv/lib/python3.8/site-packages/pyranges/out.py:37: FutureWarning: Passing a set as an indexer is deprecated and will raise in a future version. Use a list instead.\n",
      "  return pd.concat([outdf, df.get(noncanonical)], axis=1)\n",
      "/opt/venv/lib/python3.8/site-packages/pyranges/out.py:37: FutureWarning: Passing a set as an indexer is deprecated and will raise in a future version. Use a list instead.\n",
      "  return pd.concat([outdf, df.get(noncanonical)], axis=1)\n",
      "/opt/venv/lib/python3.8/site-packages/pyranges/out.py:37: FutureWarning: Passing a set as an indexer is deprecated and will raise in a future version. Use a list instead.\n",
      "  return pd.concat([outdf, df.get(noncanonical)], axis=1)\n",
      "/opt/venv/lib/python3.8/site-packages/pyranges/out.py:37: FutureWarning: Passing a set as an indexer is deprecated and will raise in a future version. Use a list instead.\n",
      "  return pd.concat([outdf, df.get(noncanonical)], axis=1)\n",
      "/opt/venv/lib/python3.8/site-packages/pyranges/out.py:37: FutureWarning: Passing a set as an indexer is deprecated and will raise in a future version. Use a list instead.\n",
      "  return pd.concat([outdf, df.get(noncanonical)], axis=1)\n",
      "/opt/venv/lib/python3.8/site-packages/pyranges/out.py:37: FutureWarning: Passing a set as an indexer is deprecated and will raise in a future version. Use a list instead.\n",
      "  return pd.concat([outdf, df.get(noncanonical)], axis=1)\n",
      "/opt/venv/lib/python3.8/site-packages/pyranges/out.py:37: FutureWarning: Passing a set as an indexer is deprecated and will raise in a future version. Use a list instead.\n",
      "  return pd.concat([outdf, df.get(noncanonical)], axis=1)\n",
      "/opt/venv/lib/python3.8/site-packages/pyranges/out.py:37: FutureWarning: Passing a set as an indexer is deprecated and will raise in a future version. Use a list instead.\n",
      "  return pd.concat([outdf, df.get(noncanonical)], axis=1)\n"
     ]
    }
   ],
   "source": [
    "from pycistarget.utils import *\n",
    "import pyranges as pr\n",
    "pr.PyRanges(region_names_to_coordinates(menr['MEL'].cistromes['Region_set']['SOX10_(19025r)'])).to_bed('/staging/leuven/stg_00002/lcb/cbravo/Multiomics_pipeline/analysis/DEM_showcase/SOX10_MEL.bed')"
   ]
  },
  {
   "cell_type": "code",
   "execution_count": 1,
   "id": "130369bf-e87b-480f-98d1-338193ef4711",
   "metadata": {},
   "outputs": [],
   "source": [
    "import pyranges as pr\n",
    "import os\n",
    "region_sets = {}\n",
    "region_sets['SOX9_AST']=pr.read_bed('/staging/leuven/stg_00002/lcb/cbravo/Multiomics_pipeline/analysis/DEM_showcase/SOX9_AST.bed')\n",
    "region_sets['SOX10_OL']=pr.read_bed('/staging/leuven/stg_00002/lcb/cbravo/Multiomics_pipeline/analysis/DEM_showcase/SOX10_OL.bed')\n",
    "region_sets['SOX10_MEL']=pr.read_bed('/staging/leuven/stg_00002/lcb/cbravo/Multiomics_pipeline/analysis/DEM_showcase/SOX10_MEL.bed')"
   ]
  },
  {
   "cell_type": "code",
   "execution_count": 2,
   "id": "b9cbd714-a75f-4828-9898-b4ddf3469725",
   "metadata": {},
   "outputs": [
    {
     "name": "stderr",
     "output_type": "stream",
     "text": [
      "/opt/venv/lib/python3.8/site-packages/pybiomart/dataset.py:269: DtypeWarning: Columns (0) have mixed types. Specify dtype option on import or set low_memory=False.\n",
      "  result = pd.read_csv(StringIO(response.text), sep='\\t')\n",
      "/local_scratch/tmp-vsc31305/ipykernel_33390/2310951791.py:18: FutureWarning: The default value of regex will change from True to False in a future version.\n",
      "  annot['Chromosome/scaffold name'] = annot['Chromosome/scaffold name'].str.replace(r'(\\b\\S)', r'chr\\1')\n"
     ]
    },
    {
     "data": {
      "text/plain": [
       "{'SOX9_AST': 2053, 'SOX10_OL': 5472, 'SOX10_MEL': 18141}"
      ]
     },
     "execution_count": 2,
     "metadata": {},
     "output_type": "execute_result"
    }
   ],
   "source": [
    "# Filter promoters\n",
    "# Get TSS annotations\n",
    "import pybiomart as pbm\n",
    "# For mouse (mm39)\n",
    "#dataset = pbm.Dataset(name='mmusculus_gene_ensembl',  host='http://www.ensembl.org')\n",
    "# For mouse (mm10)\n",
    "#dataset = pbm.Dataset(name='mmusculus_gene_ensembl',  host='http://nov2020.archive.ensembl.org/')\n",
    "# For human (hg38)\n",
    "dataset = pbm.Dataset(name='hsapiens_gene_ensembl',  host='http://www.ensembl.org')\n",
    "# For human (hg19)\n",
    "#dataset = pbm.Dataset(name='hsapiens_gene_ensembl',  host='http://grch37.ensembl.org/')\n",
    "# For fly (dm6)\n",
    "# dataset = pbm.Dataset(name='dmelanogaster_gene_ensembl',  host='http://www.ensembl.org')\n",
    "annot = dataset.query(attributes=['chromosome_name', 'transcription_start_site', 'strand', 'external_gene_name', 'transcript_biotype'])\n",
    "annot['Chromosome/scaffold name'] = annot['Chromosome/scaffold name'].astype('str')\n",
    "filter = annot['Chromosome/scaffold name'].str.contains('CHR|GL|JH|MT')\n",
    "annot = annot[~filter]\n",
    "annot['Chromosome/scaffold name'] = annot['Chromosome/scaffold name'].str.replace(r'(\\b\\S)', r'chr\\1')\n",
    "annot.columns=['Chromosome', 'Start', 'Strand', 'Gene', 'Transcript_type']\n",
    "annot = annot[annot.Transcript_type == 'protein_coding']\n",
    "# Define promoter space\n",
    "annot['End'] = annot['Start']+500\n",
    "annot['Start'] = annot['Start']-500\n",
    "annot = pr.PyRanges(annot[['Chromosome', 'Start', 'End']])\n",
    "## Keep non-overlapping\n",
    "region_sets_overlaps = {key: region_sets[key].count_overlaps(annot) for key in region_sets.keys()}\n",
    "region_sets = {key: region_sets_overlaps[key][region_sets_overlaps[key].NumberOverlaps == 0][['Chromosome', 'Start', 'End']] for key in region_sets.keys()}\n",
    "#region_sets = {key: region_sets_overlaps[key][region_sets_overlaps[key].NumberOverlaps != 0][['Chromosome', 'Start', 'End']] for key in region_sets.keys()}\n",
    "{key:len(region_sets[key]) for key in region_sets.keys()}"
   ]
  },
  {
   "cell_type": "code",
   "execution_count": 29,
   "id": "4e0469b9-9ab4-497e-bdc9-21ee7a50d69c",
   "metadata": {},
   "outputs": [
    {
     "name": "stdout",
     "output_type": "stream",
     "text": [
      "2022-12-06 11:00:42,079 cisTarget    INFO     Reading cisTarget database\n",
      "2022-12-06 11:07:32,903 cisTarget    INFO     Running cisTarget for SOX9_AST which has 2553 regions\n",
      "2022-12-06 11:07:54,894 cisTarget    INFO     Annotating motifs for SOX9_AST\n",
      "2022-12-06 11:07:57,412 cisTarget    INFO     Getting cistromes for SOX9_AST\n",
      "2022-12-06 11:07:57,531 cisTarget    INFO     Running cisTarget for SOX10_OL which has 6817 regions\n",
      "2022-12-06 11:08:16,906 cisTarget    INFO     Annotating motifs for SOX10_OL\n",
      "2022-12-06 11:08:19,810 cisTarget    INFO     Getting cistromes for SOX10_OL\n",
      "2022-12-06 11:08:20,089 cisTarget    INFO     Running cisTarget for SOX10_MEL which has 18506 regions\n",
      "2022-12-06 11:08:45,747 cisTarget    INFO     Annotating motifs for SOX10_MEL\n",
      "2022-12-06 11:08:49,812 cisTarget    INFO     Getting cistromes for SOX10_MEL\n",
      "2022-12-06 11:08:50,223 cisTarget    INFO     Done!\n"
     ]
    }
   ],
   "source": [
    "# cisTarget - All\n",
    "# Load cistarget functions\n",
    "from pycistarget.motif_enrichment_cistarget import *\n",
    "# Preload db, you can also just provide the path to the db. Preloading the database is useful if you want to test different parameters.\n",
    "db = '/staging/leuven/stg_00002/lcb/icistarget/data/make_rankings/v10_clust/CTX_hg38/cluster_SCREEN.regions_vs_motifs.rankings.v2.feather'                       \n",
    "ctx_db = cisTargetDatabase(db, region_sets)   \n",
    "# Run (r06i00n12)\n",
    "cistarget_dict = run_cistarget(ctx_db = ctx_db,\n",
    "                               region_sets = region_sets,\n",
    "                               specie = 'homo_sapiens',\n",
    "                               auc_threshold = 0.005,\n",
    "                               nes_threshold = 3.0,\n",
    "                               rank_threshold = 0.05,\n",
    "                               annotation = ['Direct_annot', 'Orthology_annot'],\n",
    "                               path_to_motif_annotations = '/staging/leuven/stg_00002/lcb/cbravo/cluster_motif_collection_V10_no_desso_no_factorbook/snapshots/motifs-v10nr_clust-nr.hgnc-m0.00001-o0.0.tbl',\n",
    "                               n_cpu = 1,\n",
    "                               _temp_dir='/scratch/leuven/313/vsc31305/ray_spill',\n",
    "                               annotation_version = 'v10nr_clust')\n",
    "# Save pkl\n",
    "import pickle\n",
    "with open('/staging/leuven/stg_00002/lcb/cbravo/Multiomics_pipeline/analysis/DEM_showcase/cisTarget_dict.pkl', 'wb') as f:\n",
    "  pickle.dump(cistarget_dict, f)\n",
    "# Save html\n",
    "for x in cistarget_dict.keys():\n",
    "    out_file = '/staging/leuven/stg_00002/lcb/cbravo/Multiomics_pipeline/analysis/DEM_showcase/'+ str(x) + '.html'\n",
    "    cistarget_dict[str(x)].motif_enrichment.to_html(open(out_file, 'w'), escape=False, col_space=80)"
   ]
  },
  {
   "cell_type": "code",
   "execution_count": 3,
   "id": "3a7be040-2226-4427-b7e9-caac94300b82",
   "metadata": {},
   "outputs": [
    {
     "name": "stdout",
     "output_type": "stream",
     "text": [
      "2022-12-06 12:43:20,112 DEM          INFO     Reading DEM database\n",
      "2022-12-06 12:47:43,043 DEM          INFO     Creating contrast groups\n",
      "2022-12-06 12:47:52,802 DEM          INFO     Computing DEM for SOX9_AST\n",
      "2022-12-06 12:59:46,412 DEM          INFO     Computing DEM for SOX10_OL\n",
      "2022-12-06 13:15:35,591 DEM          INFO     Computing DEM for SOX10_MEL\n",
      "2022-12-06 13:16:27,474 DEM          INFO     Forming cistromes\n",
      "2022-12-06 13:16:38,688 DEM          INFO     Done!\n"
     ]
    }
   ],
   "source": [
    "# DEM - All\n",
    "# Load cistarget functions\n",
    "from pycistarget.motif_enrichment_dem import *\n",
    "# Preload db, you can also just provide the path to the db. Preloading the database is useful if you want to test different parameters.\n",
    "db = '/staging/leuven/stg_00002/lcb/icistarget/data/make_rankings/v10_clust/CTX_hg38/cluster_SCREEN.regions_vs_motifs.scores.v2.feather'                       \n",
    "dem_db = DEMDatabase(db, region_sets)   \n",
    "# Run (r06i00n12)\n",
    "DEM_dict = DEM(dem_db = dem_db,\n",
    "                               region_sets = region_sets,\n",
    "                               specie = 'homo_sapiens',\n",
    "                               log2fc_thr = 0.25,\n",
    "                               motif_hit_thr = 3,\n",
    "                               max_bg_regions = None,\n",
    "                               motif_annotation = ['Direct_annot', 'Orthology_annot'],\n",
    "                               path_to_motif_annotations = '/staging/leuven/stg_00002/lcb/cbravo/cluster_motif_collection_V10_no_desso_no_factorbook/snapshots/motifs-v10nr_clust-nr.hgnc-m0.00001-o0.0.tbl',\n",
    "                               n_cpu = 1,\n",
    "                               tmp_dir='/scratch/leuven/313/vsc31305/ray_spill',\n",
    "                               _temp_dir='/scratch/leuven/313/vsc31305/ray_spill',\n",
    "                               annotation_version = 'v10nr_clust')\n",
    "# Save pkl\n",
    "import pickle\n",
    "with open('/staging/leuven/stg_00002/lcb/cbravo/Multiomics_pipeline/analysis/DEM_showcase/DEM_dict_v2.pkl', 'wb') as f:\n",
    "  pickle.dump(DEM_dict, f)\n",
    "# Save html\n",
    "for x in DEM_dict.motif_enrichment.keys():\n",
    "    out_file = '/staging/leuven/stg_00002/lcb/cbravo/Multiomics_pipeline/analysis/DEM_showcase/'+ str(x) + '_DEM_v2.html'\n",
    "    DEM_dict.motif_enrichment[str(x)].to_html(open(out_file, 'w'), escape=False, col_space=80)"
   ]
  },
  {
   "cell_type": "markdown",
   "id": "fba8a391-eef9-41b8-8f05-9f55a0524a0d",
   "metadata": {},
   "source": [
    "## With cisTopic's peaks"
   ]
  },
  {
   "cell_type": "code",
   "execution_count": 4,
   "id": "2b3699b0-515f-4507-b8c2-8fc7c04f0891",
   "metadata": {},
   "outputs": [],
   "source": [
    "import pyranges as pr\n",
    "import os\n",
    "region_sets = {}\n",
    "region_sets['SOX9_AST']=pr.read_bed('/staging/leuven/stg_00002/lcb/cbravo/Multiomics_pipeline/analysis/DEM_showcase/OLD/Excl_SOX_bed/SOXExcl_Astrocytes_hg38.bed')\n",
    "region_sets['SOX10_MEL']=pr.read_bed('/staging/leuven/stg_00002/lcb/cbravo/Multiomics_pipeline/analysis/DEM_showcase/OLD/Excl_SOX_bed/SOXExcl_Melanoma_hg38.bed')\n",
    "region_sets['SOX10_OL']=pr.read_bed('/staging/leuven/stg_00002/lcb/cbravo/Multiomics_pipeline/analysis/DEM_showcase/OLD/Excl_SOX_bed/SOXExcl_Oligodendrocytes_hg38.bed')\n",
    "# CHAGE TO HG19!!"
   ]
  },
  {
   "cell_type": "code",
   "execution_count": 5,
   "id": "502f2009-5bd7-47ed-8aad-3690f6f97a1d",
   "metadata": {},
   "outputs": [
    {
     "name": "stderr",
     "output_type": "stream",
     "text": [
      "/opt/venv/lib/python3.8/site-packages/pybiomart/dataset.py:269: DtypeWarning: Columns (0) have mixed types. Specify dtype option on import or set low_memory=False.\n",
      "  result = pd.read_csv(StringIO(response.text), sep='\\t')\n",
      "/local_scratch/tmp-vsc31305/ipykernel_33390/2310951791.py:18: FutureWarning: The default value of regex will change from True to False in a future version.\n",
      "  annot['Chromosome/scaffold name'] = annot['Chromosome/scaffold name'].str.replace(r'(\\b\\S)', r'chr\\1')\n"
     ]
    },
    {
     "data": {
      "text/plain": [
       "{'SOX9_AST': 795, 'SOX10_MEL': 809, 'SOX10_OL': 1035}"
      ]
     },
     "execution_count": 5,
     "metadata": {},
     "output_type": "execute_result"
    }
   ],
   "source": [
    "# Filter promoters\n",
    "# Get TSS annotations\n",
    "import pybiomart as pbm\n",
    "# For mouse (mm39)\n",
    "#dataset = pbm.Dataset(name='mmusculus_gene_ensembl',  host='http://www.ensembl.org')\n",
    "# For mouse (mm10)\n",
    "#dataset = pbm.Dataset(name='mmusculus_gene_ensembl',  host='http://nov2020.archive.ensembl.org/')\n",
    "# For human (hg38)\n",
    "dataset = pbm.Dataset(name='hsapiens_gene_ensembl',  host='http://www.ensembl.org')\n",
    "# For human (hg19)\n",
    "#dataset = pbm.Dataset(name='hsapiens_gene_ensembl',  host='http://grch37.ensembl.org/')\n",
    "# For fly (dm6)\n",
    "# dataset = pbm.Dataset(name='dmelanogaster_gene_ensembl',  host='http://www.ensembl.org')\n",
    "annot = dataset.query(attributes=['chromosome_name', 'transcription_start_site', 'strand', 'external_gene_name', 'transcript_biotype'])\n",
    "annot['Chromosome/scaffold name'] = annot['Chromosome/scaffold name'].astype('str')\n",
    "filter = annot['Chromosome/scaffold name'].str.contains('CHR|GL|JH|MT')\n",
    "annot = annot[~filter]\n",
    "annot['Chromosome/scaffold name'] = annot['Chromosome/scaffold name'].str.replace(r'(\\b\\S)', r'chr\\1')\n",
    "annot.columns=['Chromosome', 'Start', 'Strand', 'Gene', 'Transcript_type']\n",
    "annot = annot[annot.Transcript_type == 'protein_coding']\n",
    "# Define promoter space\n",
    "annot['End'] = annot['Start']+500\n",
    "annot['Start'] = annot['Start']-500\n",
    "annot = pr.PyRanges(annot[['Chromosome', 'Start', 'End']])\n",
    "## Keep non-overlapping\n",
    "region_sets_overlaps = {key: region_sets[key].count_overlaps(annot) for key in region_sets.keys()}\n",
    "region_sets = {key: region_sets_overlaps[key][region_sets_overlaps[key].NumberOverlaps == 0][['Chromosome', 'Start', 'End']] for key in region_sets.keys()}\n",
    "#region_sets = {key: region_sets_overlaps[key][region_sets_overlaps[key].NumberOverlaps != 0][['Chromosome', 'Start', 'End']] for key in region_sets.keys()}\n",
    "{key:len(region_sets[key]) for key in region_sets.keys()}"
   ]
  },
  {
   "cell_type": "code",
   "execution_count": 6,
   "id": "22a3e6af-877c-4f3f-a4ce-4728151d073e",
   "metadata": {},
   "outputs": [
    {
     "name": "stdout",
     "output_type": "stream",
     "text": [
      "2022-12-06 13:32:19,314 cisTarget    INFO     Reading cisTarget database\n",
      "2022-12-06 13:33:56,948 cisTarget    INFO     Running cisTarget for SOX9_AST which has 1036 regions\n",
      "2022-12-06 13:34:24,350 cisTarget    INFO     Annotating motifs for SOX9_AST\n",
      "2022-12-06 13:34:26,459 cisTarget    INFO     Getting cistromes for SOX9_AST\n",
      "2022-12-06 13:34:26,768 cisTarget    INFO     Running cisTarget for SOX10_MEL which has 991 regions\n",
      "2022-12-06 13:34:47,366 cisTarget    INFO     Annotating motifs for SOX10_MEL\n",
      "2022-12-06 13:34:49,533 cisTarget    INFO     Getting cistromes for SOX10_MEL\n",
      "2022-12-06 13:34:49,608 cisTarget    INFO     Running cisTarget for SOX10_OL which has 1264 regions\n",
      "2022-12-06 13:35:11,212 cisTarget    INFO     Annotating motifs for SOX10_OL\n",
      "2022-12-06 13:35:13,340 cisTarget    INFO     Getting cistromes for SOX10_OL\n",
      "2022-12-06 13:35:13,428 cisTarget    INFO     Done!\n"
     ]
    }
   ],
   "source": [
    "# cisTarget - All\n",
    "# Load cistarget functions\n",
    "from pycistarget.motif_enrichment_cistarget import *\n",
    "# Preload db, you can also just provide the path to the db. Preloading the database is useful if you want to test different parameters.\n",
    "db = '/staging/leuven/stg_00002/lcb/icistarget/data/make_rankings/v10_clust/CTX_hg38/cluster_SCREEN.regions_vs_motifs.rankings.v2.feather'                       \n",
    "ctx_db = cisTargetDatabase(db, region_sets)   \n",
    "# Run (r06i00n12)\n",
    "cistarget_dict = run_cistarget(ctx_db = ctx_db,\n",
    "                               region_sets = region_sets,\n",
    "                               specie = 'homo_sapiens',\n",
    "                               auc_threshold = 0.005,\n",
    "                               nes_threshold = 3.0,\n",
    "                               rank_threshold = 0.05,\n",
    "                               annotation = ['Direct_annot', 'Orthology_annot'],\n",
    "                               path_to_motif_annotations = '/staging/leuven/stg_00002/lcb/cbravo/cluster_motif_collection_V10_no_desso_no_factorbook/snapshots/motifs-v10nr_clust-nr.hgnc-m0.00001-o0.0.tbl',\n",
    "                               n_cpu = 1,\n",
    "                               _temp_dir='/scratch/leuven/313/vsc31305/ray_spill',\n",
    "                               annotation_version = 'v10nr_clust')\n",
    "# Save pkl\n",
    "import pickle\n",
    "with open('/staging/leuven/stg_00002/lcb/cbravo/Multiomics_pipeline/analysis/DEM_showcase/OLD/cisTarget_dict.pkl', 'wb') as f:\n",
    "  pickle.dump(cistarget_dict, f)\n",
    "# Save html\n",
    "for x in cistarget_dict.keys():\n",
    "    out_file = '/staging/leuven/stg_00002/lcb/cbravo/Multiomics_pipeline/analysis/DEM_showcase/OLD/'+ str(x) + '.html'\n",
    "    cistarget_dict[str(x)].motif_enrichment.to_html(open(out_file, 'w'), escape=False, col_space=80)"
   ]
  },
  {
   "cell_type": "code",
   "execution_count": 7,
   "id": "9581a221-ebd1-451e-aa67-dff01c49a359",
   "metadata": {},
   "outputs": [
    {
     "name": "stdout",
     "output_type": "stream",
     "text": [
      "2022-12-06 13:54:00,755 DEM          INFO     Reading DEM database\n",
      "2022-12-06 13:55:39,182 DEM          INFO     Creating contrast groups\n",
      "2022-12-06 13:55:40,130 DEM          INFO     Computing DEM for SOX9_AST\n",
      "2022-12-06 13:56:02,953 DEM          INFO     Computing DEM for SOX10_MEL\n",
      "2022-12-06 13:56:12,865 DEM          INFO     Computing DEM for SOX10_OL\n",
      "2022-12-06 13:56:45,403 DEM          INFO     Forming cistromes\n",
      "2022-12-06 13:56:47,533 DEM          INFO     Done!\n"
     ]
    }
   ],
   "source": [
    "# DEM - All\n",
    "# Load cistarget functions\n",
    "from pycistarget.motif_enrichment_dem import *\n",
    "# Preload db, you can also just provide the path to the db. Preloading the database is useful if you want to test different parameters.\n",
    "db = '/staging/leuven/stg_00002/lcb/icistarget/data/make_rankings/v10_clust/CTX_hg38/cluster_SCREEN.regions_vs_motifs.scores.v2.feather'                       \n",
    "dem_db = DEMDatabase(db, region_sets)   \n",
    "# Run (r06i00n12)\n",
    "DEM_dict = DEM(dem_db = dem_db,\n",
    "                               region_sets = region_sets,\n",
    "                               specie = 'homo_sapiens',\n",
    "                               log2fc_thr = 0.25,\n",
    "                               motif_hit_thr = 3,\n",
    "                               max_bg_regions = None,\n",
    "                               motif_annotation = ['Direct_annot', 'Orthology_annot'],\n",
    "                               mean_fg_thr = 0.5,\n",
    "                               path_to_motif_annotations = '/staging/leuven/stg_00002/lcb/cbravo/cluster_motif_collection_V10_no_desso_no_factorbook/snapshots/motifs-v10nr_clust-nr.hgnc-m0.00001-o0.0.tbl',\n",
    "                               n_cpu = 1,\n",
    "                               tmp_dir='/scratch/leuven/313/vsc31305/ray_spill',\n",
    "                               _temp_dir='/scratch/leuven/313/vsc31305/ray_spill',\n",
    "                               annotation_version = 'v10nr_clust')\n",
    "# Save pkl\n",
    "import pickle\n",
    "with open('/staging/leuven/stg_00002/lcb/cbravo/Multiomics_pipeline/analysis/DEM_showcase/OLD/DEM_dict_v2.pkl', 'wb') as f:\n",
    "  pickle.dump(DEM_dict, f)\n",
    "# Save html\n",
    "for x in DEM_dict.motif_enrichment.keys():\n",
    "    out_file = '/staging/leuven/stg_00002/lcb/cbravo/Multiomics_pipeline/analysis/DEM_showcase/OLD'+ str(x) + '_DEM_v2.html'\n",
    "    DEM_dict.motif_enrichment[str(x)].to_html(open(out_file, 'w'), escape=False, col_space=80)"
   ]
  },
  {
   "cell_type": "markdown",
   "id": "298b71f5-ebac-49ea-ac7c-8d4ad02d7e55",
   "metadata": {},
   "source": [
    "## DARs with different threshold"
   ]
  },
  {
   "cell_type": "code",
   "execution_count": 10,
   "id": "8ef4b745-57bd-4be9-a60e-5a76e1bd3acb",
   "metadata": {},
   "outputs": [],
   "source": [
    "import pyranges as pr\n",
    "import os\n",
    "region_sets = {}\n",
    "region_sets['SOX9_AST']=pr.read_bed('/staging/leuven/stg_00002/lcb/cbravo/Multiomics_pipeline/analysis/DEM_showcase/SOX9_AST.bed')\n",
    "region_sets['SOX10_OL']=pr.read_bed('/staging/leuven/stg_00002/lcb/cbravo/Multiomics_pipeline/analysis/DEM_showcase/SOX10_OL.bed')\n",
    "region_sets['SOX10_MEL']=pr.read_bed('/staging/leuven/stg_00002/lcb/cbravo/Multiomics_pipeline/analysis/DEM_showcase/SOX10_MEL.bed')"
   ]
  },
  {
   "cell_type": "code",
   "execution_count": 11,
   "id": "26f80e64-7e2f-4737-9de9-17d93aaaeca8",
   "metadata": {},
   "outputs": [
    {
     "name": "stderr",
     "output_type": "stream",
     "text": [
      "/opt/venv/lib/python3.8/site-packages/pybiomart/dataset.py:269: DtypeWarning: Columns (0) have mixed types. Specify dtype option on import or set low_memory=False.\n",
      "  result = pd.read_csv(StringIO(response.text), sep='\\t')\n",
      "/local_scratch/tmp-vsc31305/ipykernel_33390/2310951791.py:18: FutureWarning: The default value of regex will change from True to False in a future version.\n",
      "  annot['Chromosome/scaffold name'] = annot['Chromosome/scaffold name'].str.replace(r'(\\b\\S)', r'chr\\1')\n"
     ]
    },
    {
     "data": {
      "text/plain": [
       "{'SOX9_AST': 2053, 'SOX10_OL': 5472, 'SOX10_MEL': 18141}"
      ]
     },
     "execution_count": 11,
     "metadata": {},
     "output_type": "execute_result"
    }
   ],
   "source": [
    "# Filter promoters\n",
    "# Get TSS annotations\n",
    "import pybiomart as pbm\n",
    "# For mouse (mm39)\n",
    "#dataset = pbm.Dataset(name='mmusculus_gene_ensembl',  host='http://www.ensembl.org')\n",
    "# For mouse (mm10)\n",
    "#dataset = pbm.Dataset(name='mmusculus_gene_ensembl',  host='http://nov2020.archive.ensembl.org/')\n",
    "# For human (hg38)\n",
    "dataset = pbm.Dataset(name='hsapiens_gene_ensembl',  host='http://www.ensembl.org')\n",
    "# For human (hg19)\n",
    "#dataset = pbm.Dataset(name='hsapiens_gene_ensembl',  host='http://grch37.ensembl.org/')\n",
    "# For fly (dm6)\n",
    "# dataset = pbm.Dataset(name='dmelanogaster_gene_ensembl',  host='http://www.ensembl.org')\n",
    "annot = dataset.query(attributes=['chromosome_name', 'transcription_start_site', 'strand', 'external_gene_name', 'transcript_biotype'])\n",
    "annot['Chromosome/scaffold name'] = annot['Chromosome/scaffold name'].astype('str')\n",
    "filter = annot['Chromosome/scaffold name'].str.contains('CHR|GL|JH|MT')\n",
    "annot = annot[~filter]\n",
    "annot['Chromosome/scaffold name'] = annot['Chromosome/scaffold name'].str.replace(r'(\\b\\S)', r'chr\\1')\n",
    "annot.columns=['Chromosome', 'Start', 'Strand', 'Gene', 'Transcript_type']\n",
    "annot = annot[annot.Transcript_type == 'protein_coding']\n",
    "# Define promoter space\n",
    "annot['End'] = annot['Start']+500\n",
    "annot['Start'] = annot['Start']-500\n",
    "annot = pr.PyRanges(annot[['Chromosome', 'Start', 'End']])\n",
    "## Keep non-overlapping\n",
    "region_sets_overlaps = {key: region_sets[key].count_overlaps(annot) for key in region_sets.keys()}\n",
    "region_sets = {key: region_sets_overlaps[key][region_sets_overlaps[key].NumberOverlaps == 0][['Chromosome', 'Start', 'End']] for key in region_sets.keys()}\n",
    "#region_sets = {key: region_sets_overlaps[key][region_sets_overlaps[key].NumberOverlaps != 0][['Chromosome', 'Start', 'End']] for key in region_sets.keys()}\n",
    "{key:len(region_sets[key]) for key in region_sets.keys()}"
   ]
  },
  {
   "cell_type": "code",
   "execution_count": 12,
   "id": "03ebc144-b6e8-4a5f-af45-926a57b2fdf7",
   "metadata": {},
   "outputs": [
    {
     "name": "stdout",
     "output_type": "stream",
     "text": [
      "2022-12-06 14:33:46,927 DEM          INFO     Reading DEM database\n",
      "2022-12-06 14:37:53,480 DEM          INFO     Creating contrast groups\n",
      "2022-12-06 14:38:02,337 DEM          INFO     Computing DEM for SOX9_AST\n",
      "2022-12-06 14:49:46,668 DEM          INFO     Computing DEM for SOX10_OL\n",
      "2022-12-06 15:04:26,844 DEM          INFO     Computing DEM for SOX10_MEL\n",
      "2022-12-06 15:05:11,261 DEM          INFO     Forming cistromes\n",
      "2022-12-06 15:05:20,174 DEM          INFO     Done!\n"
     ]
    }
   ],
   "source": [
    "# DEM - All\n",
    "# Load cistarget functions\n",
    "from pycistarget.motif_enrichment_dem import *\n",
    "# Preload db, you can also just provide the path to the db. Preloading the database is useful if you want to test different parameters.\n",
    "db = '/staging/leuven/stg_00002/lcb/icistarget/data/make_rankings/v10_clust/CTX_hg38/cluster_SCREEN.regions_vs_motifs.scores.v2.feather'                       \n",
    "dem_db = DEMDatabase(db, region_sets)   \n",
    "# Run (r06i00n12)\n",
    "DEM_dict = DEM(dem_db = dem_db,\n",
    "                               region_sets = region_sets,\n",
    "                               specie = 'homo_sapiens',\n",
    "                               log2fc_thr = 0.25,\n",
    "                               motif_hit_thr = 3,\n",
    "                               max_bg_regions = None,\n",
    "                               mean_fg_thr = 0.5,\n",
    "                               motif_annotation = ['Direct_annot', 'Orthology_annot'],\n",
    "                               path_to_motif_annotations = '/staging/leuven/stg_00002/lcb/cbravo/cluster_motif_collection_V10_no_desso_no_factorbook/snapshots/motifs-v10nr_clust-nr.hgnc-m0.00001-o0.0.tbl',\n",
    "                               n_cpu = 1,\n",
    "                               tmp_dir='/scratch/leuven/313/vsc31305/ray_spill',\n",
    "                               _temp_dir='/scratch/leuven/313/vsc31305/ray_spill',\n",
    "                               annotation_version = 'v10nr_clust')\n",
    "# Save pkl\n",
    "import pickle\n",
    "with open('/staging/leuven/stg_00002/lcb/cbravo/Multiomics_pipeline/analysis/DEM_showcase/DEM_dict_v3.pkl', 'wb') as f:\n",
    "  pickle.dump(DEM_dict, f)\n",
    "# Save html\n",
    "for x in DEM_dict.motif_enrichment.keys():\n",
    "    out_file = '/staging/leuven/stg_00002/lcb/cbravo/Multiomics_pipeline/analysis/DEM_showcase/'+ str(x) + '_DEM_v3.html'\n",
    "    DEM_dict.motif_enrichment[str(x)].to_html(open(out_file, 'w'), escape=False, col_space=80)"
   ]
  },
  {
   "cell_type": "markdown",
   "id": "a434d255-22e7-4837-b69d-1bacee840285",
   "metadata": {},
   "source": [
    "## DARs with different threshold"
   ]
  },
  {
   "cell_type": "code",
   "execution_count": 18,
   "id": "4bee1ff2-77b6-4569-a062-79e56acafbcc",
   "metadata": {},
   "outputs": [],
   "source": [
    "import pyranges as pr\n",
    "import os\n",
    "region_sets = {}\n",
    "region_sets['SOX9_AST']=pr.read_bed('/staging/leuven/stg_00002/lcb/cbravo/Multiomics_pipeline/analysis/DEM_showcase/SOX9_AST.bed')\n",
    "region_sets['SOX10_OL']=pr.read_bed('/staging/leuven/stg_00002/lcb/cbravo/Multiomics_pipeline/analysis/DEM_showcase/SOX10_OL.bed')\n",
    "region_sets['SOX10_MEL']=pr.read_bed('/staging/leuven/stg_00002/lcb/cbravo/Multiomics_pipeline/analysis/DEM_showcase/SOX10_MEL.bed')"
   ]
  },
  {
   "cell_type": "code",
   "execution_count": 14,
   "id": "65e688dc-d0fb-46bb-b07b-d10b9b08b428",
   "metadata": {},
   "outputs": [
    {
     "name": "stderr",
     "output_type": "stream",
     "text": [
      "/opt/venv/lib/python3.8/site-packages/pybiomart/dataset.py:269: DtypeWarning: Columns (0) have mixed types. Specify dtype option on import or set low_memory=False.\n",
      "  result = pd.read_csv(StringIO(response.text), sep='\\t')\n",
      "/local_scratch/tmp-vsc31305/ipykernel_33390/2310951791.py:18: FutureWarning: The default value of regex will change from True to False in a future version.\n",
      "  annot['Chromosome/scaffold name'] = annot['Chromosome/scaffold name'].str.replace(r'(\\b\\S)', r'chr\\1')\n"
     ]
    },
    {
     "data": {
      "text/plain": [
       "{'SOX9_AST': 2053, 'SOX10_OL': 5472, 'SOX10_MEL': 18141}"
      ]
     },
     "execution_count": 14,
     "metadata": {},
     "output_type": "execute_result"
    }
   ],
   "source": [
    "# Filter promoters\n",
    "# Get TSS annotations\n",
    "import pybiomart as pbm\n",
    "# For mouse (mm39)\n",
    "#dataset = pbm.Dataset(name='mmusculus_gene_ensembl',  host='http://www.ensembl.org')\n",
    "# For mouse (mm10)\n",
    "#dataset = pbm.Dataset(name='mmusculus_gene_ensembl',  host='http://nov2020.archive.ensembl.org/')\n",
    "# For human (hg38)\n",
    "dataset = pbm.Dataset(name='hsapiens_gene_ensembl',  host='http://www.ensembl.org')\n",
    "# For human (hg19)\n",
    "#dataset = pbm.Dataset(name='hsapiens_gene_ensembl',  host='http://grch37.ensembl.org/')\n",
    "# For fly (dm6)\n",
    "# dataset = pbm.Dataset(name='dmelanogaster_gene_ensembl',  host='http://www.ensembl.org')\n",
    "annot = dataset.query(attributes=['chromosome_name', 'transcription_start_site', 'strand', 'external_gene_name', 'transcript_biotype'])\n",
    "annot['Chromosome/scaffold name'] = annot['Chromosome/scaffold name'].astype('str')\n",
    "filter = annot['Chromosome/scaffold name'].str.contains('CHR|GL|JH|MT')\n",
    "annot = annot[~filter]\n",
    "annot['Chromosome/scaffold name'] = annot['Chromosome/scaffold name'].str.replace(r'(\\b\\S)', r'chr\\1')\n",
    "annot.columns=['Chromosome', 'Start', 'Strand', 'Gene', 'Transcript_type']\n",
    "annot = annot[annot.Transcript_type == 'protein_coding']\n",
    "# Define promoter space\n",
    "annot['End'] = annot['Start']+500\n",
    "annot['Start'] = annot['Start']-500\n",
    "annot = pr.PyRanges(annot[['Chromosome', 'Start', 'End']])\n",
    "## Keep non-overlapping\n",
    "region_sets_overlaps = {key: region_sets[key].count_overlaps(annot) for key in region_sets.keys()}\n",
    "region_sets = {key: region_sets_overlaps[key][region_sets_overlaps[key].NumberOverlaps == 0][['Chromosome', 'Start', 'End']] for key in region_sets.keys()}\n",
    "#region_sets = {key: region_sets_overlaps[key][region_sets_overlaps[key].NumberOverlaps != 0][['Chromosome', 'Start', 'End']] for key in region_sets.keys()}\n",
    "{key:len(region_sets[key]) for key in region_sets.keys()}"
   ]
  },
  {
   "cell_type": "code",
   "execution_count": 17,
   "id": "bb7eec3c-31bc-4583-8754-9373a76fd6d9",
   "metadata": {},
   "outputs": [
    {
     "name": "stdout",
     "output_type": "stream",
     "text": [
      "2022-12-06 16:02:21,873 DEM          INFO     Reading DEM database\n",
      "2022-12-06 16:02:28,432 DEM          INFO     Creating contrast groups\n",
      "2022-12-06 16:02:29,519 DEM          INFO     Computing DEM for SOX9_AST\n",
      "2022-12-06 16:03:28,266 DEM          INFO     Computing DEM for SOX10_OL\n",
      "2022-12-06 16:09:15,929 DEM          INFO     Computing DEM for SOX10_MEL\n",
      "2022-12-06 16:09:32,314 DEM          INFO     Forming cistromes\n",
      "2022-12-06 16:09:43,005 DEM          INFO     Done!\n"
     ]
    }
   ],
   "source": [
    "# DEM - All\n",
    "# Load cistarget functions\n",
    "from pycistarget.motif_enrichment_dem import *\n",
    "# Preload db, you can also just provide the path to the db. Preloading the database is useful if you want to test different parameters.\n",
    "db = '/staging/leuven/stg_00002/lcb/cbravo/Multiomics_pipeline/analysis/DEM_showcase/DARs.regions_vs_motifs.scores.feather'                       \n",
    "dem_db = DEMDatabase(db, region_sets)   \n",
    "# Run (r06i00n12)\n",
    "DEM_dict = DEM(dem_db = dem_db,\n",
    "                               region_sets = region_sets,\n",
    "                               specie = 'homo_sapiens',\n",
    "                               log2fc_thr = 0.5,\n",
    "                               motif_hit_thr = 3,\n",
    "                               max_bg_regions = 500,\n",
    "                               mean_fg_thr = 0.5,\n",
    "                               motif_annotation = ['Direct_annot', 'Orthology_annot'],\n",
    "                               path_to_motif_annotations = '/staging/leuven/stg_00002/lcb/cbravo/cluster_motif_collection_V10_no_desso_no_factorbook/snapshots/motifs-v10nr_clust-nr.hgnc-m0.00001-o0.0.tbl',\n",
    "                               n_cpu = 1,\n",
    "                               tmp_dir='/scratch/leuven/313/vsc31305/ray_spill',\n",
    "                               _temp_dir='/scratch/leuven/313/vsc31305/ray_spill',\n",
    "                               annotation_version = 'v10nr_clust')\n",
    "# Save pkl\n",
    "import pickle\n",
    "with open('/staging/leuven/stg_00002/lcb/cbravo/Multiomics_pipeline/analysis/DEM_showcase/DEM_dict_v4.pkl', 'wb') as f:\n",
    "  pickle.dump(DEM_dict, f)\n",
    "# Save html\n",
    "for x in DEM_dict.motif_enrichment.keys():\n",
    "    out_file = '/staging/leuven/stg_00002/lcb/cbravo/Multiomics_pipeline/analysis/DEM_showcase/'+ str(x) + '_DEM_v4.html'\n",
    "    DEM_dict.motif_enrichment[str(x)].to_html(open(out_file, 'w'), escape=False, col_space=80)"
   ]
  },
  {
   "cell_type": "markdown",
   "id": "16e9a995-ea5e-4df8-ae19-126e79efcd2b",
   "metadata": {},
   "source": [
    "# Homer"
   ]
  },
  {
   "cell_type": "code",
   "execution_count": null,
   "id": "9cb4efeb-23b4-42a9-99d3-361c3b871740",
   "metadata": {},
   "outputs": [],
   "source": [
    "from pycistarget.motif_enrichment_homer import *\n",
    "import pyranges as pr\n",
    "import os\n",
    "region_sets = {}\n",
    "region_sets['SOX9_AST']=pr.read_bed('/staging/leuven/stg_00002/lcb/cbravo/Multiomics_pipeline/analysis/DEM_showcase/SOX9_AST.bed')\n",
    "region_sets['SOX10_OL']=pr.read_bed('/staging/leuven/stg_00002/lcb/cbravo/Multiomics_pipeline/analysis/DEM_showcase/SOX10_OL.bed')\n",
    "region_sets['SOX10_MEL']=pr.read_bed('/staging/leuven/stg_00002/lcb/cbravo/Multiomics_pipeline/analysis/DEM_showcase/SOX10_MEL.bed')\n",
    "\n",
    "# Set correct path to run HOMER\n",
    "import os\n",
    "os.putenv('HOMER_HOME','/data/leuven/software/biomed/haswell_centos7/2018a/software/HOMER/4.10.4-foss-2018a')\n",
    "os.environ[\"PATH\"] += os.pathsep + '/data/leuven/software/biomed/haswell_centos7/2018a/software/HOMER/4.10.4-foss-2018a/bin:'\n",
    "homer_path='/data/leuven/software/biomed/haswell_centos7/2018a/software/HOMER/4.10.4-foss-2018a/bin/'\n",
    "# Choose the output directory for the results\n",
    "outdir='/staging/leuven/stg_00002/lcb/cbravo/Multiomics_pipeline/analysis/DEM_showcase/Homer/'\n",
    "# Select your genome\n",
    "genome='hg38'\n",
    "# Run\n",
    "homer_dict=run_homer(homer_path,\n",
    "                     region_sets,\n",
    "                     outdir,\n",
    "                     genome,\n",
    "                     size='given',\n",
    "                     mask=True,\n",
    "                     denovo=False,\n",
    "                     length='8,10,12',\n",
    "                     n_cpu=3,\n",
    "                     annotation_version = 'v10',\n",
    "                     path_to_motif_annotations = '/staging/leuven/stg_00002/lcb/icistarget/data/motif2tf_project/motif_to_tf_db_data/snapshots/motifs-v10-nr.hgnc-m0.00001-o0.0.tbl',\n",
    "                     cistrome_annotation = ['Direct_annot', 'Orthology_annot'],\n",
    "                     _temp_dir='/scratch/leuven/313/vsc31305/ray_spill')\n",
    "\n",
    "# Save\n",
    "import pickle\n",
    "with open('/staging/leuven/stg_00002/lcb/cbravo/Multiomics_pipeline/analysis/DEM_showcase/Homer/Homer_dict.pkl', 'wb') as f:\n",
    "  pickle.dump(homer_dict, f)"
   ]
  },
  {
   "cell_type": "code",
   "execution_count": null,
   "id": "23a19834-f25d-4330-8672-1a70a204d1ba",
   "metadata": {},
   "outputs": [],
   "source": []
  },
  {
   "cell_type": "markdown",
   "id": "50f8da52-dbba-438e-ab55-61e2cc265560",
   "metadata": {},
   "source": [
    "# Overlap cistromes with SCREEN"
   ]
  },
  {
   "cell_type": "code",
   "execution_count": 1,
   "id": "8a73f085-b4a1-4e15-8ba9-16470ec91435",
   "metadata": {},
   "outputs": [],
   "source": [
    "import pyranges as pr\n",
    "import os\n",
    "region_sets = {}\n",
    "region_sets['SOX9_AST']=pr.read_bed('/staging/leuven/stg_00002/lcb/cbravo/Multiomics_pipeline/analysis/DEM_showcase/SOX9_AST.bed')\n",
    "region_sets['SOX10_OL']=pr.read_bed('/staging/leuven/stg_00002/lcb/cbravo/Multiomics_pipeline/analysis/DEM_showcase/SOX10_OL.bed')\n",
    "region_sets['SOX10_MEL']=pr.read_bed('/staging/leuven/stg_00002/lcb/cbravo/Multiomics_pipeline/analysis/DEM_showcase/SOX10_MEL.bed')"
   ]
  },
  {
   "cell_type": "code",
   "execution_count": 2,
   "id": "23f0e9de-4ea0-46ae-a16d-2f98585d5593",
   "metadata": {},
   "outputs": [
    {
     "name": "stderr",
     "output_type": "stream",
     "text": [
      "/opt/venv/lib/python3.8/site-packages/pybiomart/dataset.py:269: DtypeWarning: Columns (0) have mixed types. Specify dtype option on import or set low_memory=False.\n",
      "  result = pd.read_csv(StringIO(response.text), sep='\\t')\n",
      "/local_scratch/tmp-vsc31305/ipykernel_25204/2310951791.py:18: FutureWarning: The default value of regex will change from True to False in a future version.\n",
      "  annot['Chromosome/scaffold name'] = annot['Chromosome/scaffold name'].str.replace(r'(\\b\\S)', r'chr\\1')\n"
     ]
    },
    {
     "data": {
      "text/plain": [
       "{'SOX9_AST': 2053, 'SOX10_OL': 5472, 'SOX10_MEL': 18141}"
      ]
     },
     "execution_count": 2,
     "metadata": {},
     "output_type": "execute_result"
    }
   ],
   "source": [
    "# Filter promoters\n",
    "# Get TSS annotations\n",
    "import pybiomart as pbm\n",
    "# For mouse (mm39)\n",
    "#dataset = pbm.Dataset(name='mmusculus_gene_ensembl',  host='http://www.ensembl.org')\n",
    "# For mouse (mm10)\n",
    "#dataset = pbm.Dataset(name='mmusculus_gene_ensembl',  host='http://nov2020.archive.ensembl.org/')\n",
    "# For human (hg38)\n",
    "dataset = pbm.Dataset(name='hsapiens_gene_ensembl',  host='http://www.ensembl.org')\n",
    "# For human (hg19)\n",
    "#dataset = pbm.Dataset(name='hsapiens_gene_ensembl',  host='http://grch37.ensembl.org/')\n",
    "# For fly (dm6)\n",
    "# dataset = pbm.Dataset(name='dmelanogaster_gene_ensembl',  host='http://www.ensembl.org')\n",
    "annot = dataset.query(attributes=['chromosome_name', 'transcription_start_site', 'strand', 'external_gene_name', 'transcript_biotype'])\n",
    "annot['Chromosome/scaffold name'] = annot['Chromosome/scaffold name'].astype('str')\n",
    "filter = annot['Chromosome/scaffold name'].str.contains('CHR|GL|JH|MT')\n",
    "annot = annot[~filter]\n",
    "annot['Chromosome/scaffold name'] = annot['Chromosome/scaffold name'].str.replace(r'(\\b\\S)', r'chr\\1')\n",
    "annot.columns=['Chromosome', 'Start', 'Strand', 'Gene', 'Transcript_type']\n",
    "annot = annot[annot.Transcript_type == 'protein_coding']\n",
    "# Define promoter space\n",
    "annot['End'] = annot['Start']+500\n",
    "annot['Start'] = annot['Start']-500\n",
    "annot = pr.PyRanges(annot[['Chromosome', 'Start', 'End']])\n",
    "## Keep non-overlapping\n",
    "region_sets_overlaps = {key: region_sets[key].count_overlaps(annot) for key in region_sets.keys()}\n",
    "region_sets = {key: region_sets_overlaps[key][region_sets_overlaps[key].NumberOverlaps == 0][['Chromosome', 'Start', 'End']] for key in region_sets.keys()}\n",
    "#region_sets = {key: region_sets_overlaps[key][region_sets_overlaps[key].NumberOverlaps != 0][['Chromosome', 'Start', 'End']] for key in region_sets.keys()}\n",
    "{key:len(region_sets[key]) for key in region_sets.keys()}"
   ]
  },
  {
   "cell_type": "code",
   "execution_count": 5,
   "id": "ea827a3b-16cd-4dc7-ac5d-7d5e3892a478",
   "metadata": {},
   "outputs": [
    {
     "name": "stdout",
     "output_type": "stream",
     "text": [
      "2022-12-06 16:40:35,957 DEM          INFO     Reading DEM database\n"
     ]
    }
   ],
   "source": [
    "# DEM - All\n",
    "# Load cistarget functions\n",
    "from pycistarget.motif_enrichment_dem import *\n",
    "# Preload db, you can also just provide the path to the db. Preloading the database is useful if you want to test different parameters.\n",
    "db = '/staging/leuven/stg_00002/lcb/icistarget/data/make_rankings/v10_clust/CTX_hg38/cluster_SCREEN.regions_vs_motifs.scores.v2.feather'                       \n",
    "dem_db = DEMDatabase(db, region_sets)   "
   ]
  },
  {
   "cell_type": "code",
   "execution_count": 10,
   "id": "d3323956-fab5-41ec-accf-43b50868f8fb",
   "metadata": {},
   "outputs": [],
   "source": [
    "from pycistarget.utils import *\n",
    "dem_db.regions_to_db['SOX9_AST']['Query'].to_csv('/staging/leuven/stg_00002/lcb/cbravo/Multiomics_pipeline/analysis/DEM_showcase/SOX9_AST_SCREEN_regions.tsv', sep='\\t', header=False, index=False)\n",
    "dem_db.regions_to_db['SOX10_OL']['Query'].to_csv('/staging/leuven/stg_00002/lcb/cbravo/Multiomics_pipeline/analysis/DEM_showcase/SOX10_OL_SCREEN_regions.tsv', sep='\\t', header=False, index=False)\n",
    "dem_db.regions_to_db['SOX10_MEL']['Query'].to_csv('/staging/leuven/stg_00002/lcb/cbravo/Multiomics_pipeline/analysis/DEM_showcase/SOX10_MEL_SCREEN_regions.tsv', sep='\\t', header=False, index=False)"
   ]
  },
  {
   "cell_type": "code",
   "execution_count": 13,
   "id": "45daf9d4-a289-4ecc-93f8-a48a183cdde3",
   "metadata": {},
   "outputs": [],
   "source": [
    "dem_db.db_scores.to_csv('/staging/leuven/stg_00002/lcb/cbravo/Multiomics_pipeline/analysis/DEM_showcase/CRM_matrix.tsv', sep='\\t')"
   ]
  },
  {
   "cell_type": "code",
   "execution_count": null,
   "id": "c16c8fc2-bdc7-4d0a-a7a9-499252dcdc14",
   "metadata": {},
   "outputs": [],
   "source": []
  }
 ],
 "metadata": {
  "kernelspec": {
   "display_name": "DEV IMAGE - SCENIC+ latest (use at own risk)",
   "language": "python",
   "name": "pyscenic_plus_dev"
  },
  "language_info": {
   "codemirror_mode": {
    "name": "ipython",
    "version": 3
   },
   "file_extension": ".py",
   "mimetype": "text/x-python",
   "name": "python",
   "nbconvert_exporter": "python",
   "pygments_lexer": "ipython3",
   "version": "3.8.15"
  }
 },
 "nbformat": 4,
 "nbformat_minor": 5
}
