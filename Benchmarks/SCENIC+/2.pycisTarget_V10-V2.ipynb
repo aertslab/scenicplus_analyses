{
 "cells": [
  {
   "cell_type": "markdown",
   "metadata": {},
   "source": [
    "## Generate pycisTarget db"
   ]
  },
  {
   "cell_type": "code",
   "execution_count": null,
   "metadata": {},
   "outputs": [],
   "source": [
    "#### Get fasta sequences\n",
    "module load BEDTools\n",
    "bedtools getfasta -fi /staging/leuven/stg_00002/lcb/resources/human/hg38/hg38.fa -bed /staging/leuven/stg_00002/lcb/cbravo/Multiomics_pipeline/analysis/DPCL/data/MACS_ATAC/iterative/peak_filtering_norm/combined_summits_final.bed > /staging/leuven/stg_00002/lcb/cbravo/Multiomics_pipeline/analysis/DPCL/data/MACS_ATAC/iterative/peak_filtering_norm/combined_summits_final.fa\n",
    "#### Activate environment\n",
    "conda_initialize /staging/leuven/stg_00002/lcb/ghuls/software/miniconda3/\n",
    "conda activate create_cistarget_databases\n",
    "#### Set ${create_cistarget_databases_dir} to https://github.com/aertslab/create_cisTarget_databases\n",
    "create_cistarget_databases_dir='/staging/leuven/stg_00002/lcb/ghuls/software/create_cisTarget_databases'\n",
    "#### Score the motifs in 10 chunks\n",
    "for current_part in {1..10} ; do\n",
    "     python3.8 ${create_cistarget_databases_dir}/create_cistarget_motif_databases.py \\\n",
    "         -f /staging/leuven/stg_00002/lcb/cbravo/Multiomics_pipeline/analysis/DPCL/data/MACS_ATAC/iterative/peak_filtering_norm/combined_summits_final.fa \\\n",
    "         -M /staging/leuven/stg_00002/lcb/cbravo/motif_clustering/RNA_harmony_snn_res_5_clusters/motif_collection_combined_motifs_stamp_and_singlets/singletons/ \\\n",
    "         -m /staging/leuven/stg_00002/lcb/cbravo/motif_clustering/RNA_harmony_snn_res_5_clusters/motif_collection_combined_motifs_stamp_and_singlets/motifs.txt \\\n",
    "         -p ${current_part} 10 \\\n",
    "         -o /staging/leuven/stg_00002/lcb/cbravo/Multiomics_pipeline/analysis/DPCL/pycistarget/dbs/DPCL \\\n",
    "         -t 20\n",
    "done\n",
    "#### Merge scores\n",
    "${create_cistarget_databases_dir}/combine_partial_regions_or_genes_vs_motifs_or_tracks_cistarget_dbs.py -i /staging/leuven/stg_00002/lcb/cbravo/Multiomics_pipeline/analysis/DPCL/pycistarget/dbs/DPCL -o /staging/leuven/stg_00002/lcb/cbravo/Multiomics_pipeline/analysis/DPCL/pycistarget/dbs/\n",
    "#### Remove chunks\n",
    "rm /staging/leuven/stg_00002/lcb/cbravo/Multiomics_pipeline/analysis/DPCL/pycistarget/dbs/DPCL*part*\n",
    "#### Create rankings\n",
    "${create_cistarget_databases_dir}/convert_motifs_or_tracks_vs_regions_or_genes_scores_to_rankings_cistarget_dbs.py -i /staging/leuven/stg_00002/lcb/cbravo/Multiomics_pipeline/analysis/DPCL/pycistarget/dbs/DPCL.motifs_vs_regions.scores.feather -s 555"
   ]
  },
  {
   "cell_type": "markdown",
   "metadata": {
    "tags": []
   },
   "source": [
    "## 1. Motif enrichment"
   ]
  },
  {
   "cell_type": "code",
   "execution_count": null,
   "metadata": {},
   "outputs": [],
   "source": [
    "# r06i01n13\n",
    "singularity exec -B /lustre1,/staging,/data,/vsc-hard-mounts,/scratch /data/leuven/software/biomed/singularity_images/scenicplus/scenicplus.sif ipython3"
   ]
  },
  {
   "cell_type": "code",
   "execution_count": null,
   "metadata": {},
   "outputs": [],
   "source": [
    "# Load region binarized topics\n",
    "import pickle\n",
    "outDir = '/staging/leuven/stg_00002/lcb/cbravo/Multiomics_pipeline/analysis/DPCL/pycisTopic/'\n",
    "infile = open(outDir+'topic_binarization/binarized_topic_region.pkl', 'rb')\n",
    "binarized_topic_region = pickle.load(infile)\n",
    "infile.close()\n",
    "# Load DARs\n",
    "import pickle\n",
    "infile = open(outDir+'DARs/DARs.pkl', 'rb')\n",
    "DARs_dict = pickle.load(infile)\n",
    "infile.close()\n",
    "# Format region sets\n",
    "import re\n",
    "import pyranges as pr\n",
    "from pycistarget.utils import *\n",
    "region_sets = {}\n",
    "region_sets['Topics'] = {key: pr.PyRanges(region_names_to_coordinates(binarized_topic_region[key].index.tolist())) for key in binarized_topic_region.keys()}\n",
    "region_sets['DARs'] = {re.sub('[^A-Za-z0-9]+', '_', key): pr.PyRanges(region_names_to_coordinates(DARs_dict[key].index.tolist())) for key in DARs_dict.keys()}"
   ]
  },
  {
   "cell_type": "code",
   "execution_count": null,
   "metadata": {},
   "outputs": [],
   "source": [
    "# Run pycistarget\n",
    "# run_without_promoters = True, will run the methods in all regions + the region sets without promoters\n",
    "import os\n",
    "os.chdir('/staging/leuven/stg_00002/lcb/cbravo/Multiomics_pipeline/scenicplus/src/')\n",
    "from scenicplus.wrappers.run_pycistarget import *\n",
    "run_pycistarget(region_sets,\n",
    "                 ctx_db_path = '/staging/leuven/stg_00002/lcb/cbravo/Multiomics_pipeline/analysis/DPCL/ctx_db/cluster_V10_DPCL.regions_vs_motifs.rankings.feather',\n",
    "                 species = 'homo_sapiens',\n",
    "                 save_path = '/staging/leuven/stg_00002/lcb/cbravo/Multiomics_pipeline/analysis/DPCL/pycistarget/cluster_V10_V2/',\n",
    "                 dem_db_path = '/staging/leuven/stg_00002/lcb/cbravo/Multiomics_pipeline/analysis/DPCL/ctx_db/cluster_V10_DPCL.regions_vs_motifs.scores.feather',\n",
    "                 run_without_promoters = True,\n",
    "                 biomart_host = 'http://www.ensembl.org',\n",
    "                 promoter_space = 500,\n",
    "                 ctx_auc_threshold = 0.005,\n",
    "                 ctx_nes_threshold = 3.0,\n",
    "                 ctx_rank_threshold = 0.05,\n",
    "                 dem_log2fc_thr = 0.5,\n",
    "                 dem_motif_hit_thr = 3.0,\n",
    "                 dem_max_bg_regions = 500,\n",
    "                 path_to_motif_annotations = '/staging/leuven/stg_00002/lcb/cbravo/cluster_motif_collection_V10_no_desso_no_factorbook/snapshots/motifs-v10-nr.more_orthology.hgnc-mm0.00001-o0.0_clust.tsv',\n",
    "                 annotation_version = 'v10nr_clust',\n",
    "                 annotation = ['Direct_annot', 'Orthology_annot'],\n",
    "                 n_cpu = 1,\n",
    "                 _temp_dir = '/scratch/leuven/313/vsc31305/ray_spill')"
   ]
  },
  {
   "cell_type": "markdown",
   "metadata": {},
   "source": [
    "### 2. With SCREEN database"
   ]
  },
  {
   "cell_type": "code",
   "execution_count": null,
   "metadata": {},
   "outputs": [],
   "source": [
    "# r06i01n13\n",
    "singularity exec -B /lustre1,/staging,/data,/vsc-hard-mounts,/scratch /data/leuven/software/biomed/singularity_images/scenicplus/scenicplus.sif ipython3"
   ]
  },
  {
   "cell_type": "code",
   "execution_count": null,
   "metadata": {},
   "outputs": [],
   "source": [
    "# Load region binarized topics\n",
    "import pickle\n",
    "outDir = '/staging/leuven/stg_00002/lcb/cbravo/Multiomics_pipeline/analysis/DPCL/pycisTopic/'\n",
    "infile = open(outDir+'topic_binarization/binarized_topic_region.pkl', 'rb')\n",
    "binarized_topic_region = pickle.load(infile)\n",
    "infile.close()\n",
    "# Load DARs\n",
    "import pickle\n",
    "infile = open(outDir+'DARs/DARs.pkl', 'rb')\n",
    "DARs_dict = pickle.load(infile)\n",
    "infile.close()\n",
    "# Format region sets\n",
    "import re\n",
    "import pyranges as pr\n",
    "from pycistarget.utils import *\n",
    "region_sets = {}\n",
    "region_sets['Topics'] = {key: pr.PyRanges(region_names_to_coordinates(binarized_topic_region[key].index.tolist())) for key in binarized_topic_region.keys()}\n",
    "region_sets['DARs'] = {re.sub('[^A-Za-z0-9]+', '_', key): pr.PyRanges(region_names_to_coordinates(DARs_dict[key].index.tolist())) for key in DARs_dict.keys()}"
   ]
  },
  {
   "cell_type": "code",
   "execution_count": null,
   "metadata": {},
   "outputs": [],
   "source": [
    "# Run pycistarget\n",
    "# run_without_promoters = True, will run the methods in all regions + the region sets without promoters\n",
    "import os\n",
    "os.chdir('/staging/leuven/stg_00002/lcb/cbravo/Multiomics_pipeline/scenicplus/src/')\n",
    "from scenicplus.wrappers.run_pycistarget import *\n",
    "run_pycistarget(region_sets,\n",
    "                 ctx_db_path = '/staging/leuven/stg_00002/lcb/cbravo/Multiomics_pipeline/analysis/hg38_SCREEN_cluster_db/cluster_SCREEN.regions_vs_motifs.rankings.feather',\n",
    "                 species = 'homo_sapiens',\n",
    "                 save_path = '/staging/leuven/stg_00002/lcb/cbravo/Multiomics_pipeline/analysis/DPCL/pycistarget/SCREEN_cluster_V10_V2/',\n",
    "                 dem_db_path = '/staging/leuven/stg_00002/lcb/cbravo/Multiomics_pipeline/analysis/hg38_SCREEN_cluster_db/cluster_SCREEN.regions_vs_motifs.scores.feather',\n",
    "                 run_without_promoters = True,\n",
    "                 biomart_host = 'http://www.ensembl.org',\n",
    "                 promoter_space = 500,\n",
    "                 ctx_auc_threshold = 0.005,\n",
    "                 ctx_nes_threshold = 3.0,\n",
    "                 ctx_rank_threshold = 0.05,\n",
    "                 dem_log2fc_thr = 0.5,\n",
    "                 dem_motif_hit_thr = 3.0,\n",
    "                 dem_max_bg_regions = 500,\n",
    "                 path_to_motif_annotations = '/staging/leuven/stg_00002/lcb/cbravo/cluster_motif_collection_V10_no_desso_no_factorbook/snapshots/motifs-v10-nr.more_orthology.hgnc-mm0.00001-o0.0_clust.tsv',\n",
    "                 annotation_version = 'v10nr_clust',\n",
    "                 annotation = ['Direct_annot', 'Orthology_annot'],\n",
    "                 n_cpu = 1,\n",
    "                 _temp_dir = '/scratch/leuven/313/vsc31305/ray_spill')"
   ]
  }
 ],
 "metadata": {
  "kernelspec": {
   "display_name": "SCENIC+",
   "language": "python",
   "name": "scenic+"
  },
  "language_info": {
   "codemirror_mode": {
    "name": "ipython",
    "version": 3
   },
   "file_extension": ".py",
   "mimetype": "text/x-python",
   "name": "python",
   "nbconvert_exporter": "python",
   "pygments_lexer": "ipython3",
   "version": "3.8.13"
  }
 },
 "nbformat": 4,
 "nbformat_minor": 4
}
