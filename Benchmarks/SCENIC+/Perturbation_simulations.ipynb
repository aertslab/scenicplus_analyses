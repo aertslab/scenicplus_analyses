{
 "cells": [
  {
   "cell_type": "code",
   "execution_count": 12,
   "id": "26fcaec5-4a5c-4d07-9ad4-fa0fe970ac37",
   "metadata": {},
   "outputs": [],
   "source": [
    "singularity exec -B /lustre1,/staging,/data,/vsc-hard-mounts,/scratch /data/leuven/software/biomed/singularity_images/scenicplus/scenicplus.sif ipython3"
   ]
  },
  {
   "cell_type": "code",
   "execution_count": 1,
   "id": "c85da15b-bdbf-406e-97e5-b9b936c5475d",
   "metadata": {},
   "outputs": [],
   "source": [
    "outDir = '/staging/leuven/stg_00002/lcb/cbravo/Multiomics_pipeline/analysis/DPCL/scenicplus_final_autoreg/grnboost/'\n",
    "import dill\n",
    "infile = open(outDir+'scplus_obj.pkl', 'rb')\n",
    "scplus_obj = dill.load(infile)\n",
    "infile.close()"
   ]
  },
  {
   "cell_type": "code",
   "execution_count": 2,
   "id": "86ee45be-9b2e-4483-b1a9-4960fe028363",
   "metadata": {},
   "outputs": [],
   "source": [
    "import pandas as pd\n",
    "import tqdm\n",
    "from tqdm import tqdm\n",
    "from sklearn.ensemble import GradientBoostingRegressor, RandomForestRegressor, ExtraTreesRegressor\n",
    "\n",
    "SKLEARN_REGRESSOR_FACTORY = {\n",
    "    'RF': RandomForestRegressor,\n",
    "    'ET': ExtraTreesRegressor,\n",
    "    'GBM': GradientBoostingRegressor\n",
    "}\n",
    "\n",
    "GBM_KWARGS = {\n",
    "    'learning_rate': 0.01,\n",
    "    'n_estimators': 500,\n",
    "    'max_features': 0.1\n",
    "}\n",
    "def train_gene_expression_models_df(X, df, regressor_type = 'GBM', regressor_kwargs = GBM_KWARGS):\n",
    "    regressors = {}\n",
    "    for gene in tqdm(set(df['Gene']), total = len(set(df['Gene']))):\n",
    "        regressor = SKLEARN_REGRESSOR_FACTORY[regressor_type](**regressor_kwargs)\n",
    "        predictor_TF = list(set(df.query(\"Gene == @gene\")[\"TF\"]))\n",
    "        if len(predictor_TF) == 0:\n",
    "            continue\n",
    "        predictor_TF_exp_v = X[predictor_TF].to_numpy()\n",
    "        if len(predictor_TF_exp_v.shape) == 1:\n",
    "            predictor_TF_exp_v = predictor_TF_exp_v.reshape(-1, 1)\n",
    "        predictand_target_gene_exp_v = X[gene].to_numpy()\n",
    "        regressor.fit(predictor_TF_exp_v, predictand_target_gene_exp_v)\n",
    "        regressors[gene] = [*predictor_TF, regressor]\n",
    "    return regressors"
   ]
  },
  {
   "cell_type": "code",
   "execution_count": 30,
   "id": "de941813-8e29-4fd4-9ff9-21306414fdd8",
   "metadata": {},
   "outputs": [
    {
     "name": "stderr",
     "output_type": "stream",
     "text": [
      "  6%|█████████▏                                                                                                                                                            | 48/872 [00:12<03:26,  3.99it/s]Exception ignored in: <generator object tqdm.__iter__ at 0x2ad365fd6350>\n",
      "Traceback (most recent call last):\n",
      "  File \"/opt/venv/lib/python3.8/site-packages/tqdm/std.py\", line 1210, in __iter__\n",
      "    self.close()\n",
      "  File \"/opt/venv/lib/python3.8/site-packages/tqdm/std.py\", line 1316, in close\n",
      "    self.display(pos=0)\n",
      "  File \"/opt/venv/lib/python3.8/site-packages/tqdm/std.py\", line 1509, in display\n",
      "    self.sp(self.__str__() if msg is None else msg)\n",
      "  File \"/opt/venv/lib/python3.8/site-packages/tqdm/std.py\", line 350, in print_status\n",
      "    fp_write('\\r' + s + (' ' * max(last_len[0] - len_s, 0)))\n",
      "  File \"/opt/venv/lib/python3.8/site-packages/tqdm/std.py\", line 344, in fp_write\n",
      "    fp_flush()\n",
      "  File \"/opt/venv/lib/python3.8/site-packages/tqdm/utils.py\", line 145, in inner\n",
      "    return func(*args, **kwargs)\n",
      "  File \"/opt/venv/lib/python3.8/site-packages/ipykernel/iostream.py\", line 487, in flush\n",
      "    if not evt.wait(self.flush_timeout):\n",
      "  File \"/usr/local/lib/python3.8/threading.py\", line 558, in wait\n",
      "    signaled = self._cond.wait(timeout)\n",
      "  File \"/usr/local/lib/python3.8/threading.py\", line 306, in wait\n",
      "    gotit = waiter.acquire(True, timeout)\n",
      "KeyboardInterrupt: \n"
     ]
    },
    {
     "ename": "KeyboardInterrupt",
     "evalue": "",
     "output_type": "error",
     "traceback": [
      "\u001b[0;31m---------------------------------------------------------------------------\u001b[0m",
      "\u001b[0;31mKeyboardInterrupt\u001b[0m                         Traceback (most recent call last)",
      "Input \u001b[0;32mIn [30]\u001b[0m, in \u001b[0;36m<cell line: 7>\u001b[0;34m()\u001b[0m\n\u001b[1;32m      9\u001b[0m d \u001b[38;5;241m=\u001b[39m pd\u001b[38;5;241m.\u001b[39mread_csv(file, sep\u001b[38;5;241m=\u001b[39m\u001b[38;5;124m'\u001b[39m\u001b[38;5;130;01m\\t\u001b[39;00m\u001b[38;5;124m'\u001b[39m)\n\u001b[1;32m     10\u001b[0m d \u001b[38;5;241m=\u001b[39m d[d[\u001b[38;5;124m'\u001b[39m\u001b[38;5;124mGene\u001b[39m\u001b[38;5;124m'\u001b[39m]\u001b[38;5;241m.\u001b[39misin(genes)]\n\u001b[0;32m---> 11\u001b[0m regressors \u001b[38;5;241m=\u001b[39m \u001b[43mtrain_gene_expression_models_df\u001b[49m\u001b[43m(\u001b[49m\u001b[43mX\u001b[49m\u001b[43m,\u001b[49m\u001b[43m \u001b[49m\u001b[43md\u001b[49m\u001b[43m)\u001b[49m\n\u001b[1;32m     12\u001b[0m r2_scores \u001b[38;5;241m=\u001b[39m [\n\u001b[1;32m     13\u001b[0m     r2_score(X[gene]\u001b[38;5;241m.\u001b[39mto_numpy(), regressors[gene][\u001b[38;5;241m-\u001b[39m\u001b[38;5;241m1\u001b[39m]\u001b[38;5;241m.\u001b[39mpredict(X[regressors[gene][\u001b[38;5;241m0\u001b[39m: \u001b[38;5;28mlen\u001b[39m(regressors[gene]) \u001b[38;5;241m-\u001b[39m \u001b[38;5;241m1\u001b[39m]]))\n\u001b[1;32m     14\u001b[0m     \u001b[38;5;28;01mfor\u001b[39;00m gene \u001b[38;5;129;01min\u001b[39;00m tqdm(regressors\u001b[38;5;241m.\u001b[39mkeys(), total \u001b[38;5;241m=\u001b[39m \u001b[38;5;28mlen\u001b[39m(regressors\u001b[38;5;241m.\u001b[39mkeys()))]\n\u001b[1;32m     15\u001b[0m y \u001b[38;5;241m=\u001b[39m pd\u001b[38;5;241m.\u001b[39mDataFrame([\u001b[38;5;28mlist\u001b[39m(d[\u001b[38;5;124m'\u001b[39m\u001b[38;5;124mGene\u001b[39m\u001b[38;5;124m'\u001b[39m]), r2_scores])\u001b[38;5;241m.\u001b[39mT\n",
      "Input \u001b[0;32mIn [15]\u001b[0m, in \u001b[0;36mtrain_gene_expression_models_df\u001b[0;34m(X, df, regressor_type, regressor_kwargs)\u001b[0m\n\u001b[1;32m     26\u001b[0m         predictor_TF_exp_v \u001b[38;5;241m=\u001b[39m predictor_TF_exp_v\u001b[38;5;241m.\u001b[39mreshape(\u001b[38;5;241m-\u001b[39m\u001b[38;5;241m1\u001b[39m, \u001b[38;5;241m1\u001b[39m)\n\u001b[1;32m     27\u001b[0m     predictand_target_gene_exp_v \u001b[38;5;241m=\u001b[39m X[gene]\u001b[38;5;241m.\u001b[39mto_numpy()\n\u001b[0;32m---> 28\u001b[0m     \u001b[43mregressor\u001b[49m\u001b[38;5;241;43m.\u001b[39;49m\u001b[43mfit\u001b[49m\u001b[43m(\u001b[49m\u001b[43mpredictor_TF_exp_v\u001b[49m\u001b[43m,\u001b[49m\u001b[43m \u001b[49m\u001b[43mpredictand_target_gene_exp_v\u001b[49m\u001b[43m)\u001b[49m\n\u001b[1;32m     29\u001b[0m     regressors[gene] \u001b[38;5;241m=\u001b[39m [\u001b[38;5;241m*\u001b[39mpredictor_TF, regressor]\n\u001b[1;32m     30\u001b[0m \u001b[38;5;28;01mreturn\u001b[39;00m regressors\n",
      "File \u001b[0;32m/opt/venv/lib/python3.8/site-packages/sklearn/ensemble/_gb.py:504\u001b[0m, in \u001b[0;36mBaseGradientBoosting.fit\u001b[0;34m(self, X, y, sample_weight, monitor)\u001b[0m\n\u001b[1;32m    501\u001b[0m     \u001b[38;5;28mself\u001b[39m\u001b[38;5;241m.\u001b[39m_resize_state()\n\u001b[1;32m    503\u001b[0m \u001b[38;5;66;03m# fit the boosting stages\u001b[39;00m\n\u001b[0;32m--> 504\u001b[0m n_stages \u001b[38;5;241m=\u001b[39m \u001b[38;5;28;43mself\u001b[39;49m\u001b[38;5;241;43m.\u001b[39;49m\u001b[43m_fit_stages\u001b[49m\u001b[43m(\u001b[49m\n\u001b[1;32m    505\u001b[0m \u001b[43m    \u001b[49m\u001b[43mX\u001b[49m\u001b[43m,\u001b[49m\u001b[43m \u001b[49m\u001b[43my\u001b[49m\u001b[43m,\u001b[49m\u001b[43m \u001b[49m\u001b[43mraw_predictions\u001b[49m\u001b[43m,\u001b[49m\u001b[43m \u001b[49m\u001b[43msample_weight\u001b[49m\u001b[43m,\u001b[49m\u001b[43m \u001b[49m\u001b[38;5;28;43mself\u001b[39;49m\u001b[38;5;241;43m.\u001b[39;49m\u001b[43m_rng\u001b[49m\u001b[43m,\u001b[49m\u001b[43m \u001b[49m\u001b[43mX_val\u001b[49m\u001b[43m,\u001b[49m\u001b[43m \u001b[49m\u001b[43my_val\u001b[49m\u001b[43m,\u001b[49m\n\u001b[1;32m    506\u001b[0m \u001b[43m    \u001b[49m\u001b[43msample_weight_val\u001b[49m\u001b[43m,\u001b[49m\u001b[43m \u001b[49m\u001b[43mbegin_at_stage\u001b[49m\u001b[43m,\u001b[49m\u001b[43m \u001b[49m\u001b[43mmonitor\u001b[49m\u001b[43m)\u001b[49m\n\u001b[1;32m    508\u001b[0m \u001b[38;5;66;03m# change shape of arrays after fit (early-stopping or additional ests)\u001b[39;00m\n\u001b[1;32m    509\u001b[0m \u001b[38;5;28;01mif\u001b[39;00m n_stages \u001b[38;5;241m!=\u001b[39m \u001b[38;5;28mself\u001b[39m\u001b[38;5;241m.\u001b[39mestimators_\u001b[38;5;241m.\u001b[39mshape[\u001b[38;5;241m0\u001b[39m]:\n",
      "File \u001b[0;32m/opt/venv/lib/python3.8/site-packages/sklearn/ensemble/_gb.py:561\u001b[0m, in \u001b[0;36mBaseGradientBoosting._fit_stages\u001b[0;34m(self, X, y, raw_predictions, sample_weight, random_state, X_val, y_val, sample_weight_val, begin_at_stage, monitor)\u001b[0m\n\u001b[1;32m    556\u001b[0m     old_oob_score \u001b[38;5;241m=\u001b[39m loss_(y[\u001b[38;5;241m~\u001b[39msample_mask],\n\u001b[1;32m    557\u001b[0m                           raw_predictions[\u001b[38;5;241m~\u001b[39msample_mask],\n\u001b[1;32m    558\u001b[0m                           sample_weight[\u001b[38;5;241m~\u001b[39msample_mask])\n\u001b[1;32m    560\u001b[0m \u001b[38;5;66;03m# fit next stage of trees\u001b[39;00m\n\u001b[0;32m--> 561\u001b[0m raw_predictions \u001b[38;5;241m=\u001b[39m \u001b[38;5;28;43mself\u001b[39;49m\u001b[38;5;241;43m.\u001b[39;49m\u001b[43m_fit_stage\u001b[49m\u001b[43m(\u001b[49m\n\u001b[1;32m    562\u001b[0m \u001b[43m    \u001b[49m\u001b[43mi\u001b[49m\u001b[43m,\u001b[49m\u001b[43m \u001b[49m\u001b[43mX\u001b[49m\u001b[43m,\u001b[49m\u001b[43m \u001b[49m\u001b[43my\u001b[49m\u001b[43m,\u001b[49m\u001b[43m \u001b[49m\u001b[43mraw_predictions\u001b[49m\u001b[43m,\u001b[49m\u001b[43m \u001b[49m\u001b[43msample_weight\u001b[49m\u001b[43m,\u001b[49m\u001b[43m \u001b[49m\u001b[43msample_mask\u001b[49m\u001b[43m,\u001b[49m\n\u001b[1;32m    563\u001b[0m \u001b[43m    \u001b[49m\u001b[43mrandom_state\u001b[49m\u001b[43m,\u001b[49m\u001b[43m \u001b[49m\u001b[43mX_csc\u001b[49m\u001b[43m,\u001b[49m\u001b[43m \u001b[49m\u001b[43mX_csr\u001b[49m\u001b[43m)\u001b[49m\n\u001b[1;32m    565\u001b[0m \u001b[38;5;66;03m# track deviance (= loss)\u001b[39;00m\n\u001b[1;32m    566\u001b[0m \u001b[38;5;28;01mif\u001b[39;00m do_oob:\n",
      "File \u001b[0;32m/opt/venv/lib/python3.8/site-packages/sklearn/ensemble/_gb.py:218\u001b[0m, in \u001b[0;36mBaseGradientBoosting._fit_stage\u001b[0;34m(self, i, X, y, raw_predictions, sample_weight, sample_mask, random_state, X_csc, X_csr)\u001b[0m\n\u001b[1;32m    214\u001b[0m tree\u001b[38;5;241m.\u001b[39mfit(X, residual, sample_weight\u001b[38;5;241m=\u001b[39msample_weight,\n\u001b[1;32m    215\u001b[0m          check_input\u001b[38;5;241m=\u001b[39m\u001b[38;5;28;01mFalse\u001b[39;00m)\n\u001b[1;32m    217\u001b[0m \u001b[38;5;66;03m# update tree leaves\u001b[39;00m\n\u001b[0;32m--> 218\u001b[0m \u001b[43mloss\u001b[49m\u001b[38;5;241;43m.\u001b[39;49m\u001b[43mupdate_terminal_regions\u001b[49m\u001b[43m(\u001b[49m\n\u001b[1;32m    219\u001b[0m \u001b[43m    \u001b[49m\u001b[43mtree\u001b[49m\u001b[38;5;241;43m.\u001b[39;49m\u001b[43mtree_\u001b[49m\u001b[43m,\u001b[49m\u001b[43m \u001b[49m\u001b[43mX\u001b[49m\u001b[43m,\u001b[49m\u001b[43m \u001b[49m\u001b[43my\u001b[49m\u001b[43m,\u001b[49m\u001b[43m \u001b[49m\u001b[43mresidual\u001b[49m\u001b[43m,\u001b[49m\u001b[43m \u001b[49m\u001b[43mraw_predictions\u001b[49m\u001b[43m,\u001b[49m\u001b[43m \u001b[49m\u001b[43msample_weight\u001b[49m\u001b[43m,\u001b[49m\n\u001b[1;32m    220\u001b[0m \u001b[43m    \u001b[49m\u001b[43msample_mask\u001b[49m\u001b[43m,\u001b[49m\u001b[43m \u001b[49m\u001b[43mlearning_rate\u001b[49m\u001b[38;5;241;43m=\u001b[39;49m\u001b[38;5;28;43mself\u001b[39;49m\u001b[38;5;241;43m.\u001b[39;49m\u001b[43mlearning_rate\u001b[49m\u001b[43m,\u001b[49m\u001b[43m \u001b[49m\u001b[43mk\u001b[49m\u001b[38;5;241;43m=\u001b[39;49m\u001b[43mk\u001b[49m\u001b[43m)\u001b[49m\n\u001b[1;32m    222\u001b[0m \u001b[38;5;66;03m# add tree to ensemble\u001b[39;00m\n\u001b[1;32m    223\u001b[0m \u001b[38;5;28mself\u001b[39m\u001b[38;5;241m.\u001b[39mestimators_[i, k] \u001b[38;5;241m=\u001b[39m tree\n",
      "File \u001b[0;32m/opt/venv/lib/python3.8/site-packages/sklearn/ensemble/_gb_losses.py:249\u001b[0m, in \u001b[0;36mLeastSquaresError.update_terminal_regions\u001b[0;34m(self, tree, X, y, residual, raw_predictions, sample_weight, sample_mask, learning_rate, k)\u001b[0m\n\u001b[1;32m    221\u001b[0m \u001b[38;5;124;03m\"\"\"Least squares does not need to update terminal regions.\u001b[39;00m\n\u001b[1;32m    222\u001b[0m \n\u001b[1;32m    223\u001b[0m \u001b[38;5;124;03mBut it has to update the predictions.\u001b[39;00m\n\u001b[0;32m   (...)\u001b[0m\n\u001b[1;32m    246\u001b[0m \u001b[38;5;124;03m    The index of the estimator being updated.\u001b[39;00m\n\u001b[1;32m    247\u001b[0m \u001b[38;5;124;03m\"\"\"\u001b[39;00m\n\u001b[1;32m    248\u001b[0m \u001b[38;5;66;03m# update predictions\u001b[39;00m\n\u001b[0;32m--> 249\u001b[0m raw_predictions[:, k] \u001b[38;5;241m+\u001b[39m\u001b[38;5;241m=\u001b[39m learning_rate \u001b[38;5;241m*\u001b[39m tree\u001b[38;5;241m.\u001b[39mpredict(X)\u001b[38;5;241m.\u001b[39mravel()\n",
      "\u001b[0;31mKeyboardInterrupt\u001b[0m: "
     ]
    }
   ],
   "source": [
    "from sklearn.metrics import r2_score\n",
    "from tqdm import tqdm\n",
    "df = scplus_obj.to_df('EXP')\n",
    "X = df.sample(frac = 0.8)\n",
    "Y = df.drop(X.index)\n",
    "\n",
    "path = '/staging/leuven/stg_00002/lcb/cbravo/Multiomics_pipeline/analysis/DPCL/methods_benchmark/plots/panelg/df_prediction/'\n",
    "genes = list(set(list(pd.read_csv(path+'DEGs.tsv', sep='\\t', header=None)[0])))\n",
    "methods = ['CellOracle', 'FigR', 'Pando', 'GRaNIE', 'SCENIC(v10)', 'SCENIC(v10c)', 'SCENIC(v10u)', 'SCENIC(v9)', 'SCENIC+(S)', 'SCENIC+'] \n",
    "for method in methods:\n",
    "    print(method)\n",
    "    file = path+method+'.tsv'\n",
    "    d = pd.read_csv(file, sep='\\t')\n",
    "    d = d[d['Gene'].isin(genes)]\n",
    "    regressors = train_gene_expression_models_df(X, d)\n",
    "    r2_scores = [\n",
    "        r2_score(Y[gene].to_numpy(), regressors[gene][-1].predict(Y[regressors[gene][0: len(regressors[gene]) - 1]]))\n",
    "        for gene in tqdm(regressors.keys(), total = len(regressors.keys()))]\n",
    "    y = pd.DataFrame([regressors.keys(), r2_scores]).T\n",
    "    y.to_csv(path+'predictions_v2/'+method+'.tsv',sep='\\t', index=False, header=False)"
   ]
  },
  {
   "cell_type": "code",
   "execution_count": 3,
   "id": "c6b3c232-376d-4828-b322-d0d3af05f099",
   "metadata": {},
   "outputs": [],
   "source": [
    "import pandas as pd\n",
    "import tqdm\n",
    "from tqdm import tqdm\n",
    "from sklearn.ensemble import GradientBoostingRegressor, RandomForestRegressor, ExtraTreesRegressor\n",
    "\n",
    "SKLEARN_REGRESSOR_FACTORY = {\n",
    "    'RF': RandomForestRegressor,\n",
    "    'ET': ExtraTreesRegressor,\n",
    "    'GBM': GradientBoostingRegressor\n",
    "}\n",
    "\n",
    "GBM_KWARGS = {\n",
    "    'learning_rate': 0.01,\n",
    "    'n_estimators': 500,\n",
    "    'max_features': 0.1\n",
    "}\n",
    "def train_gene_expression_models_df(X, df, regressor_type = 'GBM', regressor_kwargs = GBM_KWARGS):\n",
    "    regressors = {}\n",
    "    for gene in tqdm(set(df['Gene']), total = len(set(df['Gene']))):\n",
    "        regressor = SKLEARN_REGRESSOR_FACTORY[regressor_type](**regressor_kwargs)\n",
    "        predictor_TF = list(set(df.query(\"Gene == @gene\")[\"TF\"]))\n",
    "        if len(predictor_TF) == 0:\n",
    "            continue\n",
    "        predictor_TF_exp_v = X[predictor_TF].to_numpy()\n",
    "        if len(predictor_TF_exp_v.shape) == 1:\n",
    "            predictor_TF_exp_v = predictor_TF_exp_v.reshape(-1, 1)\n",
    "        predictand_target_gene_exp_v = X[gene].to_numpy()\n",
    "        regressor.fit(predictor_TF_exp_v, predictand_target_gene_exp_v)\n",
    "        regressors[gene] = [*predictor_TF, regressor]\n",
    "    return regressors"
   ]
  },
  {
   "cell_type": "code",
   "execution_count": 4,
   "id": "80757f45-d791-407a-8c1e-c6b6c12ea539",
   "metadata": {},
   "outputs": [
    {
     "name": "stdout",
     "output_type": "stream",
     "text": [
      "CellOracle\n"
     ]
    },
    {
     "name": "stderr",
     "output_type": "stream",
     "text": [
      "100%|███████████████████████████████████████████████████████████████████████████████████████████████████████████████████████████████████████████████████████████████████| 1/1 [00:00<00:00,  2.06it/s]\n"
     ]
    },
    {
     "name": "stdout",
     "output_type": "stream",
     "text": [
      "FigR\n"
     ]
    },
    {
     "name": "stderr",
     "output_type": "stream",
     "text": [
      "100%|███████████████████████████████████████████████████████████████████████████████████████████████████████████████████████████████████████████████████████████████████| 1/1 [00:00<00:00,  2.85it/s]\n"
     ]
    },
    {
     "name": "stdout",
     "output_type": "stream",
     "text": [
      "Pando\n"
     ]
    },
    {
     "name": "stderr",
     "output_type": "stream",
     "text": [
      "100%|███████████████████████████████████████████████████████████████████████████████████████████████████████████████████████████████████████████████████████████████████| 1/1 [00:00<00:00,  3.01it/s]\n"
     ]
    },
    {
     "name": "stdout",
     "output_type": "stream",
     "text": [
      "GRaNIE\n"
     ]
    },
    {
     "name": "stderr",
     "output_type": "stream",
     "text": [
      "100%|███████████████████████████████████████████████████████████████████████████████████████████████████████████████████████████████████████████████████████████████████| 1/1 [00:00<00:00,  3.09it/s]\n"
     ]
    },
    {
     "name": "stdout",
     "output_type": "stream",
     "text": [
      "SCENIC(v10)\n"
     ]
    },
    {
     "name": "stderr",
     "output_type": "stream",
     "text": [
      "100%|███████████████████████████████████████████████████████████████████████████████████████████████████████████████████████████████████████████████████████████████████| 1/1 [00:01<00:00,  1.50s/it]\n"
     ]
    },
    {
     "name": "stdout",
     "output_type": "stream",
     "text": [
      "SCENIC(v10c)\n"
     ]
    },
    {
     "name": "stderr",
     "output_type": "stream",
     "text": [
      "100%|███████████████████████████████████████████████████████████████████████████████████████████████████████████████████████████████████████████████████████████████████| 1/1 [00:00<00:00,  2.14it/s]\n"
     ]
    },
    {
     "name": "stdout",
     "output_type": "stream",
     "text": [
      "SCENIC(v10u)\n"
     ]
    },
    {
     "name": "stderr",
     "output_type": "stream",
     "text": [
      "100%|███████████████████████████████████████████████████████████████████████████████████████████████████████████████████████████████████████████████████████████████████| 1/1 [00:00<00:00,  1.71it/s]\n"
     ]
    },
    {
     "name": "stdout",
     "output_type": "stream",
     "text": [
      "SCENIC(v9)\n"
     ]
    },
    {
     "name": "stderr",
     "output_type": "stream",
     "text": [
      "100%|███████████████████████████████████████████████████████████████████████████████████████████████████████████████████████████████████████████████████████████████████| 1/1 [00:00<00:00,  1.63it/s]\n"
     ]
    },
    {
     "name": "stdout",
     "output_type": "stream",
     "text": [
      "SCENIC+(S)\n"
     ]
    },
    {
     "name": "stderr",
     "output_type": "stream",
     "text": [
      "100%|███████████████████████████████████████████████████████████████████████████████████████████████████████████████████████████████████████████████████████████████████| 1/1 [00:01<00:00,  1.14s/it]\n"
     ]
    },
    {
     "name": "stdout",
     "output_type": "stream",
     "text": [
      "SCENIC+\n"
     ]
    },
    {
     "name": "stderr",
     "output_type": "stream",
     "text": [
      "100%|███████████████████████████████████████████████████████████████████████████████████████████████████████████████████████████████████████████████████████████████████| 1/1 [00:00<00:00,  1.10it/s]\n"
     ]
    }
   ],
   "source": [
    "from sklearn.metrics import r2_score\n",
    "from tqdm import tqdm\n",
    "df = scplus_obj.to_df('EXP')\n",
    "X = df.sample(frac = 0.8)\n",
    "Y = df.drop(X.index)\n",
    "\n",
    "path = '/staging/leuven/stg_00002/lcb/cbravo/Multiomics_pipeline/analysis/DPCL/methods_benchmark/plots/panelg/df_prediction/'\n",
    "genes = ['FABP1']\n",
    "methods = ['CellOracle', 'FigR', 'Pando', 'GRaNIE', 'SCENIC(v10)', 'SCENIC(v10c)', 'SCENIC(v10u)', 'SCENIC(v9)', 'SCENIC+(S)', 'SCENIC+'] \n",
    "for method in methods:\n",
    "    print(method)\n",
    "    file = path+method+'.tsv'\n",
    "    d = pd.read_csv(file, sep='\\t')\n",
    "    d = d[d['Gene'].isin(genes)]\n",
    "    regressors = train_gene_expression_models_df(X, d)\n",
    "    gene = genes[0]\n",
    "    y = pd.DataFrame([Y[gene].to_numpy(), regressors[gene][-1].predict(Y[regressors[gene][0: len(regressors[gene]) - 1]])]).T\n",
    "    y.columns = ['O', 'E']\n",
    "    y.to_csv(path+'predictions_v2/FABP1/'+method+'.tsv',sep='\\t', index=False, header=False)"
   ]
  },
  {
   "cell_type": "code",
   "execution_count": 23,
   "id": "b39937c3-4655-466b-958f-692f789e6e06",
   "metadata": {},
   "outputs": [
    {
     "data": {
      "text/plain": [
       "{0.0, 1.0, 2.0, 3.0, 4.0, 5.0}"
      ]
     },
     "execution_count": 23,
     "metadata": {},
     "output_type": "execute_result"
    }
   ],
   "source": [
    "\n"
   ]
  },
  {
   "cell_type": "code",
   "execution_count": 26,
   "id": "21e6a932-32e3-49cf-a9f3-0d67dc00e311",
   "metadata": {},
   "outputs": [],
   "source": [
    "y = pd.DataFrame([list(d['Gene']), r2_scores]).T"
   ]
  },
  {
   "cell_type": "code",
   "execution_count": 29,
   "id": "75834d28-a7c5-4876-ad80-a617334ed0b4",
   "metadata": {},
   "outputs": [],
   "source": [
    "method = 'CellOracle'\n",
    "y.to_csv(path+'predictions/'+method+'.tsv',sep='\\t', index=False, header=False)"
   ]
  },
  {
   "cell_type": "code",
   "execution_count": 4,
   "id": "fa4c01aa-8110-4904-a91f-67752183da7f",
   "metadata": {},
   "outputs": [
    {
     "ename": "KeyError",
     "evalue": "'selected_eRegulons'",
     "output_type": "error",
     "traceback": [
      "\u001b[0;31m---------------------------------------------------------------------------\u001b[0m",
      "\u001b[0;31mKeyError\u001b[0m                                  Traceback (most recent call last)",
      "Input \u001b[0;32mIn [4]\u001b[0m, in \u001b[0;36m<cell line: 8>\u001b[0;34m()\u001b[0m\n\u001b[1;32m      5\u001b[0m sc\u001b[38;5;241m.\u001b[39mpp\u001b[38;5;241m.\u001b[39mhighly_variable_genes(adata, min_mean\u001b[38;5;241m=\u001b[39m\u001b[38;5;241m0.0125\u001b[39m, max_mean\u001b[38;5;241m=\u001b[39m\u001b[38;5;241m3\u001b[39m, min_disp\u001b[38;5;241m=\u001b[39m\u001b[38;5;241m0.5\u001b[39m)\n\u001b[1;32m      7\u001b[0m hvg \u001b[38;5;241m=\u001b[39m \u001b[38;5;28mlist\u001b[39m(adata\u001b[38;5;241m.\u001b[39mvar\u001b[38;5;241m.\u001b[39mindex[adata\u001b[38;5;241m.\u001b[39mvar[\u001b[38;5;124m'\u001b[39m\u001b[38;5;124mhighly_variable\u001b[39m\u001b[38;5;124m'\u001b[39m]])\n\u001b[0;32m----> 8\u001b[0m genes_to_use \u001b[38;5;241m=\u001b[39m \u001b[38;5;28mlist\u001b[39m(\u001b[38;5;28mset\u001b[39m([\u001b[38;5;241m*\u001b[39mhvg, \u001b[38;5;241m*\u001b[39m [x\u001b[38;5;241m.\u001b[39msplit(\u001b[38;5;124m'\u001b[39m\u001b[38;5;124m_\u001b[39m\u001b[38;5;124m'\u001b[39m)[\u001b[38;5;241m0\u001b[39m] \u001b[38;5;28;01mfor\u001b[39;00m x \u001b[38;5;129;01min\u001b[39;00m \u001b[43mscplus_obj\u001b[49m\u001b[38;5;241;43m.\u001b[39;49m\u001b[43muns\u001b[49m\u001b[43m[\u001b[49m\u001b[38;5;124;43m'\u001b[39;49m\u001b[38;5;124;43mselected_eRegulons\u001b[39;49m\u001b[38;5;124;43m'\u001b[39;49m\u001b[43m]\u001b[49m[\u001b[38;5;124m'\u001b[39m\u001b[38;5;124mGene_based\u001b[39m\u001b[38;5;124m'\u001b[39m]]]))\n\u001b[1;32m     10\u001b[0m regressors \u001b[38;5;241m=\u001b[39m train_gene_expression_models(\n\u001b[1;32m     11\u001b[0m         scplus_obj,\n\u001b[1;32m     12\u001b[0m         eRegulon_metadata_key \u001b[38;5;241m=\u001b[39m \u001b[38;5;124m'\u001b[39m\u001b[38;5;124meRegulon_metadata_filtered\u001b[39m\u001b[38;5;124m'\u001b[39m,\n\u001b[1;32m     13\u001b[0m         genes \u001b[38;5;241m=\u001b[39m genes_to_use,\n\u001b[1;32m     14\u001b[0m         eRegulons_to_use \u001b[38;5;241m=\u001b[39m scplus_obj\u001b[38;5;241m.\u001b[39muns[\u001b[38;5;124m'\u001b[39m\u001b[38;5;124mselected_eRegulons\u001b[39m\u001b[38;5;124m'\u001b[39m][\u001b[38;5;124m'\u001b[39m\u001b[38;5;124mGene_based\u001b[39m\u001b[38;5;124m'\u001b[39m])\n\u001b[1;32m     16\u001b[0m X \u001b[38;5;241m=\u001b[39m scplus_obj\u001b[38;5;241m.\u001b[39mto_df(\u001b[38;5;124m'\u001b[39m\u001b[38;5;124mEXP\u001b[39m\u001b[38;5;124m'\u001b[39m)\n",
      "\u001b[0;31mKeyError\u001b[0m: 'selected_eRegulons'"
     ]
    }
   ],
   "source": [
    "import scanpy as sc\n",
    "adata = sc.AnnData(scplus_obj.to_df('EXP'))\n",
    "sc.pp.normalize_total(adata, target_sum=1e4)\n",
    "sc.pp.log1p(adata)\n",
    "sc.pp.highly_variable_genes(adata, min_mean=0.0125, max_mean=3, min_disp=0.5)\n",
    "\n",
    "hvg = list(adata.var.index[adata.var['highly_variable']])\n",
    "genes_to_use = list(set([*hvg, * [x.split('_')[0] for x in scplus_obj.uns['eRegulons']['Gene_based']]]))\n",
    "\n",
    "regressors = train_gene_expression_models(\n",
    "        scplus_obj,\n",
    "        eRegulon_metadata_key = 'eRegulon_metadata_filtered',\n",
    "        genes = genes_to_use,\n",
    "        eRegulons_to_use = scplus_obj.uns['selected_eRegulons']['Gene_based'])\n",
    "\n",
    "X = scplus_obj.to_df('EXP')\n",
    "from sklearn.metrics import r2_score\n",
    "from tqdm import tqdm\n",
    "r2_scores = [\n",
    "        r2_score(X[gene].to_numpy(), regressors[gene][-1].predict(X[regressors[gene][0: len(regressors[gene]) - 1]]))\n",
    "        for gene in tqdm(regressors.keys(), total = len(regressors.keys()))]"
   ]
  },
  {
   "cell_type": "code",
   "execution_count": 7,
   "id": "1516de2d-ddae-445b-81c4-aa7728f8ead1",
   "metadata": {},
   "outputs": [
    {
     "data": {
      "text/plain": [
       "4308"
      ]
     },
     "execution_count": 7,
     "metadata": {},
     "output_type": "execute_result"
    }
   ],
   "source": [
    "len(hvg)"
   ]
  },
  {
   "cell_type": "code",
   "execution_count": null,
   "id": "419a4638-0a5e-43c3-a732-28920b51b37c",
   "metadata": {},
   "outputs": [],
   "source": []
  }
 ],
 "metadata": {
  "kernelspec": {
   "display_name": "DEV IMAGE - SCENIC+ latest (use at own risk)",
   "language": "python",
   "name": "pyscenic_plus_dev"
  },
  "language_info": {
   "codemirror_mode": {
    "name": "ipython",
    "version": 3
   },
   "file_extension": ".py",
   "mimetype": "text/x-python",
   "name": "python",
   "nbconvert_exporter": "python",
   "pygments_lexer": "ipython3",
   "version": "3.8.15"
  }
 },
 "nbformat": 4,
 "nbformat_minor": 5
}
