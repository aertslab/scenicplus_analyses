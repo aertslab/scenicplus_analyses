{
 "cells": [
  {
   "cell_type": "code",
   "execution_count": null,
   "id": "45f48b03-857c-4d06-b19f-d36c568ca59a",
   "metadata": {},
   "outputs": [],
   "source": [
    "# Create correctly formatted bam files\n",
    "/staging/leuven/stg_00002/lcb/ghuls/software/manipulate_single_cell_bam_files/create_single_cell_bam_file_with_selected_cell_barcodes_only.sh create_single_cell_bam_file_for_feature_counts_with_selected_cell_barcodes_only 10X_SCRNASEQ_WT_EA_S1.sorted.bam 10X_SCRNASEQ_WT_EA_S1.sorted.subset.bam Run1.tsv ns\n",
    "\n",
    "/staging/leuven/stg_00002/lcb/ghuls/software/manipulate_single_cell_bam_files/create_single_cell_bam_file_with_selected_cell_barcodes_only.sh create_single_cell_bam_file_for_feature_counts_with_selected_cell_barcodes_only 10X_SCRNASEQ_WT_EA_S2.sorted.bam 10X_SCRNASEQ_WT_EA_S2.sorted.subset.bam Run2.tsv ns\n",
    "\n",
    "/staging/leuven/stg_00002/lcb/ghuls/software/manipulate_single_cell_bam_files/create_single_cell_bam_file_with_selected_cell_barcodes_only.sh create_single_cell_bam_file_for_feature_counts_with_selected_cell_barcodes_only 10X_SCRNASEQ_WT_EA_S3.sorted.bam 10X_SCRNASEQ_WT_EA_S3.sorted.subset.bam Run3.tsv ns\n",
    "\n",
    "\n"
   ]
  },
  {
   "cell_type": "code",
   "execution_count": null,
   "id": "2f910912-965f-4b41-8f23-766a21e5ae77",
   "metadata": {},
   "outputs": [],
   "source": [
    "/staging/leuven/stg_00002/lcb/cbravo/Bravo_et_al_EyeAntennalDisc_GEO_submission/10X_scRNAseq/MAPPED/run_feature_counts_on_single_cell_bam_file_cbravo.sh \\\n",
    "/staging/leuven/stg_00002/lcb/cbravo/Bravo_et_al_EyeAntennalDisc_GEO_submission/10X_scRNAseq/MAPPED/10X_SCRNASEQ_WT_EA_S1.sorted.subset.bam \\\n",
    "/staging/leuven/stg_00002/lcb/ghuls/tmp/refdata-cellranger-dm6-1.0.0.genes.agat.gtf \\\n",
    "/staging/leuven/stg_00002/lcb/cbravo/Bravo_et_al_EyeAntennalDisc_GEO_submission/10X_scRNAseq/MAPPED/10X_SCRNASEQ_WT_EA_S1_exon.txt \\\n",
    "exon\n",
    "\n",
    "\n",
    "/staging/leuven/stg_00002/lcb/cbravo/Bravo_et_al_EyeAntennalDisc_GEO_submission/10X_scRNAseq/MAPPED/run_feature_counts_on_single_cell_bam_file_cbravo.sh \\\n",
    "/staging/leuven/stg_00002/lcb/cbravo/Bravo_et_al_EyeAntennalDisc_GEO_submission/10X_scRNAseq/MAPPED/10X_SCRNASEQ_WT_EA_S1.sorted.subset.bam \\\n",
    "/staging/leuven/stg_00002/lcb/ghuls/tmp/refdata-cellranger-dm6-1.0.0.genes.agat.gtf \\\n",
    "/staging/leuven/stg_00002/lcb/cbravo/Bravo_et_al_EyeAntennalDisc_GEO_submission/10X_scRNAseq/MAPPED/10X_SCRNASEQ_WT_EA_S1_gene.txt \\\n",
    "gene\n",
    "\n",
    "\n",
    "/staging/leuven/stg_00002/lcb/cbravo/Bravo_et_al_EyeAntennalDisc_GEO_submission/10X_scRNAseq/MAPPED/run_feature_counts_on_single_cell_bam_file_cbravo.sh \\\n",
    "/staging/leuven/stg_00002/lcb/cbravo/Bravo_et_al_EyeAntennalDisc_GEO_submission/10X_scRNAseq/MAPPED/10X_SCRNASEQ_WT_EA_S1.sorted.subset.bam \\\n",
    "/staging/leuven/stg_00002/lcb/ghuls/tmp/refdata-cellranger-dm6-1.0.0.genes.agat.gtf \\\n",
    "/staging/leuven/stg_00002/lcb/cbravo/Bravo_et_al_EyeAntennalDisc_GEO_submission/10X_scRNAseq/MAPPED/10X_SCRNASEQ_WT_EA_S1_transcript.txt \\\n",
    "transcript"
   ]
  },
  {
   "cell_type": "code",
   "execution_count": null,
   "id": "57bcb87f-a15b-4c1a-9413-869e6b04490f",
   "metadata": {},
   "outputs": [],
   "source": [
    "/staging/leuven/stg_00002/lcb/cbravo/Bravo_et_al_EyeAntennalDisc_GEO_submission/10X_scRNAseq/MAPPED/run_feature_counts_on_single_cell_bam_file_cbravo.sh \\\n",
    "/staging/leuven/stg_00002/lcb/cbravo/Bravo_et_al_EyeAntennalDisc_GEO_submission/10X_scRNAseq/MAPPED/10X_SCRNASEQ_WT_EA_S2.sorted.subset.bam \\\n",
    "/staging/leuven/stg_00002/lcb/ghuls/tmp/refdata-cellranger-dm6-1.0.0.genes.agat.gtf \\\n",
    "/staging/leuven/stg_00002/lcb/cbravo/Bravo_et_al_EyeAntennalDisc_GEO_submission/10X_scRNAseq/MAPPED/10X_SCRNASEQ_WT_EA_S2_exon.txt \\\n",
    "exon\n",
    "\n",
    "\n",
    "/staging/leuven/stg_00002/lcb/cbravo/Bravo_et_al_EyeAntennalDisc_GEO_submission/10X_scRNAseq/MAPPED/run_feature_counts_on_single_cell_bam_file_cbravo.sh \\\n",
    "/staging/leuven/stg_00002/lcb/cbravo/Bravo_et_al_EyeAntennalDisc_GEO_submission/10X_scRNAseq/MAPPED/10X_SCRNASEQ_WT_EA_S2.sorted.subset.bam \\\n",
    "/staging/leuven/stg_00002/lcb/ghuls/tmp/refdata-cellranger-dm6-1.0.0.genes.agat.gtf \\\n",
    "/staging/leuven/stg_00002/lcb/cbravo/Bravo_et_al_EyeAntennalDisc_GEO_submission/10X_scRNAseq/MAPPED/10X_SCRNASEQ_WT_EA_S2_gene.txt \\\n",
    "gene\n",
    "\n",
    "/staging/leuven/stg_00002/lcb/cbravo/Bravo_et_al_EyeAntennalDisc_GEO_submission/10X_scRNAseq/MAPPED/run_feature_counts_on_single_cell_bam_file_cbravo.sh \\\n",
    "/staging/leuven/stg_00002/lcb/cbravo/Bravo_et_al_EyeAntennalDisc_GEO_submission/10X_scRNAseq/MAPPED/10X_SCRNASEQ_WT_EA_S2.sorted.subset.bam \\\n",
    "/staging/leuven/stg_00002/lcb/ghuls/tmp/refdata-cellranger-dm6-1.0.0.genes.agat.gtf \\\n",
    "/staging/leuven/stg_00002/lcb/cbravo/Bravo_et_al_EyeAntennalDisc_GEO_submission/10X_scRNAseq/MAPPED/10X_SCRNASEQ_WT_EA_S2_transcript.txt \\\n",
    "transcript"
   ]
  },
  {
   "cell_type": "code",
   "execution_count": null,
   "id": "22f14922-0d53-494e-b2e9-a64193803f98",
   "metadata": {},
   "outputs": [],
   "source": [
    "/staging/leuven/stg_00002/lcb/cbravo/Bravo_et_al_EyeAntennalDisc_GEO_submission/10X_scRNAseq/MAPPED/run_feature_counts_on_single_cell_bam_file_cbravo.sh \\\n",
    "/staging/leuven/stg_00002/lcb/cbravo/Bravo_et_al_EyeAntennalDisc_GEO_submission/10X_scRNAseq/MAPPED/10X_SCRNASEQ_WT_EA_S3.sorted.subset.bam \\\n",
    "/staging/leuven/stg_00002/lcb/ghuls/tmp/refdata-cellranger-dm6-1.0.0.genes.agat.gtf \\\n",
    "/staging/leuven/stg_00002/lcb/cbravo/Bravo_et_al_EyeAntennalDisc_GEO_submission/10X_scRNAseq/MAPPED/10X_SCRNASEQ_WT_EA_S3_exon.txt \\\n",
    "exon\n",
    "\n",
    "\n",
    "/staging/leuven/stg_00002/lcb/cbravo/Bravo_et_al_EyeAntennalDisc_GEO_submission/10X_scRNAseq/MAPPED/run_feature_counts_on_single_cell_bam_file_cbravo.sh \\\n",
    "/staging/leuven/stg_00002/lcb/cbravo/Bravo_et_al_EyeAntennalDisc_GEO_submission/10X_scRNAseq/MAPPED/10X_SCRNASEQ_WT_EA_S3.sorted.subset.bam \\\n",
    "/staging/leuven/stg_00002/lcb/ghuls/tmp/refdata-cellranger-dm6-1.0.0.genes.agat.gtf \\\n",
    "/staging/leuven/stg_00002/lcb/cbravo/Bravo_et_al_EyeAntennalDisc_GEO_submission/10X_scRNAseq/MAPPED/10X_SCRNASEQ_WT_EA_S3_gene.txt \\\n",
    "gene\n",
    "\n",
    "/staging/leuven/stg_00002/lcb/cbravo/Bravo_et_al_EyeAntennalDisc_GEO_submission/10X_scRNAseq/MAPPED/run_feature_counts_on_single_cell_bam_file_cbravo.sh \\\n",
    "/staging/leuven/stg_00002/lcb/cbravo/Bravo_et_al_EyeAntennalDisc_GEO_submission/10X_scRNAseq/MAPPED/10X_SCRNASEQ_WT_EA_S3.sorted.subset.bam \\\n",
    "/staging/leuven/stg_00002/lcb/ghuls/tmp/refdata-cellranger-dm6-1.0.0.genes.agat.gtf \\\n",
    "/staging/leuven/stg_00002/lcb/cbravo/Bravo_et_al_EyeAntennalDisc_GEO_submission/10X_scRNAseq/MAPPED/10X_SCRNASEQ_WT_EA_S3_transcript.txt \\\n",
    "transcript"
   ]
  }
 ],
 "metadata": {
  "kernelspec": {
   "display_name": "DEV IMAGE - SCENIC+ latest (use at own risk)",
   "language": "python",
   "name": "pyscenic_plus_dev"
  },
  "language_info": {
   "codemirror_mode": {
    "name": "ipython",
    "version": 3
   },
   "file_extension": ".py",
   "mimetype": "text/x-python",
   "name": "python",
   "nbconvert_exporter": "python",
   "pygments_lexer": "ipython3",
   "version": "3.8.15"
  }
 },
 "nbformat": 4,
 "nbformat_minor": 5
}
