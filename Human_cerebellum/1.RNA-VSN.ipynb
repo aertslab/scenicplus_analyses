{
 "cells": [
  {
   "cell_type": "code",
   "execution_count": null,
   "metadata": {},
   "outputs": [],
   "source": [
    "# Load nextflow\n",
    "module load Nextflow/20.04.1\n",
    "# Install latest version of the pipeline\n",
    "nextflow pull vib-singlecell-nf/vsn-pipelines\n",
    "# Set working dir\n",
    "WORK_DIR='/staging/leuven/stg_00002/lcb/cbravo/Multiomics_pipeline/analysis/10x_multiome_brain'\n",
    "# Move to folder and generate config\n",
    "nextflow config vib-singlecell-nf/vsn-pipelines \\\n",
    "    -profile tenx,single_sample,hg38,scenic,scenic_use_cistarget_motifs,singularity, > $WORK_DIR/scripts/rna/vsn/single_sample_scenic.config\n",
    "# Modify config accordingly\n",
    "# Run pipeline\n",
    "mkdir -p  $WORK_DIR/output/rna/vsn\n",
    "cd $WORK_DIR/output/rna/vsn\n",
    "nextflow -C $WORK_DIR/scripts/rna/vsn/single_sample_scenic.config run vib-singlecell-nf/vsn-pipelines -entry single_sample_scenic"
   ]
  },
  {
   "cell_type": "code",
   "execution_count": null,
   "metadata": {},
   "outputs": [],
   "source": [
    "# To add scrublet results\n",
    "module load Nextflow/20.04.1\n",
    "WORK_DIR='/staging/leuven/stg_00002/lcb/cbravo/Multiomics_pipeline/analysis/10x_multiome_brain'\n",
    "nextflow config vib-singlecell-nf/vsn-pipelines \\\n",
    "    -profile tenx,singularity,single_sample,scrublet > $WORK_DIR/scripts/rna/vsn/single_sample_scrublet.config\n",
    "    \n",
    "# Run \n",
    "module load Nextflow/20.04.1\n",
    "WORK_DIR='/staging/leuven/stg_00002/lcb/cbravo/Multiomics_pipeline/analysis/10x_multiome_brain'\n",
    "mkdir -p  $WORK_DIR/output/rna/vsn/single_sample_scenic\n",
    "mv $WORK_DIR/output/rna/vsn/* $WORK_DIR/output/rna/vsn/single_sample_scenic\n",
    "mkdir -p  $WORK_DIR/output/rna/vsn/single_sample_scrublet\n",
    "cd $WORK_DIR/output/rna/vsn/single_sample_scrublet\n",
    "nextflow -C $WORK_DIR/scripts/rna/vsn/single_sample_scrublet.config run vib-singlecell-nf/vsn-pipelines -entry single_sample_scrublet\n",
    "\n",
    "# Filtered doublets\n",
    "mkdir -p  $WORK_DIR/output/rna/vsn/single_sample_scenic_filtered\n",
    "cd $WORK_DIR/output/rna/vsn/single_sample_scenic_filtered\n",
    "nextflow -C $WORK_DIR/scripts/rna/vsn/single_sample_scenic_filtered_loom.config run vib-singlecell-nf/vsn-pipelines -entry single_sample_scenic"
   ]
  },
  {
   "cell_type": "code",
   "execution_count": null,
   "metadata": {},
   "outputs": [],
   "source": [
    "# Rerun removing low quality oligodendrocytes\n",
    "module load Nextflow/20.04.1\n",
    "mkdir -p  $WORK_DIR/output/rna/vsn/single_sample_scenic_HQ\n",
    "cd $WORK_DIR/output/rna/vsn/single_sample_scenic_HQ\n",
    "nextflow -C $WORK_DIR/scripts/rna/vsn/single_sample_scenic_HQ_loom.config run vib-singlecell-nf/vsn-pipelines -entry single_sample_scenic"
   ]
  }
 ],
 "metadata": {
  "kernelspec": {
   "display_name": "Bash 4.2.46",
   "language": "bash",
   "name": "bash4246"
  },
  "language_info": {
   "codemirror_mode": "shell",
   "file_extension": ".sh",
   "mimetype": "text/x-sh",
   "name": "bash"
  }
 },
 "nbformat": 4,
 "nbformat_minor": 4
}
