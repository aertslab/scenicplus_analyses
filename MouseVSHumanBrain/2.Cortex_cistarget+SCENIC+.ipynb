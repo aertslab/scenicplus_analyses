{
 "cells": [
  {
   "cell_type": "markdown",
   "id": "b387d7a5-505a-4863-839c-8bbe46fd7b79",
   "metadata": {},
   "source": [
    "### 1. Run cisTarget"
   ]
  },
  {
   "cell_type": "code",
   "execution_count": 2,
   "id": "ab48023b-27cb-457c-b930-7725c3349eb7",
   "metadata": {},
   "outputs": [],
   "source": [
    "# Load region binarized topics\n",
    "import pickle\n",
    "outDir = '/staging/leuven/stg_00002/lcb/cbravo/Multiomics_pipeline/analysis/10x_multiome_mouse_cortex/TEW_cortex/pycisTopic/'\n",
    "infile = open(outDir+'topic_binarization/binarized_topic_region_otsu.pkl', 'rb')\n",
    "binarized_topic_region = pickle.load(infile)\n",
    "infile.close()\n",
    "# Load DARs\n",
    "import pickle\n",
    "infile = open(outDir+'DARs/DARs.pkl', 'rb')\n",
    "DARs_dict = pickle.load(infile)\n",
    "infile.close()\n",
    "# Format region sets\n",
    "import re\n",
    "import pyranges as pr\n",
    "from pycistarget.utils import *\n",
    "region_sets = {}\n",
    "region_sets['Topics'] = {key: pr.PyRanges(region_names_to_coordinates(binarized_topic_region[key].index.tolist())) for key in binarized_topic_region.keys()}\n",
    "region_sets['DARs'] = {re.sub('[^A-Za-z0-9]+', '_', key): pr.PyRanges(region_names_to_coordinates(DARs_dict[key].index.tolist())) for key in DARs_dict.keys()}"
   ]
  },
  {
   "cell_type": "markdown",
   "id": "ddaad874-5325-40f4-9d0a-947917de38ea",
   "metadata": {},
   "source": [
    "#### Optional: Check % promoters"
   ]
  },
  {
   "cell_type": "code",
   "execution_count": 3,
   "id": "33949f15-5e4e-45aa-8273-a24a4823175f",
   "metadata": {},
   "outputs": [
    {
     "name": "stderr",
     "output_type": "stream",
     "text": [
      "/tmp/ipykernel_19644/2345459200.py:11: FutureWarning: The default value of regex will change from True to False in a future version.\n",
      "  annot['Chromosome'] = annot['Chromosome'].str.replace(r'(\\b\\S)', r'chr\\1')\n"
     ]
    }
   ],
   "source": [
    "# Load promoter annotations\n",
    "promoter_space = 500\n",
    "biomart_host = 'http://nov2020.archive.ensembl.org/'\n",
    "import pybiomart as pbm\n",
    "# Prepare annotation\n",
    "name = 'mmusculus_gene_ensembl'\n",
    "dataset = pbm.Dataset(name=name,  host=biomart_host)\n",
    "annot = dataset.query(attributes=['chromosome_name', 'transcription_start_site', 'strand', 'external_gene_name', 'transcript_biotype'])\n",
    "annot.columns = ['Chromosome', 'Start', 'Strand', 'Gene', 'Transcript_type']\n",
    "filterf = annot['Chromosome'].str.contains('CHR|GL|JH|MT')\n",
    "annot = annot[~filterf]\n",
    "annot['Chromosome'] = annot['Chromosome'].str.replace(r'(\\b\\S)', r'chr\\1')\n",
    "annot = annot[annot.Transcript_type == 'protein_coding']\n",
    "annot = annot.dropna(subset = ['Chromosome', 'Start'])\n",
    "# Check if chromosomes have chr\n",
    "check = region_sets[list(region_sets.keys())[0]]\n",
    "if 'chr' not in check[list(check.keys())[0]].df['Chromosome'][0]:\n",
    "    annot.Chromosome = annot.Chromosome.str.replace('chr', '')\n",
    "annot_dem=annot.copy()\n",
    "# Define promoter space\n",
    "annot['End'] = annot['Start'].astype(int)+promoter_space\n",
    "annot['Start'] = annot['Start'].astype(int)-promoter_space\n",
    "annot = pr.PyRanges(annot[['Chromosome', 'Start', 'End']])"
   ]
  },
  {
   "cell_type": "code",
   "execution_count": 7,
   "id": "3ea8ff5a-d3bd-4289-a227-33b7a753c764",
   "metadata": {
    "scrolled": true,
    "tags": []
   },
   "outputs": [
    {
     "data": {
      "text/plain": [
       "{'Topic1': 21.210813355828464,\n",
       " 'Topic2': 9.781204503045089,\n",
       " 'Topic3': 83.92430644864965,\n",
       " 'Topic4': 14.196506205043079,\n",
       " 'Topic5': 24.576877234803334,\n",
       " 'Topic6': 8.817407351773568,\n",
       " 'Topic7': 59.81668293741187,\n",
       " 'Topic8': 7.837035447294056,\n",
       " 'Topic9': 8.124505407544177,\n",
       " 'Topic10': 8.460155337646214,\n",
       " 'Topic11': 9.373598445208557,\n",
       " 'Topic12': 9.499362825414153,\n",
       " 'Topic13': 13.650677979335285,\n",
       " 'Topic14': 12.996638451257553,\n",
       " 'Topic15': 10.372540992437138,\n",
       " 'Topic16': 9.171997659072105,\n",
       " 'Topic17': 6.7513760393488695,\n",
       " 'Topic18': 16.983523447401765,\n",
       " 'Topic19': 11.653046594982072,\n",
       " 'Topic20': 53.36717009160684,\n",
       " 'Topic21': 7.262173328939696,\n",
       " 'Topic22': 6.091685632370755,\n",
       " 'Topic23': 44.93381170357541,\n",
       " 'Topic24': 48.04245163255979,\n",
       " 'Topic25': 6.797842528700997,\n",
       " 'Topic26': 12.775764680805707,\n",
       " 'Topic27': 5.87823448758715,\n",
       " 'Topic28': 70.8575112830432,\n",
       " 'Topic29': 7.821117682238025,\n",
       " 'Topic30': 8.537369130299581,\n",
       " 'Topic31': 13.157428723215872,\n",
       " 'Topic32': 8.099600555748523,\n",
       " 'Topic33': 8.688697116396554,\n",
       " 'Topic34': 9.258513807261892,\n",
       " 'Topic35': 8.801987967564742,\n",
       " 'Topic36': 7.741866780256643,\n",
       " 'Topic37': 10.057979994688864,\n",
       " 'Topic38': 8.566984740846607,\n",
       " 'Topic39': 6.2456848478410905,\n",
       " 'Topic40': 8.0428681823728,\n",
       " 'Topic41': 9.412523568522374,\n",
       " 'Topic42': 23.393665158371036,\n",
       " 'Topic43': 5.788728405550842,\n",
       " 'Topic44': 7.236653351283351,\n",
       " 'Topic45': 11.183355006501955,\n",
       " 'Topic46': 85.48936860899205,\n",
       " 'Topic47': 8.290092916616388,\n",
       " 'Topic48': 17.174959871589095,\n",
       " 'Topic49': 5.997931747673206,\n",
       " 'Topic50': 8.414777169663807,\n",
       " 'Topic51': 9.154325576076388,\n",
       " 'Topic52': 9.361702127659584,\n",
       " 'Topic53': 9.905824904080916,\n",
       " 'Topic54': 7.9646389349683915,\n",
       " 'Topic55': 10.780116890478709,\n",
       " 'Topic56': 6.235324810853115,\n",
       " 'Topic57': 19.514699020065336,\n",
       " 'Topic58': 9.149934405087507,\n",
       " 'Topic59': 93.33005571943625,\n",
       " 'Topic60': 8.92783717105263}"
      ]
     },
     "execution_count": 7,
     "metadata": {},
     "output_type": "execute_result"
    }
   ],
   "source": [
    "# Check in topics\n",
    "regions = region_sets['Topics']\n",
    "regions_overlaps = {key: regions[key].count_overlaps(annot) for key in regions.keys()}\n",
    "regions_np = {key: regions_overlaps[key][regions_overlaps[key].NumberOverlaps == 0][['Chromosome', 'Start', 'End']] for key in regions.keys()}\n",
    "{x:100-(regions_np[x].df.shape[0]/regions[x].df.shape[0]*100) for x in regions.keys()}"
   ]
  },
  {
   "cell_type": "code",
   "execution_count": 8,
   "id": "3077fba9-5362-4546-ad9a-ca7c536c9d60",
   "metadata": {
    "scrolled": true,
    "tags": []
   },
   "outputs": [
    {
     "data": {
      "text/plain": [
       "{'AST': 16.866771068963516,\n",
       " 'CGE_LAMP5': 11.406059469092952,\n",
       " 'CGE_SNCG': 14.176322418136024,\n",
       " 'CGE_VIP': 14.084640989063246,\n",
       " 'ENDO': 20.44513094151513,\n",
       " 'L2_3_IT': 5.098241393137428,\n",
       " 'L4_IT': 5.389614091090465,\n",
       " 'L5_IT': 4.402430790006747,\n",
       " 'L5_PT': 4.9559552890665515,\n",
       " 'L6_CT': 5.318964018772803,\n",
       " 'L6_IT': 4.637026745397705,\n",
       " 'L6_IT_CAR3': 5.732869942288687,\n",
       " 'L6b': 6.440961955450419,\n",
       " 'MGE_PVALB': 14.813473379210436,\n",
       " 'MGE_SST': 12.228376651043888,\n",
       " 'MGL': 21.486301369863014,\n",
       " 'NP': 7.733429982331359,\n",
       " 'OL': 14.036265950302223,\n",
       " 'OPC': 14.768122467357045}"
      ]
     },
     "execution_count": 8,
     "metadata": {},
     "output_type": "execute_result"
    }
   ],
   "source": [
    "# Check in DARs\n",
    "regions = region_sets['DARs']\n",
    "regions_overlaps = {key: regions[key].count_overlaps(annot) for key in regions.keys()}\n",
    "regions_np = {key: regions_overlaps[key][regions_overlaps[key].NumberOverlaps == 0][['Chromosome', 'Start', 'End']] for key in regions.keys()}\n",
    "{x:100-(regions_np[x].df.shape[0]/regions[x].df.shape[0]*100) for x in regions.keys()}"
   ]
  },
  {
   "cell_type": "markdown",
   "id": "f84cab17-7131-47e9-8eb3-326cf3c123aa",
   "metadata": {},
   "source": [
    "#### Create V10 data set specific CTX db"
   ]
  },
  {
   "cell_type": "code",
   "execution_count": null,
   "id": "b4ede7cc-625e-4091-a14e-58b7f4a6066c",
   "metadata": {},
   "outputs": [],
   "source": [
    "# For future times, splitting to 5 parts is much faster than 10\n",
    "qsub /staging/leuven/stg_00002/lcb/cbravo/Multiomics_pipeline/analysis/10x_multiome_mouse_cortex/ctx_db/create_ctx.pbs"
   ]
  },
  {
   "cell_type": "markdown",
   "id": "610fbc06-b246-4955-b934-e4b581f6b3ac",
   "metadata": {},
   "source": [
    "#### Run cisTarget"
   ]
  },
  {
   "cell_type": "code",
   "execution_count": null,
   "id": "ef78d7a1-d470-4215-8392-1dd51b9e7f3a",
   "metadata": {},
   "outputs": [],
   "source": [
    "# Run pycistarget\n",
    "# run_without_promoters = True, will run the methods in all regions + the region sets without promoters\n",
    "import os\n",
    "os.chdir('/staging/leuven/stg_00002/lcb/cbravo/Multiomics_pipeline/scenicplus/src/')\n",
    "from scenicplus.wrappers.run_pycistarget import *\n",
    "run_pycistarget(region_sets,\n",
    "                 ctx_db_path = '/staging/leuven/stg_00002/lcb/cbravo/Multiomics_pipeline/analysis/10x_multiome_mouse_cortex/ctx_db/TEW_mouse_cortex.regions_vs_motifs.rankings.feather',\n",
    "                 species = 'mus_musculus',\n",
    "                 save_path = '/staging/leuven/stg_00002/lcb/cbravo/Multiomics_pipeline/analysis/10x_multiome_mouse_cortex/TEW_cortex/pycistarget_clustered_data_set_specific/',\n",
    "                 dem_db_path = '/staging/leuven/stg_00002/lcb/cbravo/Multiomics_pipeline/analysis/10x_multiome_mouse_cortex/ctx_db/TEW_mouse_cortex.regions_vs_motifs.scores.feather',\n",
    "                 run_without_promoters = True,\n",
    "                 biomart_host = 'http://nov2020.archive.ensembl.org/',\n",
    "                 promoter_space = 500,\n",
    "                 ctx_auc_threshold = 0.005,\n",
    "                 ctx_nes_threshold = 3.0,\n",
    "                 ctx_rank_threshold = 0.05,\n",
    "                 dem_log2fc_thr = 0.5,\n",
    "                 dem_motif_hit_thr = 3.0,\n",
    "                 dem_max_bg_regions = 500,\n",
    "                 path_to_motif_annotations = '/staging/leuven/stg_00002/lcb/cbravo/cluster_motif_collection_V10/snapshots/motifs-v10-nr.mgi-m0.001-o0.0_clust.tsv',\n",
    "                 annotation_version = 'v10nr_clust',\n",
    "                 annotation = ['Direct_annot', 'Orthology_annot'],\n",
    "                 n_cpu = 1,\n",
    "                 _temp_dir = '/scratch/leuven/313/vsc31305/ray_spill',\n",
    "                 exclude_motifs = '/staging/leuven/stg_00002/lcb/cbravo/cluster_motif_collection_V10/Promoter_bias/clustered/Promoter_motifs.tsv')\n",
    "# Here I renamed the menr.pkl output to: /staging/leuven/stg_00002/lcb/cbravo/Multiomics_pipeline/analysis/10x_multiome_mouse_cortex/TEW_cortex/pycistarget_clustered_data_set_specific/menr_DT_nosimilarity.pkl'"
   ]
  },
  {
   "cell_type": "code",
   "execution_count": null,
   "id": "ad02c4d9-ca88-4044-8694-e1225c0fbd98",
   "metadata": {},
   "outputs": [],
   "source": [
    "# Select only annotated TFs\n",
    "# Run pycistarget\n",
    "# run_without_promoters = True, will run the methods in all regions + the region sets without promoters\n",
    "import os\n",
    "os.chdir('/staging/leuven/stg_00002/lcb/cbravo/Multiomics_pipeline/scenicplus/src/')\n",
    "from scenicplus.wrappers.run_pycistarget import *\n",
    "run_pycistarget(region_sets,\n",
    "                 ctx_db_path = '/staging/leuven/stg_00002/lcb/cbravo/Multiomics_pipeline/analysis/10x_multiome_mouse_cortex/ctx_db/TEW_mouse_cortex.regions_vs_motifs.rankings.feather',\n",
    "                 species = 'mus_musculus',\n",
    "                 save_path = '/staging/leuven/stg_00002/lcb/cbravo/Multiomics_pipeline/analysis/10x_multiome_mouse_cortex/TEW_cortex/pycistarget_clustered_data_set_specific_only_annotated/',\n",
    "                 dem_db_path = '/staging/leuven/stg_00002/lcb/cbravo/Multiomics_pipeline/analysis/10x_multiome_mouse_cortex/ctx_db/TEW_mouse_cortex.regions_vs_motifs.scores.feather',\n",
    "                 run_without_promoters = True,\n",
    "                 biomart_host = 'http://nov2020.archive.ensembl.org/',\n",
    "                 promoter_space = 500,\n",
    "                 ctx_auc_threshold = 0.005,\n",
    "                 ctx_nes_threshold = 3.0,\n",
    "                 ctx_rank_threshold = 0.05,\n",
    "                 dem_log2fc_thr = 0.5,\n",
    "                 dem_motif_hit_thr = 3.0,\n",
    "                 dem_max_bg_regions = 500,\n",
    "                 path_to_motif_annotations = '/staging/leuven/stg_00002/lcb/cbravo/cluster_motif_collection_V10/snapshots/motifs-v10-nr.mgi-m0.001-o0.0_clust.tsv',\n",
    "                 annotation_version = 'v10nr_clust',\n",
    "                 annotation = ['Direct_annot', 'Orthology_annot'],\n",
    "                 n_cpu = 1,\n",
    "                 _temp_dir = '/scratch/leuven/313/vsc31305/ray_spill',\n",
    "                 exclude_motifs = '/staging/leuven/stg_00002/lcb/cbravo/cluster_motif_collection_V10/mm_not_annotated_DO.tsv')\n",
    "# Here I renamed the menr.pkl output to: /staging/leuven/stg_00002/lcb/cbravo/Multiomics_pipeline/analysis/10x_multiome_mouse_cortex/TEW_cortex/pycistarget_clustered_data_set_specific/menr_DT_nosimilarity.pkl'"
   ]
  },
  {
   "cell_type": "markdown",
   "id": "e330145f-dc68-4908-bf52-995e57370be7",
   "metadata": {},
   "source": [
    "### 2. Run SCENIC+"
   ]
  },
  {
   "cell_type": "markdown",
   "id": "87de4b1c-fd17-42f9-827a-d750ed80879a",
   "metadata": {},
   "source": [
    "#### V10: Direct+Orthology == DARs/Topics"
   ]
  },
  {
   "cell_type": "code",
   "execution_count": 2,
   "id": "33ed6049-1247-4132-879d-23c8dd262677",
   "metadata": {},
   "outputs": [],
   "source": [
    "# Load functions\n",
    "from scenicplus.scenicplus_class import SCENICPLUS, create_SCENICPLUS_object\n",
    "from scenicplus.preprocessing.filtering import *"
   ]
  },
  {
   "cell_type": "code",
   "execution_count": null,
   "id": "194e9f1a-f0f6-48c0-b858-862bf89f664e",
   "metadata": {},
   "outputs": [],
   "source": [
    "outDir = '/staging/leuven/stg_00002/lcb/cbravo/Multiomics_pipeline/analysis/10x_multiome_mouse_cortex/TEW_cortex/pycisTopic/'\n",
    "# Load cisTopic object\n",
    "import pickle\n",
    "infile = open(outDir + 'cisTopicObject.pkl', 'rb')\n",
    "cistopic_obj = pickle.load(infile)\n",
    "infile.close()\n",
    "# Load imputed accessibility\n",
    "import pickle\n",
    "infile = open(outDir + 'DARs/Imputed_accessibility.pkl', 'rb') #Here I am using pycisTopic gene activity matrix, but could be any :)\n",
    "imputed_acc_obj = pickle.load(infile)\n",
    "infile.close()\n",
    "## RNA - Create Anndata\n",
    "from loomxpy.loomxpy import SCopeLoom\n",
    "from pycisTopic.loom import *\n",
    "import itertools\n",
    "import anndata\n",
    "projDir = '/staging/leuven/stg_00002/lcb/cbravo/Multiomics_pipeline/analysis/10x_multiome_mouse_cortex/'\n",
    "path_to_annotated_rna_loom = projDir + 'data/MO_GEX_seurat_Cortex.loom'\n",
    "loom = SCopeLoom.read_loom(path_to_annotated_rna_loom)\n",
    "cell_data = get_metadata(loom)\n",
    "# Fix names\n",
    "cell_data = cell_data.replace('TEW__c14e1d__Multiome_RNA_brain_10x_no_perm', '10x_no_perm')\n",
    "cell_data = cell_data.replace('TEW__3cc0d9__bb22bc__Multiome_brain_TST_NP40_004', 'TST_NP40_004')\n",
    "cell_data = cell_data.replace('TEW__75da5c__5b0f59__Multiome_brain_TST', 'TST')\n",
    "cell_data = cell_data.replace('TEW__c3f7c1__1ac906__Multiome_brain_10xcomplex_UC', '10x_complex_UC')\n",
    "cell_data = cell_data.replace('TEW__d112c8__547ada__Multiome_RNA_brain_10x_complex', '10x_complex')\n",
    "cell_data['barcode'] = [x.split('___')[0] for x in cell_data.index.tolist()]\n",
    "cell_data.index = cell_data['barcode'] + '___' + cell_data['sample_id']\n",
    "expr_mat = loom.ex_mtx\n",
    "expr_mat.index = cell_data.index\n",
    "rna_anndata = anndata.AnnData(X=expr_mat)\n",
    "rna_anndata.obs = cell_data"
   ]
  },
  {
   "cell_type": "code",
   "execution_count": 4,
   "id": "56dbfcf0-185f-45ec-b634-c4b59c8e83db",
   "metadata": {},
   "outputs": [],
   "source": [
    "# Fix region data (bug in old pycistopic versions)\n",
    "from pycisTopic.utils import region_names_to_coordinates\n",
    "fragment_matrix = cistopic_obj.fragment_matrix\n",
    "binary_matrix = cistopic_obj.binary_matrix\n",
    "region_data = region_names_to_coordinates(cistopic_obj.region_names)\n",
    "region_data['Width'] = abs(region_data.End -region_data.Start).astype(np.int32)\n",
    "region_data['cisTopic_nr_frag'] = np.array(\n",
    "fragment_matrix.sum(axis=1)).flatten()\n",
    "region_data['cisTopic_log_nr_frag'] = np.log10(\n",
    "region_data['cisTopic_nr_frag'])\n",
    "region_data['cisTopic_nr_acc'] = np.array(\n",
    "binary_matrix.sum(axis=1)).flatten()\n",
    "region_data['cisTopic_log_nr_acc'] = np.log10(\n",
    "region_data['cisTopic_nr_acc'])\n",
    "cistopic_obj.region_data = region_data"
   ]
  },
  {
   "cell_type": "code",
   "execution_count": 5,
   "id": "d113fcf3-3164-465e-a043-5bdc270f2dcf",
   "metadata": {},
   "outputs": [],
   "source": [
    "## Precomputed imputed data\n",
    "import pickle\n",
    "infile = open('/staging/leuven/stg_00002/lcb/cbravo/Multiomics_pipeline/analysis/10x_multiome_mouse_cortex/TEW_cortex/pycistarget_clustered_data_set_specific/menr_DT_nosimilarity.pkl', 'rb') \n",
    "menr = pickle.load(infile)\n",
    "infile.close()"
   ]
  },
  {
   "cell_type": "code",
   "execution_count": 6,
   "id": "3d4af4cd-ea8e-4723-8b87-8aced5850660",
   "metadata": {},
   "outputs": [],
   "source": [
    "scplus_obj = create_SCENICPLUS_object(\n",
    "        GEX_anndata = rna_anndata,\n",
    "        cisTopic_obj = cistopic_obj,\n",
    "        imputed_acc_obj = imputed_acc_obj,\n",
    "        menr = menr,\n",
    "        ACC_prefix = 'ACC_',\n",
    "        GEX_prefix = 'GEX_',\n",
    "        bc_transform_func = lambda x: x,\n",
    "        normalize_imputed_acc = False)"
   ]
  },
  {
   "cell_type": "code",
   "execution_count": 8,
   "id": "a14046e9-8e7e-4570-9e45-6a8736b2ecb0",
   "metadata": {},
   "outputs": [
    {
     "name": "stdout",
     "output_type": "stream",
     "text": [
      "2022-02-02 15:57:59,548 Preprocessing INFO     Going from 33160 genes to 13365 genes.\n",
      "2022-02-02 16:00:00,004 Preprocessing INFO     Going from 438464 regions to 391957 regions.\n"
     ]
    }
   ],
   "source": [
    "filter_genes(scplus_obj, min_pct = 0.5)\n",
    "filter_regions(scplus_obj, min_pct = 0.5)"
   ]
  },
  {
   "cell_type": "code",
   "execution_count": 9,
   "id": "620e7896-ef1f-454b-bf38-a1e47a6c7c26",
   "metadata": {},
   "outputs": [],
   "source": [
    "# Save\n",
    "import pickle\n",
    "with open('/staging/leuven/stg_00002/lcb/cbravo/Multiomics_pipeline/analysis/10x_multiome_mouse_cortex/TEW_cortex/scenicplus_v10_direct_ortho/scplus_obj.pkl', 'wb') as f:\n",
    "  pickle.dump(scplus_obj, f)"
   ]
  },
  {
   "cell_type": "code",
   "execution_count": null,
   "id": "d805f2fd-6ab6-4213-b4ce-8c24d5f7579d",
   "metadata": {},
   "outputs": [],
   "source": [
    "# For the downstream analyses\n",
    "outDir = '/staging/leuven/stg_00002/lcb/cbravo/Multiomics_pipeline/analysis/10x_multiome_mouse_cortex/TEW_cortex/scenicplus_v10_direct_ortho/'\n",
    "import pickle\n",
    "infile = open(outDir+'scplus_obj.pkl', 'rb')\n",
    "scplus_obj = pickle.load(infile)\n",
    "infile.close()\n",
    "\n",
    "from scenicplus.wrappers.run_scenicplus import *\n",
    "run_scenicplus(scplus_obj,\n",
    "    variable = ['ACC_consensus_cell_type'],\n",
    "    species = 'mmusculus',\n",
    "    assembly = 'mm10',\n",
    "    tf_file = '/staging/leuven/stg_00002/lcb/cflerin/resources/allTFs_mm.txt',\n",
    "    save_path = '/staging/leuven/stg_00002/lcb/cbravo/Multiomics_pipeline/analysis/10x_multiome_mouse_cortex/TEW_cortex/scenicplus_v10_direct_ortho/',\n",
    "    biomart_host = 'http://nov2020.archive.ensembl.org/',\n",
    "    upstream = [1000, 150000],\n",
    "    downstream = [1000, 150000],\n",
    "    region_ranking = None,\n",
    "    gene_ranking = None,   \n",
    "    calculate_TF_eGRN_correlation = False,\n",
    "    calculate_DEGs_DARs = True,\n",
    "    export_to_loom_file = True,\n",
    "    export_to_UCSC_file = True,\n",
    "    tree_structure = ('Mouse_cortex_TEW', 'SCENIC+'),\n",
    "    path_bedToBigBed = '/data/leuven/software/biomed/haswell_centos7/2018a/software/Kent_tools/20190730-linux.x86_64/bin/',\n",
    "    n_cpu = 20,\n",
    "    _temp_dir = '/scratch/leuven/313/vsc31305/ray_spill'\n",
    "    )"
   ]
  },
  {
   "cell_type": "markdown",
   "id": "0be101b4-7897-43fb-a3f1-f18b0c474727",
   "metadata": {},
   "source": [
    "#### V9: Direct+Orthology == DARs/Topics"
   ]
  },
  {
   "cell_type": "code",
   "execution_count": 2,
   "id": "7561daff-8293-44b2-8c4a-5440eb117b9c",
   "metadata": {},
   "outputs": [],
   "source": [
    "# Load functions\n",
    "from scenicplus.scenicplus_class import SCENICPLUS, create_SCENICPLUS_object\n",
    "from scenicplus.preprocessing.filtering import *"
   ]
  },
  {
   "cell_type": "code",
   "execution_count": null,
   "id": "948a0180-d41f-4cee-a96d-5450a1196146",
   "metadata": {},
   "outputs": [],
   "source": [
    "outDir = '/staging/leuven/stg_00002/lcb/cbravo/Multiomics_pipeline/analysis/10x_multiome_mouse_cortex/TEW_cortex/pycisTopic/'\n",
    "# Load cisTopic object\n",
    "import pickle\n",
    "infile = open(outDir + 'cisTopicObject.pkl', 'rb')\n",
    "cistopic_obj = pickle.load(infile)\n",
    "infile.close()\n",
    "# Load imputed accessibility\n",
    "import pickle\n",
    "infile = open(outDir + 'DARs/Imputed_accessibility.pkl', 'rb') #Here I am using pycisTopic gene activity matrix, but could be any :)\n",
    "imputed_acc_obj = pickle.load(infile)\n",
    "infile.close()\n",
    "## RNA - Create Anndata\n",
    "from loomxpy.loomxpy import SCopeLoom\n",
    "from pycisTopic.loom import *\n",
    "import itertools\n",
    "import anndata\n",
    "projDir = '/staging/leuven/stg_00002/lcb/cbravo/Multiomics_pipeline/analysis/10x_multiome_mouse_cortex/'\n",
    "path_to_annotated_rna_loom = projDir + 'data/MO_GEX_seurat_Cortex.loom'\n",
    "loom = SCopeLoom.read_loom(path_to_annotated_rna_loom)\n",
    "cell_data = get_metadata(loom)\n",
    "# Fix names\n",
    "cell_data = cell_data.replace('TEW__c14e1d__Multiome_RNA_brain_10x_no_perm', '10x_no_perm')\n",
    "cell_data = cell_data.replace('TEW__3cc0d9__bb22bc__Multiome_brain_TST_NP40_004', 'TST_NP40_004')\n",
    "cell_data = cell_data.replace('TEW__75da5c__5b0f59__Multiome_brain_TST', 'TST')\n",
    "cell_data = cell_data.replace('TEW__c3f7c1__1ac906__Multiome_brain_10xcomplex_UC', '10x_complex_UC')\n",
    "cell_data = cell_data.replace('TEW__d112c8__547ada__Multiome_RNA_brain_10x_complex', '10x_complex')\n",
    "cell_data['barcode'] = [x.split('___')[0] for x in cell_data.index.tolist()]\n",
    "cell_data.index = cell_data['barcode'] + '___' + cell_data['sample_id']\n",
    "expr_mat = loom.ex_mtx\n",
    "expr_mat.index = cell_data.index\n",
    "rna_anndata = anndata.AnnData(X=expr_mat)\n",
    "rna_anndata.obs = cell_data"
   ]
  },
  {
   "cell_type": "code",
   "execution_count": 4,
   "id": "0e153e76-748f-465e-878a-276700b883e0",
   "metadata": {},
   "outputs": [],
   "source": [
    "# Fix region data (bug in old pycistopic versions)\n",
    "from pycisTopic.utils import region_names_to_coordinates\n",
    "fragment_matrix = cistopic_obj.fragment_matrix\n",
    "binary_matrix = cistopic_obj.binary_matrix\n",
    "region_data = region_names_to_coordinates(cistopic_obj.region_names)\n",
    "region_data['Width'] = abs(region_data.End -region_data.Start).astype(np.int32)\n",
    "region_data['cisTopic_nr_frag'] = np.array(\n",
    "fragment_matrix.sum(axis=1)).flatten()\n",
    "region_data['cisTopic_log_nr_frag'] = np.log10(\n",
    "region_data['cisTopic_nr_frag'])\n",
    "region_data['cisTopic_nr_acc'] = np.array(\n",
    "binary_matrix.sum(axis=1)).flatten()\n",
    "region_data['cisTopic_log_nr_acc'] = np.log10(\n",
    "region_data['cisTopic_nr_acc'])\n",
    "cistopic_obj.region_data = region_data"
   ]
  },
  {
   "cell_type": "code",
   "execution_count": 5,
   "id": "60001def-7a89-478b-b2e7-5a5825898ef8",
   "metadata": {},
   "outputs": [],
   "source": [
    "## Precomputed imputed data\n",
    "import pickle\n",
    "infile = open('/staging/leuven/stg_00002/lcb/cbravo/Multiomics_pipeline/analysis/10x_multiome_mouse_cortex/TEW_cortex/pycistarget_clustered_data_set_specific_V9/menr.pkl', 'rb') \n",
    "menr = pickle.load(infile)\n",
    "infile.close()"
   ]
  },
  {
   "cell_type": "code",
   "execution_count": 6,
   "id": "dff25ff6-0877-4c0a-a9af-ee5d4b8d7728",
   "metadata": {},
   "outputs": [],
   "source": [
    "scplus_obj = create_SCENICPLUS_object(\n",
    "        GEX_anndata = rna_anndata,\n",
    "        cisTopic_obj = cistopic_obj,\n",
    "        imputed_acc_obj = imputed_acc_obj,\n",
    "        menr = menr,\n",
    "        ACC_prefix = 'ACC_',\n",
    "        GEX_prefix = 'GEX_',\n",
    "        bc_transform_func = lambda x: x,\n",
    "        normalize_imputed_acc = False)"
   ]
  },
  {
   "cell_type": "code",
   "execution_count": 8,
   "id": "fe980fc0-74a2-46c1-b57d-ed685822e429",
   "metadata": {},
   "outputs": [
    {
     "name": "stdout",
     "output_type": "stream",
     "text": [
      "2022-02-02 15:57:59,548 Preprocessing INFO     Going from 33160 genes to 13365 genes.\n",
      "2022-02-02 16:00:00,004 Preprocessing INFO     Going from 438464 regions to 391957 regions.\n"
     ]
    }
   ],
   "source": [
    "filter_genes(scplus_obj, min_pct = 0.5)\n",
    "filter_regions(scplus_obj, min_pct = 0.5)"
   ]
  },
  {
   "cell_type": "code",
   "execution_count": 9,
   "id": "39ea0c3d-c156-4297-a90c-e3c009543df6",
   "metadata": {},
   "outputs": [],
   "source": [
    "# Save\n",
    "import pickle\n",
    "with open('/staging/leuven/stg_00002/lcb/cbravo/Multiomics_pipeline/analysis/10x_multiome_mouse_cortex/TEW_cortex/scenicplus_v9_direct_ortho/scplus_obj.pkl', 'wb') as f:\n",
    "  pickle.dump(scplus_obj, f)"
   ]
  },
  {
   "cell_type": "code",
   "execution_count": null,
   "id": "59c7dc13-b749-441e-af3d-0235bc074ba6",
   "metadata": {},
   "outputs": [],
   "source": [
    "# For the downstream analyses\n",
    "outDir = '/staging/leuven/stg_00002/lcb/cbravo/Multiomics_pipeline/analysis/10x_multiome_mouse_cortex/TEW_cortex/scenicplus_v9_direct_ortho/'\n",
    "import pickle\n",
    "infile = open(outDir+'scplus_obj.pkl', 'rb')\n",
    "scplus_obj = pickle.load(infile)\n",
    "infile.close()\n",
    "\n",
    "from scenicplus.wrappers.run_scenicplus import *\n",
    "run_scenicplus(scplus_obj,\n",
    "    variable = ['ACC_consensus_cell_type'],\n",
    "    species = 'mmusculus',\n",
    "    assembly = 'mm10',\n",
    "    tf_file = '/staging/leuven/stg_00002/lcb/cflerin/resources/allTFs_mm.txt',\n",
    "    save_path = '/staging/leuven/stg_00002/lcb/cbravo/Multiomics_pipeline/analysis/10x_multiome_mouse_cortex/TEW_cortex/scenicplus_v9_direct_ortho/',\n",
    "    biomart_host = 'http://nov2020.archive.ensembl.org/',\n",
    "    upstream = [1000, 150000],\n",
    "    downstream = [1000, 150000],\n",
    "    region_ranking = None,\n",
    "    gene_ranking = None,   \n",
    "    calculate_TF_eGRN_correlation = False,\n",
    "    calculate_DEGs_DARs = True,\n",
    "    export_to_loom_file = True,\n",
    "    export_to_UCSC_file = True,\n",
    "    tree_structure = ('Mouse_cortex_TEW', 'SCENIC+'),\n",
    "    path_bedToBigBed = '/data/leuven/software/biomed/haswell_centos7/2018a/software/Kent_tools/20190730-linux.x86_64/bin/',\n",
    "    n_cpu = 20,\n",
    "    _temp_dir = '/scratch/leuven/313/vsc31305/ray_spill'\n",
    "    )"
   ]
  },
  {
   "cell_type": "markdown",
   "id": "845d02a7-506d-4547-a41f-2248c35c6ad3",
   "metadata": {},
   "source": [
    "#### V10: Direct+Orthology == DARs/Topics simplified"
   ]
  },
  {
   "cell_type": "code",
   "execution_count": 2,
   "id": "f1873d4e-f449-495a-8ae0-c7a0b4fc7a97",
   "metadata": {},
   "outputs": [],
   "source": [
    "# Load functions\n",
    "from scenicplus.scenicplus_class import SCENICPLUS, create_SCENICPLUS_object\n",
    "from scenicplus.preprocessing.filtering import *"
   ]
  },
  {
   "cell_type": "code",
   "execution_count": null,
   "id": "ab9422f9-2276-4596-bacf-0a004854544a",
   "metadata": {},
   "outputs": [],
   "source": [
    "outDir = '/staging/leuven/stg_00002/lcb/cbravo/Multiomics_pipeline/analysis/10x_multiome_mouse_cortex/TEW_cortex/pycisTopic/'\n",
    "# Load cisTopic object\n",
    "import pickle\n",
    "infile = open(outDir + 'cisTopicObject.pkl', 'rb')\n",
    "cistopic_obj = pickle.load(infile)\n",
    "infile.close()\n",
    "# Load imputed accessibility\n",
    "import pickle\n",
    "infile = open(outDir + 'DARs/Imputed_accessibility.pkl', 'rb') #Here I am using pycisTopic gene activity matrix, but could be any :)\n",
    "imputed_acc_obj = pickle.load(infile)\n",
    "infile.close()\n",
    "## RNA - Create Anndata\n",
    "from loomxpy.loomxpy import SCopeLoom\n",
    "from pycisTopic.loom import *\n",
    "import itertools\n",
    "import anndata\n",
    "projDir = '/staging/leuven/stg_00002/lcb/cbravo/Multiomics_pipeline/analysis/10x_multiome_mouse_cortex/'\n",
    "path_to_annotated_rna_loom = projDir + 'data/MO_GEX_seurat_Cortex.loom'\n",
    "loom = SCopeLoom.read_loom(path_to_annotated_rna_loom)\n",
    "cell_data = get_metadata(loom)\n",
    "# Fix names\n",
    "cell_data = cell_data.replace('TEW__c14e1d__Multiome_RNA_brain_10x_no_perm', '10x_no_perm')\n",
    "cell_data = cell_data.replace('TEW__3cc0d9__bb22bc__Multiome_brain_TST_NP40_004', 'TST_NP40_004')\n",
    "cell_data = cell_data.replace('TEW__75da5c__5b0f59__Multiome_brain_TST', 'TST')\n",
    "cell_data = cell_data.replace('TEW__c3f7c1__1ac906__Multiome_brain_10xcomplex_UC', '10x_complex_UC')\n",
    "cell_data = cell_data.replace('TEW__d112c8__547ada__Multiome_RNA_brain_10x_complex', '10x_complex')\n",
    "cell_data['barcode'] = [x.split('___')[0] for x in cell_data.index.tolist()]\n",
    "cell_data.index = cell_data['barcode'] + '___' + cell_data['sample_id']\n",
    "expr_mat = loom.ex_mtx\n",
    "expr_mat.index = cell_data.index\n",
    "rna_anndata = anndata.AnnData(X=expr_mat)\n",
    "rna_anndata.obs = cell_data"
   ]
  },
  {
   "cell_type": "code",
   "execution_count": 4,
   "id": "90dab926-3681-4440-83ed-5ae254469769",
   "metadata": {},
   "outputs": [],
   "source": [
    "# Fix region data (bug in old pycistopic versions)\n",
    "from pycisTopic.utils import region_names_to_coordinates\n",
    "fragment_matrix = cistopic_obj.fragment_matrix\n",
    "binary_matrix = cistopic_obj.binary_matrix\n",
    "region_data = region_names_to_coordinates(cistopic_obj.region_names)\n",
    "region_data['Width'] = abs(region_data.End -region_data.Start).astype(np.int32)\n",
    "region_data['cisTopic_nr_frag'] = np.array(\n",
    "fragment_matrix.sum(axis=1)).flatten()\n",
    "region_data['cisTopic_log_nr_frag'] = np.log10(\n",
    "region_data['cisTopic_nr_frag'])\n",
    "region_data['cisTopic_nr_acc'] = np.array(\n",
    "binary_matrix.sum(axis=1)).flatten()\n",
    "region_data['cisTopic_log_nr_acc'] = np.log10(\n",
    "region_data['cisTopic_nr_acc'])\n",
    "cistopic_obj.region_data = region_data"
   ]
  },
  {
   "cell_type": "code",
   "execution_count": 5,
   "id": "61408cb3-6c4a-420f-b8ea-c2fad7c18671",
   "metadata": {},
   "outputs": [],
   "source": [
    "## Precomputed imputed data\n",
    "import pickle\n",
    "infile = open('/staging/leuven/stg_00002/lcb/cbravo/Multiomics_pipeline/analysis/10x_multiome_mouse_cortex/TEW_cortex/pycistarget_clustered_data_set_specific_only_annotated/menr.pkl', 'rb') \n",
    "menr = pickle.load(infile)\n",
    "infile.close()"
   ]
  },
  {
   "cell_type": "code",
   "execution_count": 6,
   "id": "c290a1f4-8d4a-4957-91ba-1d7b47383de9",
   "metadata": {},
   "outputs": [],
   "source": [
    "scplus_obj = create_SCENICPLUS_object(\n",
    "        GEX_anndata = rna_anndata,\n",
    "        cisTopic_obj = cistopic_obj,\n",
    "        imputed_acc_obj = imputed_acc_obj,\n",
    "        menr = menr,\n",
    "        ACC_prefix = 'ACC_',\n",
    "        GEX_prefix = 'GEX_',\n",
    "        bc_transform_func = lambda x: x,\n",
    "        normalize_imputed_acc = False)"
   ]
  },
  {
   "cell_type": "code",
   "execution_count": 8,
   "id": "49d99e78-fd25-4de8-acb5-329d145988b0",
   "metadata": {},
   "outputs": [
    {
     "name": "stdout",
     "output_type": "stream",
     "text": [
      "2022-02-02 15:57:59,548 Preprocessing INFO     Going from 33160 genes to 13365 genes.\n",
      "2022-02-02 16:00:00,004 Preprocessing INFO     Going from 438464 regions to 391957 regions.\n"
     ]
    }
   ],
   "source": [
    "filter_genes(scplus_obj, min_pct = 0.5)\n",
    "filter_regions(scplus_obj, min_pct = 0.5)"
   ]
  },
  {
   "cell_type": "code",
   "execution_count": 9,
   "id": "cfbed7ac-83bd-45f5-ac52-62afeefb32f6",
   "metadata": {},
   "outputs": [],
   "source": [
    "# Save\n",
    "import pickle\n",
    "with open('/staging/leuven/stg_00002/lcb/cbravo/Multiomics_pipeline/analysis/10x_multiome_mouse_cortex/TEW_cortex/scenicplus_v10_direct_ortho_annotated_motifs/scplus_obj.pkl', 'wb') as f:\n",
    "  pickle.dump(scplus_obj, f)"
   ]
  },
  {
   "cell_type": "code",
   "execution_count": null,
   "id": "c4f94e4b-6cc4-43bc-9a03-4596e173e8ea",
   "metadata": {},
   "outputs": [],
   "source": [
    "# For the downstream analyses\n",
    "outDir = '/staging/leuven/stg_00002/lcb/cbravo/Multiomics_pipeline/analysis/10x_multiome_mouse_cortex/TEW_cortex/scenicplus_v10_direct_ortho_annotated_motifs/'\n",
    "import pickle\n",
    "infile = open(outDir+'scplus_obj.pkl', 'rb')\n",
    "scplus_obj = pickle.load(infile)\n",
    "infile.close()\n",
    "\n",
    "from scenicplus.wrappers.run_scenicplus import *\n",
    "run_scenicplus(scplus_obj,\n",
    "    variable = ['ACC_consensus_cell_type'],\n",
    "    species = 'mmusculus',\n",
    "    assembly = 'mm10',\n",
    "    tf_file = '/staging/leuven/stg_00002/lcb/cflerin/resources/allTFs_mm.txt',\n",
    "    save_path = '/staging/leuven/stg_00002/lcb/cbravo/Multiomics_pipeline/analysis/10x_multiome_mouse_cortex/TEW_cortex/scenicplus_v10_direct_ortho_annotated_motifs/',\n",
    "    biomart_host = 'http://nov2020.archive.ensembl.org/',\n",
    "    upstream = [1000, 150000],\n",
    "    downstream = [1000, 150000],\n",
    "    region_ranking = None,\n",
    "    gene_ranking = None,   \n",
    "    calculate_TF_eGRN_correlation = False,\n",
    "    calculate_DEGs_DARs = True,\n",
    "    export_to_loom_file = True,\n",
    "    export_to_UCSC_file = True,\n",
    "    tree_structure = ('Mouse_cortex_TEW', 'SCENIC+'),\n",
    "    path_bedToBigBed = '/data/leuven/software/biomed/haswell_centos7/2018a/software/Kent_tools/20190730-linux.x86_64/bin/',\n",
    "    n_cpu = 20,\n",
    "    _temp_dir = '/scratch/leuven/313/vsc31305/ray_spill'\n",
    "    )"
   ]
  }
 ],
 "metadata": {
  "kernelspec": {
   "display_name": "DEV IMAGE - SCENIC+ latest (use at own risk)",
   "language": "python",
   "name": "pyscenic_plus_dev"
  },
  "language_info": {
   "codemirror_mode": {
    "name": "ipython",
    "version": 3
   },
   "file_extension": ".py",
   "mimetype": "text/x-python",
   "name": "python",
   "nbconvert_exporter": "python",
   "pygments_lexer": "ipython3",
   "version": "3.8.15"
  }
 },
 "nbformat": 4,
 "nbformat_minor": 5
}
